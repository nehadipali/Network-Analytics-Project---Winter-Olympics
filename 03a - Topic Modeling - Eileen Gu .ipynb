{
  "cells": [
    {
      "cell_type": "code",
      "execution_count": null,
      "id": "66f8b848",
      "metadata": {
        "scrolled": true,
        "id": "66f8b848"
      },
      "outputs": [],
      "source": [
        "import pandas as pd"
      ]
    },
    {
      "cell_type": "code",
      "execution_count": null,
      "id": "e576f226",
      "metadata": {
        "id": "e576f226"
      },
      "outputs": [],
      "source": [
        "docs = pd.read_csv('Eileen Gu - English Tweets.csv')"
      ]
    },
    {
      "cell_type": "code",
      "execution_count": null,
      "id": "aa788945",
      "metadata": {
        "id": "aa788945"
      },
      "outputs": [],
      "source": [
        "docs['Tidy_Content'] = docs['Tidy_Content'].str.replace('eileen', '')\n",
        "docs['Tidy_Content'] = docs['Tidy_Content'].str.replace('gu', '')"
      ]
    },
    {
      "cell_type": "code",
      "execution_count": null,
      "id": "f5e5fb81",
      "metadata": {
        "id": "f5e5fb81"
      },
      "outputs": [],
      "source": [
        "docs_positive = docs.loc[docs['Polarity'] == 'Positive']\n",
        "docs_positive = docs_positive['Tidy_Content']\n",
        "docs_positive.lower = [docs_positive]"
      ]
    },
    {
      "cell_type": "code",
      "execution_count": null,
      "id": "8e67312f",
      "metadata": {
        "id": "8e67312f"
      },
      "outputs": [],
      "source": [
        "docs_negative = docs.loc[docs['Polarity'] == 'Negative']\n",
        "docs_negative = docs_negative['Tidy_Content']\n",
        "docs_negative.lower = [docs_negative]"
      ]
    },
    {
      "cell_type": "code",
      "execution_count": null,
      "id": "2b014f69",
      "metadata": {
        "id": "2b014f69"
      },
      "outputs": [],
      "source": [
        "docs_neutral = docs.loc[docs['Polarity'] == 'Neutral']\n",
        "docs_neutral = docs_neutral['Tidy_Content'].dropna()\n",
        "docs_neutral.lower = [docs_neutral]"
      ]
    },
    {
      "cell_type": "code",
      "execution_count": null,
      "id": "903446bb",
      "metadata": {
        "colab": {
          "base_uri": "https://localhost:8080/"
        },
        "id": "903446bb",
        "outputId": "31d8b97a-9b9b-4eae-8477-72980286b558"
      },
      "outputs": [
        {
          "output_type": "execute_result",
          "data": {
            "text/plain": [
              "<9770x1629 sparse matrix of type '<class 'numpy.int64'>'\n",
              "\twith 81883 stored elements in Compressed Sparse Row format>"
            ]
          },
          "metadata": {},
          "execution_count": 7
        }
      ],
      "source": [
        "from sklearn.decomposition import LatentDirichletAllocation\n",
        "from sklearn.feature_extraction.text import CountVectorizer\n",
        "\n",
        "from sklearn.decomposition import LatentDirichletAllocation\n",
        "vectorizer = CountVectorizer(\n",
        "analyzer='word',       \n",
        "min_df=3,# minimum required occurences of a word \n",
        "stop_words='english',# remove stop words\n",
        "token_pattern='[a-zA-Z0-9]{3,}',# num chars > 3\n",
        "max_features=5000,# max number of unique words\n",
        "                            )\n",
        "\n",
        "data_matrix = vectorizer.fit_transform(docs_positive)\n",
        "data_matrix                                     "
      ]
    },
    {
      "cell_type": "code",
      "execution_count": null,
      "id": "c78d1c45",
      "metadata": {
        "id": "c78d1c45"
      },
      "outputs": [],
      "source": [
        "lda_model = LatentDirichletAllocation(\n",
        "n_components=3, # Number of topics\n",
        "learning_method='online',\n",
        "random_state=20,       \n",
        "n_jobs = -1  # Use all available CPUs\n",
        "                                     )\n",
        "lda_output = lda_model.fit_transform(data_matrix)"
      ]
    },
    {
      "cell_type": "markdown",
      "id": "eec42b30",
      "metadata": {
        "id": "eec42b30"
      },
      "source": [
        "## Positive Output"
      ]
    },
    {
      "cell_type": "code",
      "execution_count": null,
      "id": "f87e241a",
      "metadata": {
        "colab": {
          "base_uri": "https://localhost:8080/",
          "height": 1000
        },
        "id": "f87e241a",
        "outputId": "e9e58401-56c6-4654-da4b-c00f9920cef0"
      },
      "outputs": [
        {
          "output_type": "stream",
          "name": "stdout",
          "text": [
            "Collecting pyLDAvis\n",
            "  Downloading pyLDAvis-3.3.1.tar.gz (1.7 MB)\n",
            "\u001b[?25l\r\u001b[K     |▏                               | 10 kB 21.2 MB/s eta 0:00:01\r\u001b[K     |▍                               | 20 kB 13.8 MB/s eta 0:00:01\r\u001b[K     |▋                               | 30 kB 10.0 MB/s eta 0:00:01\r\u001b[K     |▉                               | 40 kB 8.7 MB/s eta 0:00:01\r\u001b[K     |█                               | 51 kB 4.3 MB/s eta 0:00:01\r\u001b[K     |█▏                              | 61 kB 5.0 MB/s eta 0:00:01\r\u001b[K     |█▍                              | 71 kB 5.6 MB/s eta 0:00:01\r\u001b[K     |█▋                              | 81 kB 5.7 MB/s eta 0:00:01\r\u001b[K     |█▉                              | 92 kB 6.3 MB/s eta 0:00:01\r\u001b[K     |██                              | 102 kB 5.0 MB/s eta 0:00:01\r\u001b[K     |██▏                             | 112 kB 5.0 MB/s eta 0:00:01\r\u001b[K     |██▍                             | 122 kB 5.0 MB/s eta 0:00:01\r\u001b[K     |██▋                             | 133 kB 5.0 MB/s eta 0:00:01\r\u001b[K     |██▊                             | 143 kB 5.0 MB/s eta 0:00:01\r\u001b[K     |███                             | 153 kB 5.0 MB/s eta 0:00:01\r\u001b[K     |███▏                            | 163 kB 5.0 MB/s eta 0:00:01\r\u001b[K     |███▍                            | 174 kB 5.0 MB/s eta 0:00:01\r\u001b[K     |███▋                            | 184 kB 5.0 MB/s eta 0:00:01\r\u001b[K     |███▊                            | 194 kB 5.0 MB/s eta 0:00:01\r\u001b[K     |████                            | 204 kB 5.0 MB/s eta 0:00:01\r\u001b[K     |████▏                           | 215 kB 5.0 MB/s eta 0:00:01\r\u001b[K     |████▍                           | 225 kB 5.0 MB/s eta 0:00:01\r\u001b[K     |████▋                           | 235 kB 5.0 MB/s eta 0:00:01\r\u001b[K     |████▊                           | 245 kB 5.0 MB/s eta 0:00:01\r\u001b[K     |█████                           | 256 kB 5.0 MB/s eta 0:00:01\r\u001b[K     |█████▏                          | 266 kB 5.0 MB/s eta 0:00:01\r\u001b[K     |█████▍                          | 276 kB 5.0 MB/s eta 0:00:01\r\u001b[K     |█████▌                          | 286 kB 5.0 MB/s eta 0:00:01\r\u001b[K     |█████▊                          | 296 kB 5.0 MB/s eta 0:00:01\r\u001b[K     |██████                          | 307 kB 5.0 MB/s eta 0:00:01\r\u001b[K     |██████▏                         | 317 kB 5.0 MB/s eta 0:00:01\r\u001b[K     |██████▍                         | 327 kB 5.0 MB/s eta 0:00:01\r\u001b[K     |██████▌                         | 337 kB 5.0 MB/s eta 0:00:01\r\u001b[K     |██████▊                         | 348 kB 5.0 MB/s eta 0:00:01\r\u001b[K     |███████                         | 358 kB 5.0 MB/s eta 0:00:01\r\u001b[K     |███████▏                        | 368 kB 5.0 MB/s eta 0:00:01\r\u001b[K     |███████▎                        | 378 kB 5.0 MB/s eta 0:00:01\r\u001b[K     |███████▌                        | 389 kB 5.0 MB/s eta 0:00:01\r\u001b[K     |███████▊                        | 399 kB 5.0 MB/s eta 0:00:01\r\u001b[K     |████████                        | 409 kB 5.0 MB/s eta 0:00:01\r\u001b[K     |████████▏                       | 419 kB 5.0 MB/s eta 0:00:01\r\u001b[K     |████████▎                       | 430 kB 5.0 MB/s eta 0:00:01\r\u001b[K     |████████▌                       | 440 kB 5.0 MB/s eta 0:00:01\r\u001b[K     |████████▊                       | 450 kB 5.0 MB/s eta 0:00:01\r\u001b[K     |█████████                       | 460 kB 5.0 MB/s eta 0:00:01\r\u001b[K     |█████████▏                      | 471 kB 5.0 MB/s eta 0:00:01\r\u001b[K     |█████████▎                      | 481 kB 5.0 MB/s eta 0:00:01\r\u001b[K     |█████████▌                      | 491 kB 5.0 MB/s eta 0:00:01\r\u001b[K     |█████████▊                      | 501 kB 5.0 MB/s eta 0:00:01\r\u001b[K     |██████████                      | 512 kB 5.0 MB/s eta 0:00:01\r\u001b[K     |██████████                      | 522 kB 5.0 MB/s eta 0:00:01\r\u001b[K     |██████████▎                     | 532 kB 5.0 MB/s eta 0:00:01\r\u001b[K     |██████████▌                     | 542 kB 5.0 MB/s eta 0:00:01\r\u001b[K     |██████████▊                     | 552 kB 5.0 MB/s eta 0:00:01\r\u001b[K     |███████████                     | 563 kB 5.0 MB/s eta 0:00:01\r\u001b[K     |███████████                     | 573 kB 5.0 MB/s eta 0:00:01\r\u001b[K     |███████████▎                    | 583 kB 5.0 MB/s eta 0:00:01\r\u001b[K     |███████████▌                    | 593 kB 5.0 MB/s eta 0:00:01\r\u001b[K     |███████████▊                    | 604 kB 5.0 MB/s eta 0:00:01\r\u001b[K     |███████████▉                    | 614 kB 5.0 MB/s eta 0:00:01\r\u001b[K     |████████████                    | 624 kB 5.0 MB/s eta 0:00:01\r\u001b[K     |████████████▎                   | 634 kB 5.0 MB/s eta 0:00:01\r\u001b[K     |████████████▌                   | 645 kB 5.0 MB/s eta 0:00:01\r\u001b[K     |████████████▊                   | 655 kB 5.0 MB/s eta 0:00:01\r\u001b[K     |████████████▉                   | 665 kB 5.0 MB/s eta 0:00:01\r\u001b[K     |█████████████                   | 675 kB 5.0 MB/s eta 0:00:01\r\u001b[K     |█████████████▎                  | 686 kB 5.0 MB/s eta 0:00:01\r\u001b[K     |█████████████▌                  | 696 kB 5.0 MB/s eta 0:00:01\r\u001b[K     |█████████████▊                  | 706 kB 5.0 MB/s eta 0:00:01\r\u001b[K     |█████████████▉                  | 716 kB 5.0 MB/s eta 0:00:01\r\u001b[K     |██████████████                  | 727 kB 5.0 MB/s eta 0:00:01\r\u001b[K     |██████████████▎                 | 737 kB 5.0 MB/s eta 0:00:01\r\u001b[K     |██████████████▌                 | 747 kB 5.0 MB/s eta 0:00:01\r\u001b[K     |██████████████▋                 | 757 kB 5.0 MB/s eta 0:00:01\r\u001b[K     |██████████████▉                 | 768 kB 5.0 MB/s eta 0:00:01\r\u001b[K     |███████████████                 | 778 kB 5.0 MB/s eta 0:00:01\r\u001b[K     |███████████████▎                | 788 kB 5.0 MB/s eta 0:00:01\r\u001b[K     |███████████████▌                | 798 kB 5.0 MB/s eta 0:00:01\r\u001b[K     |███████████████▋                | 808 kB 5.0 MB/s eta 0:00:01\r\u001b[K     |███████████████▉                | 819 kB 5.0 MB/s eta 0:00:01\r\u001b[K     |████████████████                | 829 kB 5.0 MB/s eta 0:00:01\r\u001b[K     |████████████████▎               | 839 kB 5.0 MB/s eta 0:00:01\r\u001b[K     |████████████████▍               | 849 kB 5.0 MB/s eta 0:00:01\r\u001b[K     |████████████████▋               | 860 kB 5.0 MB/s eta 0:00:01\r\u001b[K     |████████████████▉               | 870 kB 5.0 MB/s eta 0:00:01\r\u001b[K     |█████████████████               | 880 kB 5.0 MB/s eta 0:00:01\r\u001b[K     |█████████████████▎              | 890 kB 5.0 MB/s eta 0:00:01\r\u001b[K     |█████████████████▍              | 901 kB 5.0 MB/s eta 0:00:01\r\u001b[K     |█████████████████▋              | 911 kB 5.0 MB/s eta 0:00:01\r\u001b[K     |█████████████████▉              | 921 kB 5.0 MB/s eta 0:00:01\r\u001b[K     |██████████████████              | 931 kB 5.0 MB/s eta 0:00:01\r\u001b[K     |██████████████████▎             | 942 kB 5.0 MB/s eta 0:00:01\r\u001b[K     |██████████████████▍             | 952 kB 5.0 MB/s eta 0:00:01\r\u001b[K     |██████████████████▋             | 962 kB 5.0 MB/s eta 0:00:01\r\u001b[K     |██████████████████▉             | 972 kB 5.0 MB/s eta 0:00:01\r\u001b[K     |███████████████████             | 983 kB 5.0 MB/s eta 0:00:01\r\u001b[K     |███████████████████▏            | 993 kB 5.0 MB/s eta 0:00:01\r\u001b[K     |███████████████████▍            | 1.0 MB 5.0 MB/s eta 0:00:01\r\u001b[K     |███████████████████▋            | 1.0 MB 5.0 MB/s eta 0:00:01\r\u001b[K     |███████████████████▉            | 1.0 MB 5.0 MB/s eta 0:00:01\r\u001b[K     |████████████████████            | 1.0 MB 5.0 MB/s eta 0:00:01\r\u001b[K     |████████████████████▏           | 1.0 MB 5.0 MB/s eta 0:00:01\r\u001b[K     |████████████████████▍           | 1.1 MB 5.0 MB/s eta 0:00:01\r\u001b[K     |████████████████████▋           | 1.1 MB 5.0 MB/s eta 0:00:01\r\u001b[K     |████████████████████▉           | 1.1 MB 5.0 MB/s eta 0:00:01\r\u001b[K     |█████████████████████           | 1.1 MB 5.0 MB/s eta 0:00:01\r\u001b[K     |█████████████████████▏          | 1.1 MB 5.0 MB/s eta 0:00:01\r\u001b[K     |█████████████████████▍          | 1.1 MB 5.0 MB/s eta 0:00:01\r\u001b[K     |█████████████████████▋          | 1.1 MB 5.0 MB/s eta 0:00:01\r\u001b[K     |█████████████████████▉          | 1.1 MB 5.0 MB/s eta 0:00:01\r\u001b[K     |██████████████████████          | 1.1 MB 5.0 MB/s eta 0:00:01\r\u001b[K     |██████████████████████▏         | 1.1 MB 5.0 MB/s eta 0:00:01\r\u001b[K     |██████████████████████▍         | 1.2 MB 5.0 MB/s eta 0:00:01\r\u001b[K     |██████████████████████▋         | 1.2 MB 5.0 MB/s eta 0:00:01\r\u001b[K     |██████████████████████▉         | 1.2 MB 5.0 MB/s eta 0:00:01\r\u001b[K     |███████████████████████         | 1.2 MB 5.0 MB/s eta 0:00:01\r\u001b[K     |███████████████████████▏        | 1.2 MB 5.0 MB/s eta 0:00:01\r\u001b[K     |███████████████████████▍        | 1.2 MB 5.0 MB/s eta 0:00:01\r\u001b[K     |███████████████████████▋        | 1.2 MB 5.0 MB/s eta 0:00:01\r\u001b[K     |███████████████████████▊        | 1.2 MB 5.0 MB/s eta 0:00:01\r\u001b[K     |████████████████████████        | 1.2 MB 5.0 MB/s eta 0:00:01\r\u001b[K     |████████████████████████▏       | 1.2 MB 5.0 MB/s eta 0:00:01\r\u001b[K     |████████████████████████▍       | 1.3 MB 5.0 MB/s eta 0:00:01\r\u001b[K     |████████████████████████▋       | 1.3 MB 5.0 MB/s eta 0:00:01\r\u001b[K     |████████████████████████▊       | 1.3 MB 5.0 MB/s eta 0:00:01\r\u001b[K     |█████████████████████████       | 1.3 MB 5.0 MB/s eta 0:00:01\r\u001b[K     |█████████████████████████▏      | 1.3 MB 5.0 MB/s eta 0:00:01\r\u001b[K     |█████████████████████████▍      | 1.3 MB 5.0 MB/s eta 0:00:01\r\u001b[K     |█████████████████████████▌      | 1.3 MB 5.0 MB/s eta 0:00:01\r\u001b[K     |█████████████████████████▊      | 1.3 MB 5.0 MB/s eta 0:00:01\r\u001b[K     |██████████████████████████      | 1.3 MB 5.0 MB/s eta 0:00:01\r\u001b[K     |██████████████████████████▏     | 1.4 MB 5.0 MB/s eta 0:00:01\r\u001b[K     |██████████████████████████▍     | 1.4 MB 5.0 MB/s eta 0:00:01\r\u001b[K     |██████████████████████████▌     | 1.4 MB 5.0 MB/s eta 0:00:01\r\u001b[K     |██████████████████████████▊     | 1.4 MB 5.0 MB/s eta 0:00:01\r\u001b[K     |███████████████████████████     | 1.4 MB 5.0 MB/s eta 0:00:01\r\u001b[K     |███████████████████████████▏    | 1.4 MB 5.0 MB/s eta 0:00:01\r\u001b[K     |███████████████████████████▍    | 1.4 MB 5.0 MB/s eta 0:00:01\r\u001b[K     |███████████████████████████▌    | 1.4 MB 5.0 MB/s eta 0:00:01\r\u001b[K     |███████████████████████████▊    | 1.4 MB 5.0 MB/s eta 0:00:01\r\u001b[K     |████████████████████████████    | 1.4 MB 5.0 MB/s eta 0:00:01\r\u001b[K     |████████████████████████████▏   | 1.5 MB 5.0 MB/s eta 0:00:01\r\u001b[K     |████████████████████████████▎   | 1.5 MB 5.0 MB/s eta 0:00:01\r\u001b[K     |████████████████████████████▌   | 1.5 MB 5.0 MB/s eta 0:00:01\r\u001b[K     |████████████████████████████▊   | 1.5 MB 5.0 MB/s eta 0:00:01\r\u001b[K     |█████████████████████████████   | 1.5 MB 5.0 MB/s eta 0:00:01\r\u001b[K     |█████████████████████████████▏  | 1.5 MB 5.0 MB/s eta 0:00:01\r\u001b[K     |█████████████████████████████▎  | 1.5 MB 5.0 MB/s eta 0:00:01\r\u001b[K     |█████████████████████████████▌  | 1.5 MB 5.0 MB/s eta 0:00:01\r\u001b[K     |█████████████████████████████▊  | 1.5 MB 5.0 MB/s eta 0:00:01\r\u001b[K     |██████████████████████████████  | 1.5 MB 5.0 MB/s eta 0:00:01\r\u001b[K     |██████████████████████████████▏ | 1.6 MB 5.0 MB/s eta 0:00:01\r\u001b[K     |██████████████████████████████▎ | 1.6 MB 5.0 MB/s eta 0:00:01\r\u001b[K     |██████████████████████████████▌ | 1.6 MB 5.0 MB/s eta 0:00:01\r\u001b[K     |██████████████████████████████▊ | 1.6 MB 5.0 MB/s eta 0:00:01\r\u001b[K     |███████████████████████████████ | 1.6 MB 5.0 MB/s eta 0:00:01\r\u001b[K     |███████████████████████████████ | 1.6 MB 5.0 MB/s eta 0:00:01\r\u001b[K     |███████████████████████████████▎| 1.6 MB 5.0 MB/s eta 0:00:01\r\u001b[K     |███████████████████████████████▌| 1.6 MB 5.0 MB/s eta 0:00:01\r\u001b[K     |███████████████████████████████▊| 1.6 MB 5.0 MB/s eta 0:00:01\r\u001b[K     |████████████████████████████████| 1.6 MB 5.0 MB/s eta 0:00:01\r\u001b[K     |████████████████████████████████| 1.7 MB 5.0 MB/s \n",
            "\u001b[?25h  Installing build dependencies ... \u001b[?25l\u001b[?25hdone\n",
            "  Getting requirements to build wheel ... \u001b[?25l\u001b[?25hdone\n",
            "  Installing backend dependencies ... \u001b[?25l\u001b[?25hdone\n",
            "    Preparing wheel metadata ... \u001b[?25l\u001b[?25hdone\n",
            "Requirement already satisfied: scipy in /usr/local/lib/python3.7/dist-packages (from pyLDAvis) (1.4.1)\n",
            "Requirement already satisfied: scikit-learn in /usr/local/lib/python3.7/dist-packages (from pyLDAvis) (1.0.2)\n",
            "Requirement already satisfied: jinja2 in /usr/local/lib/python3.7/dist-packages (from pyLDAvis) (2.11.3)\n",
            "Requirement already satisfied: pandas>=1.2.0 in /usr/local/lib/python3.7/dist-packages (from pyLDAvis) (1.3.5)\n",
            "Requirement already satisfied: future in /usr/local/lib/python3.7/dist-packages (from pyLDAvis) (0.16.0)\n",
            "Requirement already satisfied: joblib in /usr/local/lib/python3.7/dist-packages (from pyLDAvis) (1.1.0)\n",
            "Requirement already satisfied: numexpr in /usr/local/lib/python3.7/dist-packages (from pyLDAvis) (2.8.1)\n",
            "Requirement already satisfied: gensim in /usr/local/lib/python3.7/dist-packages (from pyLDAvis) (3.6.0)\n",
            "Requirement already satisfied: sklearn in /usr/local/lib/python3.7/dist-packages (from pyLDAvis) (0.0)\n",
            "Requirement already satisfied: setuptools in /usr/local/lib/python3.7/dist-packages (from pyLDAvis) (57.4.0)\n",
            "Requirement already satisfied: numpy>=1.20.0 in /usr/local/lib/python3.7/dist-packages (from pyLDAvis) (1.21.5)\n",
            "Collecting funcy\n",
            "  Downloading funcy-1.17-py2.py3-none-any.whl (33 kB)\n",
            "Requirement already satisfied: pytz>=2017.3 in /usr/local/lib/python3.7/dist-packages (from pandas>=1.2.0->pyLDAvis) (2018.9)\n",
            "Requirement already satisfied: python-dateutil>=2.7.3 in /usr/local/lib/python3.7/dist-packages (from pandas>=1.2.0->pyLDAvis) (2.8.2)\n",
            "Requirement already satisfied: six>=1.5 in /usr/local/lib/python3.7/dist-packages (from python-dateutil>=2.7.3->pandas>=1.2.0->pyLDAvis) (1.15.0)\n",
            "Requirement already satisfied: smart-open>=1.2.1 in /usr/local/lib/python3.7/dist-packages (from gensim->pyLDAvis) (5.2.1)\n",
            "Requirement already satisfied: MarkupSafe>=0.23 in /usr/local/lib/python3.7/dist-packages (from jinja2->pyLDAvis) (2.0.1)\n",
            "Requirement already satisfied: packaging in /usr/local/lib/python3.7/dist-packages (from numexpr->pyLDAvis) (21.3)\n",
            "Requirement already satisfied: pyparsing!=3.0.5,>=2.0.2 in /usr/local/lib/python3.7/dist-packages (from packaging->numexpr->pyLDAvis) (3.0.7)\n",
            "Requirement already satisfied: threadpoolctl>=2.0.0 in /usr/local/lib/python3.7/dist-packages (from scikit-learn->pyLDAvis) (3.1.0)\n",
            "Building wheels for collected packages: pyLDAvis\n",
            "  Building wheel for pyLDAvis (PEP 517) ... \u001b[?25l\u001b[?25hdone\n",
            "  Created wheel for pyLDAvis: filename=pyLDAvis-3.3.1-py2.py3-none-any.whl size=136898 sha256=86be6b653adba8f172b103b7f1a79b0af6ed0aa00c9955afc4c38de66bd67ca9\n",
            "  Stored in directory: /root/.cache/pip/wheels/c9/21/f6/17bcf2667e8a68532ba2fbf6d5c72fdf4c7f7d9abfa4852d2f\n",
            "Successfully built pyLDAvis\n",
            "Installing collected packages: funcy, pyLDAvis\n",
            "Successfully installed funcy-1.17 pyLDAvis-3.3.1\n"
          ]
        },
        {
          "output_type": "stream",
          "name": "stderr",
          "text": [
            "/usr/local/lib/python3.7/dist-packages/past/types/oldstr.py:5: DeprecationWarning: Using or importing the ABCs from 'collections' instead of from 'collections.abc' is deprecated since Python 3.3,and in 3.9 it will stop working\n",
            "  from collections import Iterable\n",
            "/usr/local/lib/python3.7/dist-packages/past/builtins/misc.py:4: DeprecationWarning: Using or importing the ABCs from 'collections' instead of from 'collections.abc' is deprecated since Python 3.3,and in 3.9 it will stop working\n",
            "  from collections import Mapping\n",
            "/usr/local/lib/python3.7/dist-packages/sklearn/utils/deprecation.py:87: FutureWarning: Function get_feature_names is deprecated; get_feature_names is deprecated in 1.0 and will be removed in 1.2. Please use get_feature_names_out instead.\n",
            "  warnings.warn(msg, category=FutureWarning)\n",
            "/usr/local/lib/python3.7/dist-packages/pyLDAvis/_prepare.py:247: FutureWarning: In a future version of pandas all arguments of DataFrame.drop except for the argument 'labels' will be keyword-only\n",
            "  by='saliency', ascending=False).head(R).drop('saliency', 1)\n",
            "/usr/local/lib/python3.7/dist-packages/sklearn/manifold/_t_sne.py:783: FutureWarning: The default initialization in TSNE will change from 'random' to 'pca' in 1.2.\n",
            "  FutureWarning,\n",
            "/usr/local/lib/python3.7/dist-packages/sklearn/manifold/_t_sne.py:793: FutureWarning: The default learning rate in TSNE will change from 200.0 to 'auto' in 1.2.\n",
            "  FutureWarning,\n",
            "/usr/local/lib/python3.7/dist-packages/sklearn/manifold/_t_sne.py:827: FutureWarning: 'square_distances' has been introduced in 0.24 to help phase out legacy squaring behavior. The 'legacy' setting will be removed in 1.1 (renaming of 0.26), and the default setting will be changed to True. In 1.3, 'square_distances' will be removed altogether, and distances will be squared by default. Set 'square_distances'=True to silence this warning.\n",
            "  FutureWarning,\n"
          ]
        },
        {
          "output_type": "execute_result",
          "data": {
            "text/html": [
              "\n",
              "<link rel=\"stylesheet\" type=\"text/css\" href=\"https://cdn.jsdelivr.net/gh/bmabey/pyLDAvis@3.3.1/pyLDAvis/js/ldavis.v1.0.0.css\">\n",
              "\n",
              "\n",
              "<div id=\"ldavis_el701402122778219045151332504\"></div>\n",
              "<script type=\"text/javascript\">\n",
              "\n",
              "var ldavis_el701402122778219045151332504_data = {\"mdsDat\": {\"x\": [-1015.7005615234375, -387.9960021972656, -2184.74560546875], \"y\": [1338.981201171875, -373.316162109375, -60.565799713134766], \"topics\": [1, 2, 3], \"cluster\": [1, 1, 1], \"Freq\": [36.574688244728435, 33.32615713416185, 30.099154621109715]}, \"tinfo\": {\"Term\": [\"medal\", \"chines\", \"china\", \"olymp\", \"media\", \"win\", \"gold\", \"beij\", \"slopestyl\", \"women\", \"silver\", \"fan\", \"ail\", \"second\", \"download\", \"chen\", \"ignor\", \"american\", \"state\", \"share\", \"genocid\", \"come\", \"mostli\", \"meanwhil\", \"appar\", \"yuzu\", \"piss\", \"poster\", \"soon\", \"dedic\", \"american\", \"freedom\", \"countri\", \"golden\", \"becaus\", \"asian\", \"repres\", \"choos\", \"rais\", \"decis\", \"didn\", \"proud\", \"problem\", \"internet\", \"howev\", \"access\", \"vpn\", \"olympian\", \"darren\", \"averag\", \"treat\", \"doesn\", \"messag\", \"fame\", \"freeskier\", \"comment\", \"hanyu\", \"yuzuru\", \"flag\", \"fairi\", \"just\", \"question\", \"person\", \"china\", \"born\", \"want\", \"athlet\", \"compet\", \"stori\", \"make\", \"like\", \"thi\", \"peopl\", \"support\", \"chines\", \"win\", \"slopestyl\", \"silver\", \"ail\", \"second\", \"freeski\", \"freestyleski\", \"year\", \"final\", \"freestyl\", \"event\", \"jump\", \"cheer\", \"amazing\", \"ski\", \"star\", \"sport\", \"said\", \"captur\", \"bingdwendwen\", \"time\", \"polit\", \"incred\", \"highlight\", \"congratulations\", \"avoid\", \"bei\", \"dump\", \"inspir\", \"doubl\", \"watch\", \"confid\", \"medal\", \"beij\", \"women\", \"good\", \"winter\", \"gold\", \"olymp\", \"champion\", \"winterolymp\", \"china\", \"girl\", \"thi\", \"skier\", \"media\", \"fan\", \"ignor\", \"download\", \"share\", \"genocid\", \"come\", \"mostli\", \"meanwhil\", \"appar\", \"yuzu\", \"piss\", \"poster\", \"soon\", \"dedic\", \"chamiopn\", \"design\", \"journalist\", \"social\", \"play\", \"domin\", \"dure\", \"receiv\", \"summer\", \"osaka\", \"naomi\", \"human\", \"learn\", \"integrity\", \"join\", \"chen\", \"japan\", \"state\", \"chines\", \"meda\", \"olymp\", \"gold\", \"support\", \"like\", \"skier\"], \"Freq\": [1771.0, 1982.0, 2786.0, 2635.0, 913.0, 889.0, 2133.0, 1168.0, 786.0, 1225.0, 744.0, 675.0, 657.0, 592.0, 536.0, 552.0, 525.0, 623.0, 561.0, 512.0, 510.0, 499.0, 477.0, 476.0, 475.0, 472.0, 472.0, 447.0, 444.0, 442.0, 622.5546523135401, 353.76432714698046, 319.1729837442168, 280.696733109608, 256.35238853059116, 264.0104530491012, 281.1622723650926, 215.36936344246251, 214.95369510154893, 210.46356428708216, 201.714498774808, 214.41564159111235, 204.33130992883025, 191.7643662668627, 175.43702349569423, 169.40711894061647, 165.20483779912874, 175.3595787078611, 160.898541173847, 160.8985373235553, 160.42719855133763, 161.7364143413511, 175.32019578288134, 155.24287228975257, 215.26542768394754, 147.7429437038404, 138.14041249803847, 138.14041242603787, 133.50166428372845, 135.6202905662401, 334.5314118400187, 264.8397013889027, 241.7330792474524, 2131.6204046543667, 685.2767884725141, 430.4211992445085, 474.71276545047164, 484.84794741063047, 214.52301937656162, 216.29514109896851, 535.7674481689238, 330.7617621758771, 257.77152577956525, 388.57064838059557, 456.920974269437, 888.824529247035, 785.8012683220119, 743.5972028880044, 656.7064561161344, 591.9051874491676, 478.3654343689237, 394.4880433884546, 408.9794567858329, 274.1719107886212, 260.8301109025851, 246.2048538550911, 230.37534328727065, 202.97170081419526, 197.04022838343397, 197.15935841583558, 186.71700224837872, 185.37311842005192, 133.1481933237783, 110.50364090763604, 106.94372774981859, 119.08142953787191, 106.46180750323393, 96.57723545202897, 104.63907977994903, 91.01258117639624, 91.11770057014292, 89.85039003051435, 92.29746945340462, 88.08794220431369, 83.9637600067041, 153.3393220069401, 91.93510391167366, 1597.1583756757034, 1065.7593754637728, 1050.385396248087, 202.46206473219397, 375.9551622843833, 1166.2274883572236, 1097.289012487801, 187.89636366859034, 141.24697771919494, 654.2797534140941, 197.97455980892087, 217.0019423851591, 168.91705238498616, 913.1500839538423, 674.7880307355059, 524.7115456601877, 535.6305071277095, 511.9541877438304, 509.50086621772857, 498.804936538906, 476.5325821297571, 475.3761787235571, 474.72850830680164, 471.89359601372814, 471.89359600975763, 446.78487620844044, 443.98552370018496, 442.161083107473, 441.1196601501215, 439.90926752233037, 287.1510455725132, 264.2541843403087, 251.11123884706905, 206.53885908580037, 217.26314027591945, 169.8044958259022, 158.66940389621186, 157.54715924534926, 157.5471592512734, 169.05846188104147, 126.89268337228096, 115.97186389866577, 243.59988091684608, 545.3936555624304, 302.00765711032943, 547.5082762925251, 1525.4120347278877, 472.4433719753192, 1532.0326975317219, 966.8424900290336, 535.6279624474676, 591.3025474254587, 349.49284584965454], \"Total\": [1771.0, 1982.0, 2786.0, 2635.0, 913.0, 889.0, 2133.0, 1168.0, 786.0, 1225.0, 744.0, 675.0, 657.0, 592.0, 536.0, 552.0, 525.0, 623.0, 561.0, 512.0, 510.0, 499.0, 477.0, 476.0, 475.0, 472.0, 472.0, 447.0, 444.0, 442.0, 623.2974082399703, 354.4600190812297, 319.9216223898468, 281.3964538293847, 257.0406743271618, 264.73642930826026, 281.9380524623853, 216.0610222977852, 215.65402065162885, 211.1493782686302, 202.40573120859887, 215.1508447101861, 205.04898456573687, 192.49756964200657, 176.12592063893175, 170.0889223981133, 165.8872681356979, 176.0972070614409, 161.57956337864533, 161.57956392926013, 161.12159342773776, 162.4373716983053, 176.08805211744132, 155.92568921609697, 216.24386771250224, 148.44696917512127, 138.83736284593041, 138.83736285568276, 134.18402395622078, 136.31516360299437, 338.9795476590876, 274.5046176862873, 250.25429767667734, 2786.2531265883254, 832.5061734499694, 495.07612321216885, 568.6699241447585, 609.0002610806187, 239.5090392586857, 255.99000502488454, 1227.6135563787118, 548.1038335707601, 379.74898210550697, 924.5843023787992, 1982.7222796086871, 889.5150172928057, 786.4406002295708, 744.2349154211191, 657.3642135094752, 592.5444987991582, 479.0051085692789, 395.1249124882445, 409.6992074326614, 274.8205071223974, 261.50824745367805, 246.84604689660497, 231.03100641457732, 203.62418816990703, 197.6768534400285, 197.8188892447676, 187.4109532392217, 186.1091153556992, 133.81883585569716, 111.14042735662517, 107.5837341595236, 119.80483573319209, 107.11370688354458, 97.2151054796971, 105.33021793714516, 91.64983593879504, 91.75990636432682, 90.48717061847053, 92.95840104460659, 88.7374141712406, 84.61352014680249, 154.64077664536336, 92.66730703618522, 1771.8700475648225, 1168.172919267643, 1225.450555325209, 219.05351869629513, 449.51604126775374, 2133.4337367082126, 2635.797384343514, 258.9039612509348, 172.61293051687164, 2786.2531265883254, 358.84804582674536, 548.1038335707601, 518.7489922775756, 913.8574487166527, 675.5194670457018, 525.3756026860639, 536.3129254830963, 512.6356156971462, 510.1935340039818, 499.48926962937963, 477.1949018342837, 476.0376156422794, 475.38924713026273, 472.5540332220768, 472.5540332194346, 447.4491593079521, 444.64716195501694, 442.8221025063985, 441.7803708026571, 440.56989270910816, 287.8632595406086, 264.95822148080276, 251.85184731826013, 207.20901765986127, 217.98649102741263, 170.47821582463163, 159.33106709197708, 158.20782708128334, 158.20782708869865, 169.81242044914626, 127.56242169383225, 116.63282332291264, 245.13297492685678, 552.5496264488144, 304.3885859380515, 561.1969122351738, 1982.7222796086871, 579.2685551448669, 2635.797384343514, 2133.4337367082126, 924.5843023787992, 1227.6135563787118, 518.7489922775756], \"Category\": [\"Default\", \"Default\", \"Default\", \"Default\", \"Default\", \"Default\", \"Default\", \"Default\", \"Default\", \"Default\", \"Default\", \"Default\", \"Default\", \"Default\", \"Default\", \"Default\", \"Default\", \"Default\", \"Default\", \"Default\", \"Default\", \"Default\", \"Default\", \"Default\", \"Default\", \"Default\", \"Default\", \"Default\", \"Default\", \"Default\", \"Topic1\", \"Topic1\", \"Topic1\", \"Topic1\", \"Topic1\", \"Topic1\", \"Topic1\", \"Topic1\", \"Topic1\", \"Topic1\", \"Topic1\", \"Topic1\", \"Topic1\", \"Topic1\", \"Topic1\", \"Topic1\", \"Topic1\", \"Topic1\", \"Topic1\", \"Topic1\", \"Topic1\", \"Topic1\", \"Topic1\", \"Topic1\", \"Topic1\", \"Topic1\", \"Topic1\", \"Topic1\", \"Topic1\", \"Topic1\", \"Topic1\", \"Topic1\", \"Topic1\", \"Topic1\", \"Topic1\", \"Topic1\", \"Topic1\", \"Topic1\", \"Topic1\", \"Topic1\", \"Topic1\", \"Topic1\", \"Topic1\", \"Topic1\", \"Topic1\", \"Topic2\", \"Topic2\", \"Topic2\", \"Topic2\", \"Topic2\", \"Topic2\", \"Topic2\", \"Topic2\", \"Topic2\", \"Topic2\", \"Topic2\", \"Topic2\", \"Topic2\", \"Topic2\", \"Topic2\", \"Topic2\", \"Topic2\", \"Topic2\", \"Topic2\", \"Topic2\", \"Topic2\", \"Topic2\", \"Topic2\", \"Topic2\", \"Topic2\", \"Topic2\", \"Topic2\", \"Topic2\", \"Topic2\", \"Topic2\", \"Topic2\", \"Topic2\", \"Topic2\", \"Topic2\", \"Topic2\", \"Topic2\", \"Topic2\", \"Topic2\", \"Topic2\", \"Topic2\", \"Topic2\", \"Topic2\", \"Topic2\", \"Topic2\", \"Topic2\", \"Topic3\", \"Topic3\", \"Topic3\", \"Topic3\", \"Topic3\", \"Topic3\", \"Topic3\", \"Topic3\", \"Topic3\", \"Topic3\", \"Topic3\", \"Topic3\", \"Topic3\", \"Topic3\", \"Topic3\", \"Topic3\", \"Topic3\", \"Topic3\", \"Topic3\", \"Topic3\", \"Topic3\", \"Topic3\", \"Topic3\", \"Topic3\", \"Topic3\", \"Topic3\", \"Topic3\", \"Topic3\", \"Topic3\", \"Topic3\", \"Topic3\", \"Topic3\", \"Topic3\", \"Topic3\", \"Topic3\", \"Topic3\", \"Topic3\", \"Topic3\", \"Topic3\", \"Topic3\"], \"logprob\": [30.0, 29.0, 28.0, 27.0, 26.0, 25.0, 24.0, 23.0, 22.0, 21.0, 20.0, 19.0, 18.0, 17.0, 16.0, 15.0, 14.0, 13.0, 12.0, 11.0, 10.0, 9.0, 8.0, 7.0, 6.0, 5.0, 4.0, 3.0, 2.0, 1.0, -3.9029, -4.4681, -4.571, -4.6995, -4.7902, -4.7607, -4.6978, -4.9644, -4.9663, -4.9874, -5.0299, -4.9688, -5.017, -5.0805, -5.1694, -5.2044, -5.2295, -5.1699, -5.256, -5.256, -5.2589, -5.2508, -5.1701, -5.2917, -4.9649, -5.3413, -5.4085, -5.4085, -5.4426, -5.4269, -4.524, -4.7576, -4.8489, -2.6721, -3.8069, -4.272, -4.174, -4.1529, -4.9683, -4.9601, -4.053, -4.5353, -4.7847, -4.3743, -4.2122, -3.4538, -3.577, -3.6322, -3.7565, -3.8604, -4.0733, -4.2661, -4.23, -4.63, -4.6798, -4.7375, -4.804, -4.9306, -4.9603, -4.9597, -5.0141, -5.0213, -5.3523, -5.5387, -5.5714, -5.4639, -5.5759, -5.6734, -5.5932, -5.7327, -5.7316, -5.7456, -5.7187, -5.7654, -5.8133, -5.2111, -5.7226, -2.8677, -3.2723, -3.2868, -4.9332, -4.3142, -3.1822, -3.2431, -5.0078, -5.2932, -3.7602, -4.9556, -4.8638, -5.1143, -3.325, -3.6275, -3.879, -3.8584, -3.9036, -3.9084, -3.9297, -3.9753, -3.9778, -3.9791, -3.9851, -3.9851, -4.0398, -4.0461, -4.0502, -4.0526, -4.0553, -4.4819, -4.565, -4.616, -4.8114, -4.7608, -5.0072, -5.075, -5.0821, -5.0821, -5.0116, -5.2985, -5.3885, -4.6463, -3.8404, -4.4314, -3.8365, -2.8118, -3.9839, -2.8075, -3.2678, -3.8584, -3.7595, -4.2854], \"loglift\": [30.0, 29.0, 28.0, 27.0, 26.0, 25.0, 24.0, 23.0, 22.0, 21.0, 20.0, 19.0, 18.0, 17.0, 16.0, 15.0, 14.0, 13.0, 12.0, 11.0, 10.0, 9.0, 8.0, 7.0, 6.0, 5.0, 4.0, 3.0, 2.0, 1.0, 1.0046, 1.0038, 1.0035, 1.0033, 1.0031, 1.0031, 1.0031, 1.0026, 1.0026, 1.0026, 1.0024, 1.0024, 1.0023, 1.002, 1.0019, 1.0018, 1.0017, 1.0016, 1.0016, 1.0016, 1.0015, 1.0015, 1.0014, 1.0014, 1.0013, 1.0011, 1.0008, 1.0008, 1.0007, 1.0007, 0.9926, 0.97, 0.9712, 0.738, 0.8112, 0.8659, 0.8252, 0.7778, 0.8956, 0.8373, 0.1767, 0.5007, 0.6184, 0.1389, -0.4619, 1.0981, 1.098, 1.098, 1.0978, 1.0977, 1.0975, 1.0972, 1.0971, 1.0965, 1.0962, 1.0962, 1.096, 1.0956, 1.0956, 1.0955, 1.0951, 1.0949, 1.0938, 1.0931, 1.0929, 1.0928, 1.0927, 1.0922, 1.0922, 1.0919, 1.0918, 1.0918, 1.0917, 1.0915, 1.0911, 1.0904, 1.0909, 0.995, 1.0071, 0.9447, 1.0201, 0.9201, 0.4949, 0.2225, 0.7783, 0.8983, -0.3501, 0.5041, 0.1723, -0.0232, 1.1999, 1.1996, 1.1994, 1.1994, 1.1993, 1.1993, 1.1993, 1.1993, 1.1993, 1.1993, 1.1993, 1.1993, 1.1992, 1.1992, 1.1992, 1.1992, 1.1992, 1.1982, 1.198, 1.1977, 1.1974, 1.1973, 1.1967, 1.1965, 1.1965, 1.1965, 1.1962, 1.1954, 1.195, 1.1944, 1.1876, 1.1928, 1.176, 0.9385, 0.9968, 0.6581, 0.4092, 0.6548, 0.4702, 0.8057]}, \"token.table\": {\"Topic\": [1, 2, 2, 1, 3, 1, 1, 2, 3, 1, 2, 1, 2, 2, 3, 2, 1, 2, 3, 2, 3, 2, 3, 2, 1, 3, 1, 2, 1, 3, 1, 3, 1, 1, 2, 2, 2, 1, 1, 1, 3, 3, 1, 1, 3, 2, 3, 2, 3, 2, 1, 1, 3, 2, 1, 1, 2, 1, 3, 2, 2, 3, 1, 2, 2, 3, 1, 1, 2, 1, 2, 1, 3, 3, 2, 2, 3, 1, 1, 3, 2, 3, 3, 2, 1, 2, 3, 3, 1, 2, 3, 1, 2, 3, 3, 2, 3, 2, 3, 3, 1, 3, 3, 1, 2, 3, 1, 3, 1, 2, 3, 1, 2, 3, 3, 2, 3, 1, 1, 1, 2, 1, 3, 1, 2, 2, 3, 2, 2, 2, 3, 2, 3, 3, 2, 2, 2, 3, 1, 2, 3, 1, 3, 1, 2, 2, 1, 1, 1, 2, 1, 2, 2, 2, 3, 1, 2, 2, 3, 2, 3, 1], \"Freq\": [0.9935979228819819, 0.9994459486811264, 0.9965759600668985, 0.9995228469811704, 0.9991812033347147, 0.9972182547366658, 0.8352824368448326, 0.14595461528025497, 0.019343382747985596, 0.996413135948839, 0.9917185359659189, 0.9959513243190561, 0.9946161360208219, 0.9125361343492727, 0.08731584024730377, 0.9945741411182284, 0.8228167211797451, 0.1741728825854935, 0.002402384587386117, 0.9987364871634462, 0.998233577464659, 0.7261379821755092, 0.27423296135351677, 0.996934606956487, 0.012668545348565985, 0.9863367449954946, 0.7651853234923287, 0.2347238281256956, 0.2304911810897662, 0.7691445320829179, 0.9950892470724181, 0.9990204601797699, 0.9969890313180192, 0.7963871791112358, 0.20361239218514068, 0.9927988946962206, 0.9929095788100591, 0.9971192244432803, 0.9964131393443169, 0.9945565633294553, 0.9981434926085546, 0.9987064646982484, 0.9979954559281687, 0.9973074441322676, 0.9989912714117279, 0.99274914758613, 0.9994165244426761, 0.9896900007547818, 0.9954745313676866, 0.996572572632855, 0.9976879783975299, 0.9940632667987501, 0.9992310109907363, 0.9970143890243535, 0.9986285702962611, 0.9987021975498899, 0.9979016746349929, 0.9942478474619406, 0.004624408592846236, 0.998056476387927, 0.9971530205950303, 0.9996206655100801, 0.4486578702945816, 0.5517655796169388, 0.5465367777482899, 0.4532599177380758, 0.9985911200230508, 0.07304151102079791, 0.9221490766375735, 0.9939687499908821, 0.9968649268594296, 0.9936072973538066, 0.9952157772264394, 0.9992850777916912, 0.9977873245249729, 0.9916899294606717, 0.9945742261493525, 0.9974151900050898, 0.006570548609227534, 0.9921528399933576, 0.0040794185290591025, 0.9953781210904211, 0.997001147204453, 0.9955373677733662, 0.9882602130819709, 0.002950030486811853, 0.011800121947247413, 0.9955910080228632, 0.4366194860059423, 0.08227344792276152, 0.48142185863714904, 0.8437829437090829, 0.1523496981696955, 0.00390640251717168, 0.9978203074543187, 0.1847157057804403, 0.81482068344269, 0.9013076338159473, 0.09820133267625224, 0.9990617259640912, 0.9938209770375809, 0.9995915676518451, 0.9986863665817107, 0.002276350995580942, 0.4161928403587155, 0.5812282875383338, 0.9937693102590883, 0.9986863666285198, 0.679396159456509, 0.18169897287790357, 0.13693255927030415, 0.9670163599454276, 0.031967482973402565, 0.9988275769954601, 0.996617664998964, 0.9896025736019441, 0.9989961780045653, 0.9948842245283074, 0.994650986791447, 0.9653753814183574, 0.03278633370854799, 0.9969672689168853, 0.9971948567016705, 0.99667284194456, 0.9938810119632175, 0.9990810836987574, 0.9987601023462214, 0.9996843531306426, 0.9958604092465894, 0.3257837653968307, 0.6727723912632776, 0.9994397539630556, 0.9963834997251739, 0.9985445494531631, 0.9940405103018226, 0.9978072079986855, 0.023164774638945715, 0.9764843463186348, 0.8976696690256675, 0.10438019407275204, 0.9979221435089871, 0.4207296176229347, 0.5797199872645064, 0.6039001731544502, 0.3959103854214976, 0.9932821097890867, 0.9930388385325845, 0.9946513789414381, 0.8685532988544472, 0.1292730491318247, 0.006466599700888034, 0.9893897542358693, 0.9994210133805574, 0.8364551328125708, 0.16239687418967463, 0.1795925711195198, 0.8168565331565255, 0.8568277156815616, 0.14280461928026028, 0.9982933639607386, 0.9988275769898753, 0.9939687499210629], \"Term\": [\"access\", \"ail\", \"amazing\", \"american\", \"appar\", \"asian\", \"athlet\", \"athlet\", \"athlet\", \"averag\", \"avoid\", \"becaus\", \"bei\", \"beij\", \"beij\", \"bingdwendwen\", \"born\", \"born\", \"born\", \"captur\", \"chamiopn\", \"champion\", \"champion\", \"cheer\", \"chen\", \"chen\", \"china\", \"china\", \"chines\", \"chines\", \"choos\", \"come\", \"comment\", \"compet\", \"compet\", \"confid\", \"congratulations\", \"countri\", \"darren\", \"decis\", \"dedic\", \"design\", \"didn\", \"doesn\", \"domin\", \"doubl\", \"download\", \"dump\", \"dure\", \"event\", \"fairi\", \"fame\", \"fan\", \"final\", \"flag\", \"freedom\", \"freeski\", \"freeskier\", \"freeskier\", \"freestyl\", \"freestyleski\", \"genocid\", \"girl\", \"girl\", \"gold\", \"gold\", \"golden\", \"good\", \"good\", \"hanyu\", \"highlight\", \"howev\", \"human\", \"ignor\", \"incred\", \"inspir\", \"integrity\", \"internet\", \"japan\", \"japan\", \"join\", \"join\", \"journalist\", \"jump\", \"just\", \"just\", \"just\", \"learn\", \"like\", \"like\", \"like\", \"make\", \"make\", \"make\", \"meanwhil\", \"meda\", \"meda\", \"medal\", \"medal\", \"media\", \"messag\", \"mostli\", \"naomi\", \"olymp\", \"olymp\", \"olymp\", \"olympian\", \"osaka\", \"peopl\", \"peopl\", \"peopl\", \"person\", \"person\", \"piss\", \"play\", \"polit\", \"poster\", \"problem\", \"proud\", \"question\", \"question\", \"rais\", \"receiv\", \"repres\", \"said\", \"second\", \"share\", \"silver\", \"ski\", \"skier\", \"skier\", \"slopestyl\", \"social\", \"soon\", \"sport\", \"star\", \"state\", \"state\", \"stori\", \"stori\", \"summer\", \"support\", \"support\", \"thi\", \"thi\", \"time\", \"treat\", \"vpn\", \"want\", \"want\", \"watch\", \"watch\", \"win\", \"winter\", \"winter\", \"winterolymp\", \"winterolymp\", \"women\", \"women\", \"year\", \"yuzu\", \"yuzuru\"]}, \"R\": 30, \"lambda.step\": 0.01, \"plot.opts\": {\"xlab\": \"PC1\", \"ylab\": \"PC2\"}, \"topic.order\": [3, 2, 1]};\n",
              "\n",
              "function LDAvis_load_lib(url, callback){\n",
              "  var s = document.createElement('script');\n",
              "  s.src = url;\n",
              "  s.async = true;\n",
              "  s.onreadystatechange = s.onload = callback;\n",
              "  s.onerror = function(){console.warn(\"failed to load library \" + url);};\n",
              "  document.getElementsByTagName(\"head\")[0].appendChild(s);\n",
              "}\n",
              "\n",
              "if(typeof(LDAvis) !== \"undefined\"){\n",
              "   // already loaded: just create the visualization\n",
              "   !function(LDAvis){\n",
              "       new LDAvis(\"#\" + \"ldavis_el701402122778219045151332504\", ldavis_el701402122778219045151332504_data);\n",
              "   }(LDAvis);\n",
              "}else if(typeof define === \"function\" && define.amd){\n",
              "   // require.js is available: use it to load d3/LDAvis\n",
              "   require.config({paths: {d3: \"https://d3js.org/d3.v5\"}});\n",
              "   require([\"d3\"], function(d3){\n",
              "      window.d3 = d3;\n",
              "      LDAvis_load_lib(\"https://cdn.jsdelivr.net/gh/bmabey/pyLDAvis@3.3.1/pyLDAvis/js/ldavis.v3.0.0.js\", function(){\n",
              "        new LDAvis(\"#\" + \"ldavis_el701402122778219045151332504\", ldavis_el701402122778219045151332504_data);\n",
              "      });\n",
              "    });\n",
              "}else{\n",
              "    // require.js not available: dynamically load d3 & LDAvis\n",
              "    LDAvis_load_lib(\"https://d3js.org/d3.v5.js\", function(){\n",
              "         LDAvis_load_lib(\"https://cdn.jsdelivr.net/gh/bmabey/pyLDAvis@3.3.1/pyLDAvis/js/ldavis.v3.0.0.js\", function(){\n",
              "                 new LDAvis(\"#\" + \"ldavis_el701402122778219045151332504\", ldavis_el701402122778219045151332504_data);\n",
              "            })\n",
              "         });\n",
              "}\n",
              "</script>"
            ],
            "text/plain": [
              "PreparedData(topic_coordinates=                 x            y  topics  cluster       Freq\n",
              "topic                                                      \n",
              "2     -1015.700562  1338.981201       1        1  36.574688\n",
              "1      -387.996002  -373.316162       2        1  33.326157\n",
              "0     -2184.745605   -60.565800       3        1  30.099155, topic_info=         Term         Freq        Total Category  logprob  loglift\n",
              "882     medal  1771.000000  1771.000000  Default  30.0000  30.0000\n",
              "252    chines  1982.000000  1982.000000  Default  29.0000  29.0000\n",
              "249     china  2786.000000  2786.000000  Default  28.0000  28.0000\n",
              "972     olymp  2635.000000  2635.000000  Default  27.0000  27.0000\n",
              "884     media   913.000000   913.000000  Default  26.0000  26.0000\n",
              "...       ...          ...          ...      ...      ...      ...\n",
              "972     olymp  1532.032698  2635.797384   Topic3  -2.8075   0.6581\n",
              "619      gold   966.842490  2133.433737   Topic3  -3.2678   0.4092\n",
              "1388  support   535.627962   924.584302   Topic3  -3.8584   0.6548\n",
              "821      like   591.302547  1227.613556   Topic3  -3.7595   0.4702\n",
              "1282    skier   349.492846   518.748992   Topic3  -4.2854   0.8057\n",
              "\n",
              "[160 rows x 6 columns], token_table=      Topic      Freq      Term\n",
              "term                           \n",
              "7         1  0.993598    access\n",
              "31        2  0.999446       ail\n",
              "45        2  0.996576   amazing\n",
              "50        1  0.999523  american\n",
              "68        3  0.999181     appar\n",
              "...     ...       ...       ...\n",
              "1594      2  0.856828     women\n",
              "1594      3  0.142805     women\n",
              "1616      2  0.998293      year\n",
              "1624      3  0.998828      yuzu\n",
              "1625      1  0.993969    yuzuru\n",
              "\n",
              "[162 rows x 3 columns], R=30, lambda_step=0.01, plot_opts={'xlab': 'PC1', 'ylab': 'PC2'}, topic_order=[3, 2, 1])"
            ]
          },
          "metadata": {},
          "execution_count": 9
        }
      ],
      "source": [
        "!pip install pyLDAvis\n",
        "import pyLDAvis\n",
        "import pyLDAvis.sklearn\n",
        "pyLDAvis.enable_notebook()\n",
        "pyLDAvis.sklearn.prepare(lda_model, data_matrix, vectorizer, mds='tsne')"
      ]
    },
    {
      "cell_type": "code",
      "execution_count": null,
      "id": "293b8bf6",
      "metadata": {
        "colab": {
          "base_uri": "https://localhost:8080/"
        },
        "id": "293b8bf6",
        "outputId": "b9192a57-be9a-4c69-d4f7-8856269d979a"
      },
      "outputs": [
        {
          "output_type": "execute_result",
          "data": {
            "text/plain": [
              "<5434x1206 sparse matrix of type '<class 'numpy.int64'>'\n",
              "\twith 44233 stored elements in Compressed Sparse Row format>"
            ]
          },
          "metadata": {},
          "execution_count": 10
        }
      ],
      "source": [
        "from sklearn.decomposition import LatentDirichletAllocation\n",
        "from sklearn.feature_extraction.text import CountVectorizer\n",
        "\n",
        "from sklearn.decomposition import LatentDirichletAllocation\n",
        "vectorizer = CountVectorizer(\n",
        "analyzer='word',       \n",
        "min_df=3,# minimum required occurences of a word \n",
        "stop_words='english',# remove stop words\n",
        "token_pattern='[a-zA-Z0-9]{3,}',# num chars > 3\n",
        "max_features=5000,# max number of unique words\n",
        "                            )\n",
        "\n",
        "data_matrix = vectorizer.fit_transform(docs_negative)\n",
        "data_matrix  "
      ]
    },
    {
      "cell_type": "code",
      "execution_count": null,
      "id": "17c94541",
      "metadata": {
        "id": "17c94541"
      },
      "outputs": [],
      "source": [
        "lda_model = LatentDirichletAllocation(\n",
        "n_components=4, # Number of topics\n",
        "learning_method='online',\n",
        "random_state=20,       \n",
        "n_jobs = -1  # Use all available CPUs\n",
        "                                     )\n",
        "lda_output = lda_model.fit_transform(data_matrix)"
      ]
    },
    {
      "cell_type": "markdown",
      "id": "5199bfe3",
      "metadata": {
        "id": "5199bfe3"
      },
      "source": [
        "## Negative Output"
      ]
    },
    {
      "cell_type": "code",
      "execution_count": null,
      "id": "ac447118",
      "metadata": {
        "scrolled": false,
        "colab": {
          "base_uri": "https://localhost:8080/",
          "height": 1000
        },
        "id": "ac447118",
        "outputId": "9e3a52b0-1268-41da-ce52-6a01df9d2306"
      },
      "outputs": [
        {
          "output_type": "stream",
          "name": "stdout",
          "text": [
            "Requirement already satisfied: pyLDAvis in /usr/local/lib/python3.7/dist-packages (3.3.1)\n",
            "Requirement already satisfied: numexpr in /usr/local/lib/python3.7/dist-packages (from pyLDAvis) (2.8.1)\n",
            "Requirement already satisfied: pandas>=1.2.0 in /usr/local/lib/python3.7/dist-packages (from pyLDAvis) (1.3.5)\n",
            "Requirement already satisfied: gensim in /usr/local/lib/python3.7/dist-packages (from pyLDAvis) (3.6.0)\n",
            "Requirement already satisfied: future in /usr/local/lib/python3.7/dist-packages (from pyLDAvis) (0.16.0)\n",
            "Requirement already satisfied: funcy in /usr/local/lib/python3.7/dist-packages (from pyLDAvis) (1.17)\n",
            "Requirement already satisfied: scikit-learn in /usr/local/lib/python3.7/dist-packages (from pyLDAvis) (1.0.2)\n",
            "Requirement already satisfied: setuptools in /usr/local/lib/python3.7/dist-packages (from pyLDAvis) (57.4.0)\n",
            "Requirement already satisfied: jinja2 in /usr/local/lib/python3.7/dist-packages (from pyLDAvis) (2.11.3)\n",
            "Requirement already satisfied: sklearn in /usr/local/lib/python3.7/dist-packages (from pyLDAvis) (0.0)\n",
            "Requirement already satisfied: numpy>=1.20.0 in /usr/local/lib/python3.7/dist-packages (from pyLDAvis) (1.21.5)\n",
            "Requirement already satisfied: scipy in /usr/local/lib/python3.7/dist-packages (from pyLDAvis) (1.4.1)\n",
            "Requirement already satisfied: joblib in /usr/local/lib/python3.7/dist-packages (from pyLDAvis) (1.1.0)\n",
            "Requirement already satisfied: pytz>=2017.3 in /usr/local/lib/python3.7/dist-packages (from pandas>=1.2.0->pyLDAvis) (2018.9)\n",
            "Requirement already satisfied: python-dateutil>=2.7.3 in /usr/local/lib/python3.7/dist-packages (from pandas>=1.2.0->pyLDAvis) (2.8.2)\n",
            "Requirement already satisfied: six>=1.5 in /usr/local/lib/python3.7/dist-packages (from python-dateutil>=2.7.3->pandas>=1.2.0->pyLDAvis) (1.15.0)\n",
            "Requirement already satisfied: smart-open>=1.2.1 in /usr/local/lib/python3.7/dist-packages (from gensim->pyLDAvis) (5.2.1)\n",
            "Requirement already satisfied: MarkupSafe>=0.23 in /usr/local/lib/python3.7/dist-packages (from jinja2->pyLDAvis) (2.0.1)\n",
            "Requirement already satisfied: packaging in /usr/local/lib/python3.7/dist-packages (from numexpr->pyLDAvis) (21.3)\n",
            "Requirement already satisfied: pyparsing!=3.0.5,>=2.0.2 in /usr/local/lib/python3.7/dist-packages (from packaging->numexpr->pyLDAvis) (3.0.7)\n",
            "Requirement already satisfied: threadpoolctl>=2.0.0 in /usr/local/lib/python3.7/dist-packages (from scikit-learn->pyLDAvis) (3.1.0)\n"
          ]
        },
        {
          "output_type": "stream",
          "name": "stderr",
          "text": [
            "/usr/local/lib/python3.7/dist-packages/sklearn/utils/deprecation.py:87: FutureWarning: Function get_feature_names is deprecated; get_feature_names is deprecated in 1.0 and will be removed in 1.2. Please use get_feature_names_out instead.\n",
            "  warnings.warn(msg, category=FutureWarning)\n",
            "/usr/local/lib/python3.7/dist-packages/pyLDAvis/_prepare.py:247: FutureWarning: In a future version of pandas all arguments of DataFrame.drop except for the argument 'labels' will be keyword-only\n",
            "  by='saliency', ascending=False).head(R).drop('saliency', 1)\n",
            "/usr/local/lib/python3.7/dist-packages/sklearn/manifold/_t_sne.py:783: FutureWarning: The default initialization in TSNE will change from 'random' to 'pca' in 1.2.\n",
            "  FutureWarning,\n",
            "/usr/local/lib/python3.7/dist-packages/sklearn/manifold/_t_sne.py:793: FutureWarning: The default learning rate in TSNE will change from 200.0 to 'auto' in 1.2.\n",
            "  FutureWarning,\n",
            "/usr/local/lib/python3.7/dist-packages/sklearn/manifold/_t_sne.py:827: FutureWarning: 'square_distances' has been introduced in 0.24 to help phase out legacy squaring behavior. The 'legacy' setting will be removed in 1.1 (renaming of 0.26), and the default setting will be changed to True. In 1.3, 'square_distances' will be removed altogether, and distances will be squared by default. Set 'square_distances'=True to silence this warning.\n",
            "  FutureWarning,\n"
          ]
        },
        {
          "output_type": "execute_result",
          "data": {
            "text/html": [
              "\n",
              "<link rel=\"stylesheet\" type=\"text/css\" href=\"https://cdn.jsdelivr.net/gh/bmabey/pyLDAvis@3.3.1/pyLDAvis/js/ldavis.v1.0.0.css\">\n",
              "\n",
              "\n",
              "<div id=\"ldavis_el701402122778225441822455385\"></div>\n",
              "<script type=\"text/javascript\">\n",
              "\n",
              "var ldavis_el701402122778225441822455385_data = {\"mdsDat\": {\"x\": [269.5624084472656, 1.782994270324707, 220.81143188476562, 50.533992767333984], \"y\": [-124.80339813232422, -295.0796813964844, -343.8321228027344, -76.05093383789062], \"topics\": [1, 2, 3, 4], \"cluster\": [1, 1, 1, 1], \"Freq\": [33.21452694266107, 26.823928281692787, 24.711002527802048, 15.250542247844104]}, \"tinfo\": {\"Term\": [\"china\", \"racist\", \"peopl\", \"asian\", \"mainstream\", \"total\", \"treason\", \"yellow\", \"peril\", \"respect\", \"bait\", \"quie\", \"loss\", \"skier\", \"comment\", \"vitriol\", \"societi\", \"olymp\", \"media\", \"american\", \"gold\", \"chines\", \"internet\", \"use\", \"compet\", \"tweet\", \"cultur\", \"just\", \"team\", \"controversi\", \"racist\", \"mainstream\", \"total\", \"treason\", \"yellow\", \"peril\", \"respect\", \"bait\", \"quie\", \"ail\", \"trick\", \"freeski\", \"want\", \"histor\", \"spectacular\", \"bravo\", \"mani\", \"claim\", \"repres\", \"doesn\", \"close\", \"entir\", \"make\", \"hypocrit\", \"water\", \"pandem\", \"island\", \"poison\", \"oahu\", \"ongo\", \"live\", \"media\", \"beij\", \"women\", \"year\", \"gold\", \"becaus\", \"attack\", \"american\", \"skier\", \"internet\", \"compet\", \"born\", \"medalist\", \"athlet\", \"choic\", \"choos\", \"pay\", \"defend\", \"restrict\", \"draconian\", \"communist\", \"winter\", \"anti\", \"citizenship\", \"say\", \"decis\", \"type\", \"ski\", \"compani\", \"censorship\", \"woman\", \"human\", \"cancel\", \"defens\", \"freestyl\", \"wrong\", \"corpor\", \"idiot\", \"china\", \"olymp\", \"gold\", \"receiv\", \"chines\", \"thi\", \"propaganda\", \"beij\", \"censor\", \"critic\", \"traitor\", \"post\", \"media\", \"peopl\", \"loss\", \"comment\", \"vitriol\", \"use\", \"cultur\", \"tweet\", \"controversi\", \"read\", \"lanag\", \"west\", \"team\", \"yearn\", \"alien\", \"elegi\", \"opinion\", \"news\", \"simpli\", \"like\", \"arrest\", \"sentenc\", \"wrote\", \"succ\", \"glorif\", \"western\", \"respond\", \"know\", \"hockey\", \"obsess\", \"racism\", \"home\", \"american\", \"censor\", \"chines\", \"china\", \"asian\", \"media\", \"societi\", \"violenc\", \"reflect\", \"everi\", \"level\", \"time\", \"feel\", \"report\", \"target\", \"lowest\", \"feminist\", \"attitud\", \"stori\", \"larg\", \"miss\", \"breakingview\", \"male\", \"join\", \"drop\", \"ironi\", \"tower\", \"onslaught\", \"heart\", \"cefaan\", \"terror\", \"mini\", \"hell\", \"fuck\", \"strike\", \"believ\", \"hate\", \"asian\", \"betray\", \"just\", \"women\", \"journalist\", \"white\", \"doe\", \"american\", \"critic\"], \"Freq\": [1776.0, 691.0, 489.0, 592.0, 534.0, 531.0, 529.0, 527.0, 527.0, 526.0, 526.0, 524.0, 268.0, 281.0, 258.0, 251.0, 167.0, 610.0, 981.0, 665.0, 478.0, 426.0, 212.0, 187.0, 199.0, 186.0, 183.0, 314.0, 173.0, 171.0, 690.4860378893316, 533.4538515516978, 531.1998566632516, 528.423584581848, 526.4133626398547, 526.4133624811877, 525.7914833594738, 525.7914832161184, 523.7647395757407, 188.76700598670226, 193.7679524694801, 172.80520900176705, 170.8342889557655, 166.97438999342017, 161.46856647365095, 160.11080927262304, 138.34197419496007, 125.3825581107518, 126.5761595765959, 106.8299039477069, 103.89735856990032, 100.70775859817047, 105.10366923029007, 98.25654506794282, 97.37241458105937, 96.3880282747694, 95.69908302405088, 95.69908219154284, 95.69908185172599, 95.6990818062361, 121.50862400965744, 626.0164240935609, 255.03639757105736, 206.69342550680744, 115.49018367952347, 174.12905851634443, 104.65875659126034, 111.82338395726283, 113.52229406286673, 280.4376697661908, 211.27229813497848, 198.5209625987406, 150.07840451900364, 149.20323234358682, 144.99614728184596, 144.3202042162587, 138.82147180823972, 128.66324538301484, 126.4984689310539, 125.86414521690892, 118.75791803501657, 98.516361549544, 91.91705020495905, 95.73287966934777, 89.04211443168552, 76.51325491157675, 70.99704147294078, 62.30247746519584, 61.24019272971269, 62.13825696873971, 59.565415759689856, 60.23711171227517, 56.215154938763746, 55.64443890385356, 51.78824484270742, 52.739825834286385, 49.76915781634743, 49.6277837707216, 47.45481148498943, 1251.415798441029, 412.7494053080936, 304.2506664151472, 94.03609895520385, 202.68010085961143, 142.02584003986894, 102.10806751231527, 132.3764887235213, 118.04059325169129, 102.34189753105316, 67.89244077144245, 70.76762827995887, 87.09006823924172, 488.45955229594637, 267.98643881815383, 257.31955837234295, 250.76834769470884, 186.87711830171588, 182.8984558793653, 185.68447220428536, 171.20516255299873, 167.64173044467955, 166.9277847803319, 170.825880005504, 172.35372374057536, 162.4674187758956, 162.46741700594367, 162.4674147009209, 162.20586122744055, 159.47043086410764, 157.59107944812132, 161.69748259813525, 155.8325387808434, 155.53046846497605, 154.25052944240286, 149.02704719187977, 148.83404062108377, 127.34868174307164, 94.78288460943143, 81.28424956663656, 76.24511024775188, 68.39096131714489, 70.13224569870663, 188.2510973134706, 421.1096747824278, 194.19968491411782, 223.16858590522295, 521.1160447778026, 262.9181788763008, 268.4780914941344, 166.9877578878437, 117.90341965138272, 113.57765384470547, 96.76748731076401, 88.16646003506322, 86.73043338191133, 86.82823115341832, 85.10790116379638, 83.74749917137164, 83.34308275507355, 82.90679066744816, 81.9193470737029, 81.83629751913966, 81.01351328940082, 77.3713770114131, 75.42382707823091, 75.25556702944876, 74.05955167580704, 72.64613015275968, 71.28585834460266, 69.06346994586856, 68.80273747860632, 66.97721708868222, 66.97721713065755, 66.97721713351989, 66.9772172937612, 61.98027564091688, 66.52341095505174, 50.13235977174218, 47.81952168233167, 121.32685100786328, 329.24728484599103, 87.88285660091391, 157.1023928513824, 137.66852077775113, 80.76803764255007, 94.11871190126595, 84.65606415952797, 99.89892996059211, 84.7862026764764], \"Total\": [1776.0, 691.0, 489.0, 592.0, 534.0, 531.0, 529.0, 527.0, 527.0, 526.0, 526.0, 524.0, 268.0, 281.0, 258.0, 251.0, 167.0, 610.0, 981.0, 665.0, 478.0, 426.0, 212.0, 187.0, 199.0, 186.0, 183.0, 314.0, 173.0, 171.0, 691.274950881294, 534.2331873594605, 531.9771328413907, 529.2006826493308, 527.1904551682935, 527.1904552501602, 526.5684897863335, 526.5684897717226, 524.5417459723373, 189.5525537159148, 194.59529547350297, 173.58282442049952, 171.6260664192549, 167.75171754633308, 162.24612014186562, 160.8878477295776, 139.1854573251693, 126.16198171772399, 127.3959757806215, 107.61848044732052, 104.67642645745515, 101.48628305663755, 105.93084577968143, 99.03392107059288, 98.14975450037318, 97.16515079951654, 96.47608676588108, 96.47608690325384, 96.47608695114266, 96.47608717230814, 122.53674404467854, 981.8660455958556, 387.9554332361033, 394.1716650168662, 146.81257764703585, 478.94690203274723, 143.74775840334402, 240.14659413798867, 665.0888807992744, 281.1776668739716, 212.01887524122273, 199.26947873448086, 150.82094279237668, 149.94526018315725, 145.7437549987956, 145.0735318400073, 139.59566704439774, 129.40030048398543, 127.23517742935077, 126.60116778356978, 119.49450949617533, 99.2600183999161, 92.6592253463569, 96.508100346431, 89.79374551449038, 77.26155246778615, 71.73504302965641, 63.04114580561092, 61.98872927295873, 62.906172888470515, 60.302607741315946, 60.98659892179089, 56.97194251360782, 56.42134204458998, 52.52506744832668, 53.49186853368869, 50.517178918358496, 50.37388020083633, 48.19916833829797, 1776.194111146509, 610.4842794885591, 478.94690203274723, 116.83168446037158, 426.3428998004694, 267.5805255318748, 165.08249239881988, 387.9554332361033, 312.73169892572196, 329.81741433592657, 105.80462350235825, 140.3539898663052, 981.8660455958556, 489.21643745660384, 268.72999893208515, 258.06898296262335, 251.70608843597952, 187.62654198981974, 183.66426179541298, 186.46479271851064, 171.961583285196, 168.38758624386512, 167.67276321032477, 171.59048067555776, 173.127611684328, 163.2109873751838, 163.2109870602137, 163.21098683162984, 162.9519596470186, 160.2152751330688, 158.33537255808955, 162.464179347256, 156.57611267302215, 156.27398654484898, 154.99500718670814, 149.77105390383034, 149.5776134653859, 128.15808601179828, 95.5264652363039, 82.04234784657477, 76.98899874647516, 69.14176045681897, 70.91828465900748, 221.29026094975873, 665.0888807992744, 312.73169892572196, 426.3428998004694, 1776.194111146509, 592.648302326895, 981.8660455958556, 167.70175042308264, 118.61743224160564, 114.29296621500566, 97.49081774747089, 88.88190450852358, 87.44993980761865, 87.55009114192934, 85.82698838693828, 84.46147527231277, 84.05798859112909, 83.62095290122141, 82.63317508285743, 82.55313578850703, 81.72734102113108, 78.09318121677873, 76.14225548707596, 75.97367235114142, 74.77570871213865, 73.36056672130663, 72.00147116343292, 69.77817024920957, 69.51659641525207, 67.691042411022, 67.69104245946731, 67.69104248296858, 67.69104277390761, 62.70331672770062, 67.33744469230992, 50.854906322580185, 48.53657837260418, 126.4549500488045, 592.648302326895, 109.53388298597483, 314.76919319341994, 394.1716650168662, 115.66310269583283, 208.83269375963545, 195.17323016462797, 665.0888807992744, 329.81741433592657], \"Category\": [\"Default\", \"Default\", \"Default\", \"Default\", \"Default\", \"Default\", \"Default\", \"Default\", \"Default\", \"Default\", \"Default\", \"Default\", \"Default\", \"Default\", \"Default\", \"Default\", \"Default\", \"Default\", \"Default\", \"Default\", \"Default\", \"Default\", \"Default\", \"Default\", \"Default\", \"Default\", \"Default\", \"Default\", \"Default\", \"Default\", \"Topic1\", \"Topic1\", \"Topic1\", \"Topic1\", \"Topic1\", \"Topic1\", \"Topic1\", \"Topic1\", \"Topic1\", \"Topic1\", \"Topic1\", \"Topic1\", \"Topic1\", \"Topic1\", \"Topic1\", \"Topic1\", \"Topic1\", \"Topic1\", \"Topic1\", \"Topic1\", \"Topic1\", \"Topic1\", \"Topic1\", \"Topic1\", \"Topic1\", \"Topic1\", \"Topic1\", \"Topic1\", \"Topic1\", \"Topic1\", \"Topic1\", \"Topic1\", \"Topic1\", \"Topic1\", \"Topic1\", \"Topic1\", \"Topic1\", \"Topic1\", \"Topic1\", \"Topic2\", \"Topic2\", \"Topic2\", \"Topic2\", \"Topic2\", \"Topic2\", \"Topic2\", \"Topic2\", \"Topic2\", \"Topic2\", \"Topic2\", \"Topic2\", \"Topic2\", \"Topic2\", \"Topic2\", \"Topic2\", \"Topic2\", \"Topic2\", \"Topic2\", \"Topic2\", \"Topic2\", \"Topic2\", \"Topic2\", \"Topic2\", \"Topic2\", \"Topic2\", \"Topic2\", \"Topic2\", \"Topic2\", \"Topic2\", \"Topic2\", \"Topic2\", \"Topic2\", \"Topic2\", \"Topic2\", \"Topic2\", \"Topic2\", \"Topic2\", \"Topic2\", \"Topic2\", \"Topic2\", \"Topic2\", \"Topic2\", \"Topic3\", \"Topic3\", \"Topic3\", \"Topic3\", \"Topic3\", \"Topic3\", \"Topic3\", \"Topic3\", \"Topic3\", \"Topic3\", \"Topic3\", \"Topic3\", \"Topic3\", \"Topic3\", \"Topic3\", \"Topic3\", \"Topic3\", \"Topic3\", \"Topic3\", \"Topic3\", \"Topic3\", \"Topic3\", \"Topic3\", \"Topic3\", \"Topic3\", \"Topic3\", \"Topic3\", \"Topic3\", \"Topic3\", \"Topic3\", \"Topic3\", \"Topic3\", \"Topic3\", \"Topic3\", \"Topic3\", \"Topic3\", \"Topic3\", \"Topic4\", \"Topic4\", \"Topic4\", \"Topic4\", \"Topic4\", \"Topic4\", \"Topic4\", \"Topic4\", \"Topic4\", \"Topic4\", \"Topic4\", \"Topic4\", \"Topic4\", \"Topic4\", \"Topic4\", \"Topic4\", \"Topic4\", \"Topic4\", \"Topic4\", \"Topic4\", \"Topic4\", \"Topic4\", \"Topic4\", \"Topic4\", \"Topic4\", \"Topic4\", \"Topic4\", \"Topic4\", \"Topic4\", \"Topic4\", \"Topic4\", \"Topic4\", \"Topic4\", \"Topic4\", \"Topic4\", \"Topic4\", \"Topic4\", \"Topic4\", \"Topic4\", \"Topic4\"], \"logprob\": [30.0, 29.0, 28.0, 27.0, 26.0, 25.0, 24.0, 23.0, 22.0, 21.0, 20.0, 19.0, 18.0, 17.0, 16.0, 15.0, 14.0, 13.0, 12.0, 11.0, 10.0, 9.0, 8.0, 7.0, 6.0, 5.0, 4.0, 3.0, 2.0, 1.0, -3.0724, -3.3304, -3.3346, -3.3399, -3.3437, -3.3437, -3.3449, -3.3449, -3.3487, -4.3693, -4.3431, -4.4576, -4.4691, -4.4919, -4.5255, -4.5339, -4.68, -4.7784, -4.7689, -4.9385, -4.9664, -4.9975, -4.9548, -5.0222, -5.0312, -5.0414, -5.0486, -5.0486, -5.0486, -5.0486, -4.8098, -3.1704, -4.0684, -4.2785, -4.8606, -4.45, -4.9591, -4.8928, -4.8778, -3.7597, -4.0429, -4.1052, -4.3849, -4.3908, -4.4194, -4.424, -4.4629, -4.5389, -4.5558, -4.5609, -4.619, -4.8058, -4.8752, -4.8345, -4.907, -5.0586, -5.1334, -5.2641, -5.2813, -5.2667, -5.309, -5.2978, -5.3669, -5.3771, -5.4489, -5.4307, -5.4887, -5.4915, -5.5363, -2.264, -3.3732, -3.6782, -4.8524, -4.0844, -4.4401, -4.77, -4.5104, -4.625, -4.7678, -5.1781, -5.1367, -4.9291, -3.1228, -3.7231, -3.7637, -3.7895, -4.0836, -4.1051, -4.09, -4.1712, -4.1922, -4.1965, -4.1734, -4.1645, -4.2235, -4.2235, -4.2235, -4.2252, -4.2422, -4.254, -4.2283, -4.2652, -4.2672, -4.2754, -4.3099, -4.3112, -4.4671, -4.7624, -4.9161, -4.9801, -5.0888, -5.0636, -4.0762, -3.2711, -4.0451, -3.9061, -3.0581, -3.7422, -3.7213, -3.7135, -4.0615, -4.0989, -4.2591, -4.3522, -4.3686, -4.3675, -4.3875, -4.4036, -4.4084, -4.4137, -4.4257, -4.4267, -4.4368, -4.4828, -4.5083, -4.5105, -4.5265, -4.5458, -4.5647, -4.5964, -4.6001, -4.627, -4.627, -4.627, -4.627, -4.7046, -4.6338, -4.9167, -4.964, -4.0329, -3.0346, -4.3554, -3.7745, -3.9065, -4.4398, -4.2868, -4.3928, -4.2272, -4.3913], \"loglift\": [30.0, 29.0, 28.0, 27.0, 26.0, 25.0, 24.0, 23.0, 22.0, 21.0, 20.0, 19.0, 18.0, 17.0, 16.0, 15.0, 14.0, 13.0, 12.0, 11.0, 10.0, 9.0, 8.0, 7.0, 6.0, 5.0, 4.0, 3.0, 2.0, 1.0, 1.101, 1.1007, 1.1007, 1.1007, 1.1007, 1.1007, 1.1007, 1.1007, 1.1007, 1.098, 1.0979, 1.0977, 1.0976, 1.0975, 1.0974, 1.0973, 1.0961, 1.096, 1.0957, 1.0948, 1.0947, 1.0945, 1.0943, 1.0943, 1.0942, 1.0942, 1.0941, 1.0941, 1.0941, 1.0941, 1.0938, 0.6521, 0.6827, 0.4566, 0.8622, 0.0904, 0.7848, 0.3379, -0.6657, 1.3132, 1.3123, 1.3121, 1.3109, 1.3109, 1.3107, 1.3107, 1.3103, 1.3102, 1.3101, 1.31, 1.3097, 1.3084, 1.3078, 1.3078, 1.3075, 1.3061, 1.3055, 1.3041, 1.3037, 1.3036, 1.3036, 1.3035, 1.3025, 1.302, 1.3017, 1.3017, 1.301, 1.301, 1.3003, 0.9657, 0.9245, 0.8621, 1.0988, 0.5723, 0.6825, 0.8355, 0.2406, 0.3416, 0.1457, 0.8722, 0.6311, -1.1066, 1.3964, 1.3952, 1.395, 1.3942, 1.3939, 1.3937, 1.3937, 1.3935, 1.3935, 1.3935, 1.3935, 1.3934, 1.3934, 1.3934, 1.3934, 1.3933, 1.3933, 1.3932, 1.3932, 1.3932, 1.3932, 1.3931, 1.3929, 1.3929, 1.3916, 1.3901, 1.3886, 1.3882, 1.387, 1.3868, 1.2362, 0.9409, 0.9215, 0.7506, 0.1717, 0.5852, 0.1012, 1.8763, 1.8745, 1.8743, 1.8731, 1.8725, 1.8723, 1.8723, 1.8721, 1.8721, 1.872, 1.872, 1.8719, 1.8718, 1.8718, 1.8713, 1.8711, 1.8711, 1.8709, 1.8708, 1.8706, 1.8703, 1.8702, 1.87, 1.87, 1.87, 1.87, 1.869, 1.8684, 1.8662, 1.8657, 1.8392, 1.2928, 1.6603, 1.1856, 0.8286, 1.5215, 1.0836, 1.0453, -0.0152, 0.5221]}, \"token.table\": {\"Topic\": [1, 3, 1, 2, 3, 4, 2, 3, 3, 4, 2, 1, 2, 3, 4, 1, 1, 2, 1, 2, 4, 2, 4, 2, 1, 4, 2, 4, 2, 3, 2, 1, 2, 3, 2, 3, 2, 2, 2, 1, 1, 3, 2, 2, 2, 3, 2, 1, 2, 3, 4, 3, 2, 2, 2, 1, 2, 4, 1, 2, 4, 3, 1, 4, 4, 4, 1, 2, 4, 3, 1, 2, 2, 4, 4, 4, 1, 3, 1, 3, 2, 1, 2, 2, 4, 1, 4, 2, 4, 1, 3, 4, 3, 3, 4, 4, 3, 1, 3, 4, 1, 1, 4, 1, 2, 1, 2, 3, 4, 4, 3, 1, 3, 1, 2, 3, 1, 4, 3, 1, 2, 3, 1, 1, 2, 4, 1, 2, 3, 1, 3, 1, 3, 1, 2, 4, 4, 1, 1, 3, 2, 2, 3, 3, 2, 2, 4, 1, 4, 4, 3, 4, 3, 4, 1, 2, 3, 4, 4, 1, 4, 1, 2, 1, 1, 3, 2, 3, 4, 3, 1, 1, 3, 3, 1, 3, 4, 2, 2, 1, 3, 4, 2, 3, 1, 2, 3, 1], \"Freq\": [0.9970849576801645, 0.9925802356690182, 0.1714056621469898, 0.046610311636462134, 0.6329981031919536, 0.15035584398858753, 0.9947351533746174, 0.9963205583330246, 0.4437707810304898, 0.555135311631297, 0.9948968310937114, 0.46638179651069545, 0.23319089825534772, 0.2998168691854471, 0.99233751961942, 0.9989203877885494, 0.7304461729787737, 0.2713085785349731, 0.6572919932398812, 0.3402452670888797, 0.9889448661072687, 0.1917214968329839, 0.8034043676810754, 0.99455683821373, 0.9944815737042495, 0.9849984022699481, 0.992532222217313, 0.9897912274008618, 0.37732024097763944, 0.6203400572005259, 0.9949818465129392, 0.0016890045863644605, 0.70431491251398, 0.293323796498628, 0.47614256058915255, 0.5230531576915322, 0.9926000847543215, 0.995732911651131, 0.9911603474168221, 0.990789763271761, 0.9935379294044769, 0.9958577627177375, 0.997380431677249, 0.9855948494899361, 0.998647666786744, 0.9944081505483626, 0.9925778955413856, 0.003031980594516083, 0.3092620206406405, 0.43054124442128383, 0.2577183505338671, 0.9963832822514327, 0.9897533618352674, 0.990292170339161, 0.9900034883564265, 0.2715536344574237, 0.29204824837873866, 0.43551054582794363, 0.9942530275028064, 0.9958616550813897, 0.9950850063266768, 0.9925802370591686, 0.9952083863750714, 0.9949654976867438, 0.9937168410134768, 0.9925741948677035, 0.9966423842771008, 0.9908047980530178, 0.9949887511495005, 0.996138369559429, 0.3632970570673052, 0.6347258928072459, 0.0395397728445607, 0.9568625028383689, 0.9897912281092384, 0.9887834206481472, 0.9955188682576352, 0.9871540250869876, 0.14912540596394455, 0.8495629188248963, 0.9829399793876491, 0.9895599299773672, 0.9751205595523701, 0.9951944125726376, 0.9860909624865896, 0.9950652355227011, 0.9896261937800567, 0.2939571843357179, 0.7003097626821514, 0.19379278950756978, 0.3049853736512574, 0.49877816315882717, 0.9872950022283121, 0.9959876416572149, 0.9911003953873524, 0.9900777946489772, 0.9971428819009768, 0.9956197298299125, 0.9972835227366273, 0.9874135866339212, 0.9976916683788295, 0.9912127032232194, 0.9871840820509344, 0.9914828937738819, 0.9936959649007737, 0.6375615113771507, 0.08860679151727174, 0.27294965662791754, 0.9897912228030563, 0.9860015791424328, 0.9924147361600857, 0.9950652336118923, 0.9834866736213344, 0.1146630672597227, 0.6765120968323639, 0.20966960870349294, 0.9950652313307665, 0.9925687326208231, 0.9941580349872396, 0.9880085525527499, 0.9969064949425294, 0.9975134983956631, 0.9977418877024332, 0.9950652341058229, 0.5058637810555393, 0.4916140970821439, 0.2120152142811372, 0.6178729101907428, 0.16355459387402013, 0.9989672014162895, 0.9870515105741372, 0.9981556530007798, 0.9976982493038187, 0.18830508266327559, 0.8045762622885412, 0.9974367082707912, 0.9903644715667999, 0.9968917716733582, 0.998920387760832, 0.9944888022915787, 0.9952514831095595, 0.9966147137944814, 0.9982467552603814, 0.9978818848077267, 0.9840498541500182, 0.9958116628284727, 0.9958154854000495, 0.9923195689315959, 0.9932996392780995, 0.9831893049383006, 0.9948517828797183, 0.9945362631800484, 0.993486817767786, 0.9897912270572218, 0.18312244473921183, 0.5306813704687363, 0.03737192749779833, 0.2503919142352488, 0.9948548871662065, 0.998163205181073, 0.9888479413198946, 0.34970116404388807, 0.6426940312157943, 0.9977311392658833, 0.9969408537238557, 0.99750734328055, 0.983484662400945, 0.9966606963856226, 0.9947947596745474, 0.9971947900014381, 0.996352148410105, 0.9882857119080333, 0.9965587795241728, 0.9909636133946971, 0.1867523676387982, 0.3591391685361504, 0.4501210912319752, 0.9928854861035936, 0.9838226931943507, 0.5251519030195706, 0.12684828575351947, 0.35010126867971375, 0.9897623159204056, 0.9935803920089533, 0.7833116333975207, 0.21115357074194038, 0.9925802337535032, 0.9977418878573713], \"Term\": [\"ail\", \"alien\", \"american\", \"american\", \"american\", \"american\", \"anti\", \"arrest\", \"asian\", \"asian\", \"athlet\", \"attack\", \"attack\", \"attack\", \"attitud\", \"bait\", \"becaus\", \"becaus\", \"beij\", \"beij\", \"believ\", \"betray\", \"betray\", \"born\", \"bravo\", \"breakingview\", \"cancel\", \"cefaan\", \"censor\", \"censor\", \"censorship\", \"china\", \"china\", \"china\", \"chines\", \"chines\", \"choic\", \"choos\", \"citizenship\", \"claim\", \"close\", \"comment\", \"communist\", \"compani\", \"compet\", \"controversi\", \"corpor\", \"critic\", \"critic\", \"critic\", \"critic\", \"cultur\", \"decis\", \"defend\", \"defens\", \"doe\", \"doe\", \"doe\", \"doesn\", \"draconian\", \"drop\", \"elegi\", \"entir\", \"everi\", \"feel\", \"feminist\", \"freeski\", \"freestyl\", \"fuck\", \"glorif\", \"gold\", \"gold\", \"hate\", \"hate\", \"heart\", \"hell\", \"histor\", \"hockey\", \"home\", \"home\", \"human\", \"hypocrit\", \"idiot\", \"internet\", \"ironi\", \"island\", \"join\", \"journalist\", \"journalist\", \"just\", \"just\", \"just\", \"know\", \"lanag\", \"larg\", \"level\", \"like\", \"live\", \"loss\", \"lowest\", \"mainstream\", \"make\", \"male\", \"mani\", \"medalist\", \"media\", \"media\", \"media\", \"mini\", \"miss\", \"news\", \"oahu\", \"obsess\", \"olymp\", \"olymp\", \"olymp\", \"ongo\", \"onslaught\", \"opinion\", \"pandem\", \"pay\", \"peopl\", \"peril\", \"poison\", \"post\", \"post\", \"propaganda\", \"propaganda\", \"propaganda\", \"quie\", \"racism\", \"racist\", \"read\", \"receiv\", \"receiv\", \"reflect\", \"report\", \"repres\", \"respect\", \"respond\", \"restrict\", \"say\", \"sentenc\", \"simpli\", \"ski\", \"skier\", \"societi\", \"spectacular\", \"stori\", \"strike\", \"succ\", \"target\", \"team\", \"terror\", \"thi\", \"thi\", \"thi\", \"thi\", \"time\", \"total\", \"tower\", \"traitor\", \"traitor\", \"treason\", \"trick\", \"tweet\", \"type\", \"use\", \"violenc\", \"vitriol\", \"want\", \"water\", \"west\", \"western\", \"white\", \"white\", \"white\", \"winter\", \"woman\", \"women\", \"women\", \"women\", \"wrong\", \"wrote\", \"year\", \"year\", \"yearn\", \"yellow\"]}, \"R\": 30, \"lambda.step\": 0.01, \"plot.opts\": {\"xlab\": \"PC1\", \"ylab\": \"PC2\"}, \"topic.order\": [3, 1, 2, 4]};\n",
              "\n",
              "function LDAvis_load_lib(url, callback){\n",
              "  var s = document.createElement('script');\n",
              "  s.src = url;\n",
              "  s.async = true;\n",
              "  s.onreadystatechange = s.onload = callback;\n",
              "  s.onerror = function(){console.warn(\"failed to load library \" + url);};\n",
              "  document.getElementsByTagName(\"head\")[0].appendChild(s);\n",
              "}\n",
              "\n",
              "if(typeof(LDAvis) !== \"undefined\"){\n",
              "   // already loaded: just create the visualization\n",
              "   !function(LDAvis){\n",
              "       new LDAvis(\"#\" + \"ldavis_el701402122778225441822455385\", ldavis_el701402122778225441822455385_data);\n",
              "   }(LDAvis);\n",
              "}else if(typeof define === \"function\" && define.amd){\n",
              "   // require.js is available: use it to load d3/LDAvis\n",
              "   require.config({paths: {d3: \"https://d3js.org/d3.v5\"}});\n",
              "   require([\"d3\"], function(d3){\n",
              "      window.d3 = d3;\n",
              "      LDAvis_load_lib(\"https://cdn.jsdelivr.net/gh/bmabey/pyLDAvis@3.3.1/pyLDAvis/js/ldavis.v3.0.0.js\", function(){\n",
              "        new LDAvis(\"#\" + \"ldavis_el701402122778225441822455385\", ldavis_el701402122778225441822455385_data);\n",
              "      });\n",
              "    });\n",
              "}else{\n",
              "    // require.js not available: dynamically load d3 & LDAvis\n",
              "    LDAvis_load_lib(\"https://d3js.org/d3.v5.js\", function(){\n",
              "         LDAvis_load_lib(\"https://cdn.jsdelivr.net/gh/bmabey/pyLDAvis@3.3.1/pyLDAvis/js/ldavis.v3.0.0.js\", function(){\n",
              "                 new LDAvis(\"#\" + \"ldavis_el701402122778225441822455385\", ldavis_el701402122778225441822455385_data);\n",
              "            })\n",
              "         });\n",
              "}\n",
              "</script>"
            ],
            "text/plain": [
              "PreparedData(topic_coordinates=                x           y  topics  cluster       Freq\n",
              "topic                                                    \n",
              "2      269.562408 -124.803398       1        1  33.214527\n",
              "0        1.782994 -295.079681       2        1  26.823928\n",
              "1      220.811432 -343.832123       3        1  24.711003\n",
              "3       50.533993  -76.050934       4        1  15.250542, topic_info=            Term         Freq        Total Category  logprob  loglift\n",
              "173        china  1776.000000  1776.000000  Default  30.0000  30.0000\n",
              "864       racist   691.000000   691.000000  Default  29.0000  29.0000\n",
              "785        peopl   489.000000   489.000000  Default  28.0000  28.0000\n",
              "57         asian   592.000000   592.000000  Default  27.0000  27.0000\n",
              "661   mainstream   534.000000   534.000000  Default  26.0000  26.0000\n",
              "...          ...          ...          ...      ...      ...      ...\n",
              "598   journalist    80.768038   115.663103   Topic4  -4.4398   1.5215\n",
              "1173       white    94.118712   208.832694   Topic4  -4.2868   1.0836\n",
              "328          doe    84.656064   195.173230   Topic4  -4.3928   1.0453\n",
              "37      american    99.898930   665.088881   Topic4  -4.2272  -0.0152\n",
              "258       critic    84.786203   329.817414   Topic4  -4.3913   0.5221\n",
              "\n",
              "[189 rows x 6 columns], token_table=      Topic      Freq      Term\n",
              "term                           \n",
              "24        1  0.997085       ail\n",
              "28        3  0.992580     alien\n",
              "37        1  0.171406  american\n",
              "37        2  0.046610  american\n",
              "37        3  0.632998  american\n",
              "...     ...       ...       ...\n",
              "1195      3  0.993580     wrote\n",
              "1199      1  0.783312      year\n",
              "1199      2  0.211154      year\n",
              "1200      3  0.992580     yearn\n",
              "1201      1  0.997742    yellow\n",
              "\n",
              "[188 rows x 3 columns], R=30, lambda_step=0.01, plot_opts={'xlab': 'PC1', 'ylab': 'PC2'}, topic_order=[3, 1, 2, 4])"
            ]
          },
          "metadata": {},
          "execution_count": 12
        }
      ],
      "source": [
        "!pip install pyLDAvis\n",
        "import pyLDAvis\n",
        "import pyLDAvis.sklearn\n",
        "pyLDAvis.enable_notebook()\n",
        "pyLDAvis.sklearn.prepare(lda_model, data_matrix, vectorizer, mds='tsne')"
      ]
    },
    {
      "cell_type": "code",
      "execution_count": null,
      "id": "6f9a3975",
      "metadata": {
        "colab": {
          "base_uri": "https://localhost:8080/"
        },
        "id": "6f9a3975",
        "outputId": "bb5fb6e7-9378-4745-b540-7dc09ee4a3c2"
      },
      "outputs": [
        {
          "output_type": "execute_result",
          "data": {
            "text/plain": [
              "<9804x1633 sparse matrix of type '<class 'numpy.int64'>'\n",
              "\twith 67458 stored elements in Compressed Sparse Row format>"
            ]
          },
          "metadata": {},
          "execution_count": 13
        }
      ],
      "source": [
        "from sklearn.decomposition import LatentDirichletAllocation\n",
        "from sklearn.feature_extraction.text import CountVectorizer\n",
        "\n",
        "from sklearn.decomposition import LatentDirichletAllocation\n",
        "vectorizer = CountVectorizer(\n",
        "analyzer='word',       \n",
        "min_df=3,# minimum required occurences of a word \n",
        "stop_words='english',# remove stop words\n",
        "token_pattern='[a-zA-Z0-9]{3,}',# num chars > 3\n",
        "max_features=5000,# max number of unique words\n",
        "                            )\n",
        "\n",
        "data_matrix = vectorizer.fit_transform(docs_neutral)\n",
        "data_matrix                                     "
      ]
    },
    {
      "cell_type": "code",
      "execution_count": null,
      "id": "e6fcf5da",
      "metadata": {
        "id": "e6fcf5da"
      },
      "outputs": [],
      "source": [
        "lda_model = LatentDirichletAllocation(\n",
        "n_components=3, # Number of topics\n",
        "learning_method='online',\n",
        "random_state=20,       \n",
        "n_jobs = -1  # Use all available CPUs\n",
        "                                     )\n",
        "lda_output = lda_model.fit_transform(data_matrix)"
      ]
    },
    {
      "cell_type": "markdown",
      "id": "bf2092a1",
      "metadata": {
        "id": "bf2092a1"
      },
      "source": [
        "## Neutral Output"
      ]
    },
    {
      "cell_type": "code",
      "execution_count": null,
      "id": "a6f7bdf5",
      "metadata": {
        "colab": {
          "base_uri": "https://localhost:8080/",
          "height": 1000
        },
        "id": "a6f7bdf5",
        "outputId": "99912b67-9221-4358-d69f-d6b067425adf"
      },
      "outputs": [
        {
          "output_type": "stream",
          "name": "stdout",
          "text": [
            "Requirement already satisfied: pyLDAvis in /usr/local/lib/python3.7/dist-packages (3.3.1)\n",
            "Requirement already satisfied: future in /usr/local/lib/python3.7/dist-packages (from pyLDAvis) (0.16.0)\n",
            "Requirement already satisfied: gensim in /usr/local/lib/python3.7/dist-packages (from pyLDAvis) (3.6.0)\n",
            "Requirement already satisfied: pandas>=1.2.0 in /usr/local/lib/python3.7/dist-packages (from pyLDAvis) (1.3.5)\n",
            "Requirement already satisfied: jinja2 in /usr/local/lib/python3.7/dist-packages (from pyLDAvis) (2.11.3)\n",
            "Requirement already satisfied: scipy in /usr/local/lib/python3.7/dist-packages (from pyLDAvis) (1.4.1)\n",
            "Requirement already satisfied: numpy>=1.20.0 in /usr/local/lib/python3.7/dist-packages (from pyLDAvis) (1.21.5)\n",
            "Requirement already satisfied: joblib in /usr/local/lib/python3.7/dist-packages (from pyLDAvis) (1.1.0)\n",
            "Requirement already satisfied: numexpr in /usr/local/lib/python3.7/dist-packages (from pyLDAvis) (2.8.1)\n",
            "Requirement already satisfied: funcy in /usr/local/lib/python3.7/dist-packages (from pyLDAvis) (1.17)\n",
            "Requirement already satisfied: scikit-learn in /usr/local/lib/python3.7/dist-packages (from pyLDAvis) (1.0.2)\n",
            "Requirement already satisfied: sklearn in /usr/local/lib/python3.7/dist-packages (from pyLDAvis) (0.0)\n",
            "Requirement already satisfied: setuptools in /usr/local/lib/python3.7/dist-packages (from pyLDAvis) (57.4.0)\n",
            "Requirement already satisfied: pytz>=2017.3 in /usr/local/lib/python3.7/dist-packages (from pandas>=1.2.0->pyLDAvis) (2018.9)\n",
            "Requirement already satisfied: python-dateutil>=2.7.3 in /usr/local/lib/python3.7/dist-packages (from pandas>=1.2.0->pyLDAvis) (2.8.2)\n",
            "Requirement already satisfied: six>=1.5 in /usr/local/lib/python3.7/dist-packages (from python-dateutil>=2.7.3->pandas>=1.2.0->pyLDAvis) (1.15.0)\n",
            "Requirement already satisfied: smart-open>=1.2.1 in /usr/local/lib/python3.7/dist-packages (from gensim->pyLDAvis) (5.2.1)\n",
            "Requirement already satisfied: MarkupSafe>=0.23 in /usr/local/lib/python3.7/dist-packages (from jinja2->pyLDAvis) (2.0.1)\n",
            "Requirement already satisfied: packaging in /usr/local/lib/python3.7/dist-packages (from numexpr->pyLDAvis) (21.3)\n",
            "Requirement already satisfied: pyparsing!=3.0.5,>=2.0.2 in /usr/local/lib/python3.7/dist-packages (from packaging->numexpr->pyLDAvis) (3.0.7)\n",
            "Requirement already satisfied: threadpoolctl>=2.0.0 in /usr/local/lib/python3.7/dist-packages (from scikit-learn->pyLDAvis) (3.1.0)\n"
          ]
        },
        {
          "output_type": "stream",
          "name": "stderr",
          "text": [
            "/usr/local/lib/python3.7/dist-packages/sklearn/utils/deprecation.py:87: FutureWarning: Function get_feature_names is deprecated; get_feature_names is deprecated in 1.0 and will be removed in 1.2. Please use get_feature_names_out instead.\n",
            "  warnings.warn(msg, category=FutureWarning)\n",
            "/usr/local/lib/python3.7/dist-packages/pyLDAvis/_prepare.py:247: FutureWarning: In a future version of pandas all arguments of DataFrame.drop except for the argument 'labels' will be keyword-only\n",
            "  by='saliency', ascending=False).head(R).drop('saliency', 1)\n",
            "/usr/local/lib/python3.7/dist-packages/sklearn/manifold/_t_sne.py:783: FutureWarning: The default initialization in TSNE will change from 'random' to 'pca' in 1.2.\n",
            "  FutureWarning,\n",
            "/usr/local/lib/python3.7/dist-packages/sklearn/manifold/_t_sne.py:793: FutureWarning: The default learning rate in TSNE will change from 200.0 to 'auto' in 1.2.\n",
            "  FutureWarning,\n",
            "/usr/local/lib/python3.7/dist-packages/sklearn/manifold/_t_sne.py:827: FutureWarning: 'square_distances' has been introduced in 0.24 to help phase out legacy squaring behavior. The 'legacy' setting will be removed in 1.1 (renaming of 0.26), and the default setting will be changed to True. In 1.3, 'square_distances' will be removed altogether, and distances will be squared by default. Set 'square_distances'=True to silence this warning.\n",
            "  FutureWarning,\n"
          ]
        },
        {
          "output_type": "execute_result",
          "data": {
            "text/html": [
              "\n",
              "<link rel=\"stylesheet\" type=\"text/css\" href=\"https://cdn.jsdelivr.net/gh/bmabey/pyLDAvis@3.3.1/pyLDAvis/js/ldavis.v1.0.0.css\">\n",
              "\n",
              "\n",
              "<div id=\"ldavis_el701402122778235687548370188\"></div>\n",
              "<script type=\"text/javascript\">\n",
              "\n",
              "var ldavis_el701402122778235687548370188_data = {\"mdsDat\": {\"x\": [-1015.7005615234375, -387.9960021972656, -2184.74560546875], \"y\": [1338.981201171875, -373.316162109375, -60.565799713134766], \"topics\": [1, 2, 3], \"cluster\": [1, 1, 1], \"Freq\": [39.03366633516904, 38.667948263782634, 22.29838540104833]}, \"tinfo\": {\"Term\": [\"beij\", \"born\", \"thi\", \"gold\", \"athlet\", \"winter\", \"skier\", \"china\", \"dragon\", \"ail\", \"women\", \"asian\", \"media\", \"traitor\", \"citizenship\", \"olymp\", \"life\", \"doubl\", \"countri\", \"stay\", \"entir\", \"slope\", \"slopestyl\", \"america\", \"suit\", \"chines\", \"social\", \"team\", \"white\", \"actual\", \"beij\", \"born\", \"gold\", \"athlet\", \"ail\", \"skier\", \"slopestyl\", \"freestyl\", \"week\", \"spotlight\", \"thrust\", \"span\", \"descent\", \"freeski\", \"today\", \"team\", \"freestyleski\", \"women\", \"face\", \"star\", \"final\", \"drone\", \"silver\", \"rip\", \"pick\", \"portrait\", \"switch\", \"form\", \"stage\", \"look\", \"winter\", \"watch\", \"olymp\", \"american\", \"china\", \"compet\", \"repres\", \"chines\", \"thi\", \"asian\", \"life\", \"entir\", \"america\", \"actual\", \"white\", \"someon\", \"heard\", \"commun\", \"shout\", \"orientalist\", \"articl\", \"thing\", \"singl\", \"foreign\", \"frustrat\", \"polici\", \"involv\", \"crisi\", \"fantasi\", \"psychosexu\", \"say\", \"decid\", \"citiz\", \"conscious\", \"driven\", \"emphas\", \"subconsci\", \"real\", \"peopl\", \"renounc\", \"comment\", \"everi\", \"ski\", \"citizenship\", \"china\", \"countri\", \"american\", \"chines\", \"compet\", \"olymp\", \"dragon\", \"media\", \"traitor\", \"doubl\", \"stay\", \"slope\", \"suit\", \"social\", \"remind\", \"zhou\", \"pattern\", \"king\", \"helmet\", \"daje\", \"jiay\", \"monkey\", \"everyon\", \"wang\", \"pad\", \"nathan\", \"chen\", \"mood\", \"energis\", \"fuel\", \"rule\", \"host\", \"new\", \"citizen\", \"question\", \"disqualifi\", \"befor\", \"endors\", \"chines\", \"olymp\", \"year\", \"countri\"], \"Freq\": [1237.0, 1154.0, 824.0, 793.0, 742.0, 759.0, 711.0, 2609.0, 339.0, 538.0, 532.0, 482.0, 293.0, 275.0, 521.0, 2008.0, 363.0, 220.0, 634.0, 214.0, 342.0, 209.0, 330.0, 318.0, 198.0, 1573.0, 195.0, 314.0, 303.0, 300.0, 1236.4004067043647, 1153.3433689173062, 793.0876895093367, 741.6111048578609, 537.7200224671908, 711.039282954671, 330.2333052926728, 294.35262098208676, 268.35321373299894, 248.9395753025454, 247.13732157581654, 243.62919988495128, 238.7263709089239, 233.52169752214326, 226.02635364409485, 313.85672711450167, 193.38555559421795, 530.3414384089504, 195.52940339281454, 198.3661814154359, 170.10679462520002, 166.2640000678431, 163.87428235157893, 156.8921156688447, 156.27674573124594, 141.8391179035008, 167.1280263708119, 139.85485004179796, 133.75503719518113, 139.29249346125104, 753.4857773254863, 227.61847564236643, 1334.1354961842544, 1046.1052916885817, 1350.7291520296837, 496.37671995572816, 336.3571317489318, 608.6537624139884, 823.6858532620611, 481.4474307218881, 362.4900303473553, 341.47767954651397, 318.1495370766763, 299.3195124453266, 302.7129544061144, 286.06436261994554, 282.8712619345462, 271.04833654968826, 268.1004668419346, 232.84465995637782, 224.57141617137418, 214.5466424342636, 194.26076955004666, 181.2706543322577, 174.8608237113759, 173.41893993388456, 171.707264240074, 170.00793978237468, 170.007939778988, 170.00793977470616, 178.64143723665194, 178.3400818870628, 166.1331186604517, 153.71725213656595, 153.71725213343743, 153.7172521335898, 153.71725213391014, 148.12924422546607, 251.81658713926367, 239.06165504632267, 173.22763175484695, 232.2157389750081, 176.08486684900794, 495.6563347867208, 1255.258437991561, 421.50954477445003, 663.3969072171981, 399.5652269054259, 232.79193640770947, 281.3487940905202, 338.3970783818898, 292.8137702644605, 274.8902813615484, 219.7381828007943, 213.74595904182692, 208.62956853362135, 198.19264401565647, 195.03581232349222, 180.2894349190654, 175.33286054705542, 175.28063800354846, 174.64174951016707, 173.77165070736498, 173.0027327547827, 173.00273275217157, 173.0027327420038, 172.59680419960247, 166.29874816257717, 164.03976564465265, 168.00594397323636, 167.81187284681818, 155.84956149099318, 155.84956148915842, 155.8495614911269, 148.64468338392263, 155.77561755657672, 141.20482385085245, 128.9679110523977, 126.37376132338403, 114.0323846496554, 141.06100186542756, 145.73824921229235, 565.1798501690228, 392.62110417633613, 169.8662380157888, 212.91938143702248], \"Total\": [1237.0, 1154.0, 824.0, 793.0, 742.0, 759.0, 711.0, 2609.0, 339.0, 538.0, 532.0, 482.0, 293.0, 275.0, 521.0, 2008.0, 363.0, 220.0, 634.0, 214.0, 342.0, 209.0, 330.0, 318.0, 198.0, 1573.0, 195.0, 314.0, 303.0, 300.0, 1237.080293960549, 1154.1932092388251, 793.7926540034201, 742.4034731664772, 538.3956396613619, 711.970066698294, 330.89811793059454, 295.06636852609233, 269.0233836412496, 249.6042375487402, 247.79910978945094, 244.29397227963673, 239.3871465987839, 234.18625201948288, 226.6904415417081, 314.9138688146197, 194.04775801055905, 532.2325652389013, 196.22709005580634, 199.08913379341033, 170.78569675252137, 166.93182159964388, 164.54013049533316, 157.55616567549262, 156.93891868623987, 142.50106391818215, 167.91799855228874, 140.51880415600866, 134.43520280005978, 140.02881197751026, 759.9470912534016, 231.6516344631221, 2008.1053944511107, 1816.7124035189008, 2609.505741085945, 729.5426807353491, 472.83844076251916, 1573.398839488437, 824.4117463965514, 482.17067676303134, 363.1823642233865, 342.1766705884735, 318.87979880382085, 300.01311375104274, 303.42272428085363, 286.75749557634185, 283.5640628650067, 271.74124429956066, 268.79082006855845, 233.53523443089614, 225.29488257272038, 215.25825072326015, 194.95122649842716, 181.9636173884947, 175.55193931674938, 174.10925300593757, 172.39741933634153, 170.6980888925553, 170.69808889263734, 170.69808888854254, 179.3697635681743, 179.06955552306724, 166.8534105727767, 154.40756344615232, 154.40756344357453, 154.40756344489188, 154.40756344556618, 148.8408514451583, 253.54375295067308, 240.7467823854332, 174.0708066666324, 234.89998564529438, 177.20343103814344, 521.0177038413714, 2609.505741085945, 634.9007966034776, 1816.7124035189008, 1573.398839488437, 729.5426807353491, 2008.1053944511107, 339.0304885874279, 293.477280646833, 275.65171729764285, 220.38186615693579, 214.39440274985387, 209.28428166656505, 198.82793023088982, 195.6887370988316, 180.924853784018, 175.9664802083586, 175.9141930664193, 175.27497147011846, 174.40486762123186, 173.63592374962624, 173.63592375359988, 173.6359237527929, 173.2347261280975, 166.93274494461707, 164.67293906250197, 168.6678997926442, 168.4794065751643, 156.48280449841386, 156.48280449719616, 156.4828045013771, 149.2899792552292, 156.51943622869672, 141.88481420748246, 129.65589961405328, 127.0711801594215, 114.66732319614705, 142.15795237551856, 148.9475438135637, 1573.398839488437, 2008.1053944511107, 239.84096258400643, 634.9007966034776], \"Category\": [\"Default\", \"Default\", \"Default\", \"Default\", \"Default\", \"Default\", \"Default\", \"Default\", \"Default\", \"Default\", \"Default\", \"Default\", \"Default\", \"Default\", \"Default\", \"Default\", \"Default\", \"Default\", \"Default\", \"Default\", \"Default\", \"Default\", \"Default\", \"Default\", \"Default\", \"Default\", \"Default\", \"Default\", \"Default\", \"Default\", \"Topic1\", \"Topic1\", \"Topic1\", \"Topic1\", \"Topic1\", \"Topic1\", \"Topic1\", \"Topic1\", \"Topic1\", \"Topic1\", \"Topic1\", \"Topic1\", \"Topic1\", \"Topic1\", \"Topic1\", \"Topic1\", \"Topic1\", \"Topic1\", \"Topic1\", \"Topic1\", \"Topic1\", \"Topic1\", \"Topic1\", \"Topic1\", \"Topic1\", \"Topic1\", \"Topic1\", \"Topic1\", \"Topic1\", \"Topic1\", \"Topic1\", \"Topic1\", \"Topic1\", \"Topic1\", \"Topic1\", \"Topic1\", \"Topic1\", \"Topic1\", \"Topic2\", \"Topic2\", \"Topic2\", \"Topic2\", \"Topic2\", \"Topic2\", \"Topic2\", \"Topic2\", \"Topic2\", \"Topic2\", \"Topic2\", \"Topic2\", \"Topic2\", \"Topic2\", \"Topic2\", \"Topic2\", \"Topic2\", \"Topic2\", \"Topic2\", \"Topic2\", \"Topic2\", \"Topic2\", \"Topic2\", \"Topic2\", \"Topic2\", \"Topic2\", \"Topic2\", \"Topic2\", \"Topic2\", \"Topic2\", \"Topic2\", \"Topic2\", \"Topic2\", \"Topic2\", \"Topic2\", \"Topic2\", \"Topic2\", \"Topic2\", \"Topic2\", \"Topic2\", \"Topic2\", \"Topic2\", \"Topic3\", \"Topic3\", \"Topic3\", \"Topic3\", \"Topic3\", \"Topic3\", \"Topic3\", \"Topic3\", \"Topic3\", \"Topic3\", \"Topic3\", \"Topic3\", \"Topic3\", \"Topic3\", \"Topic3\", \"Topic3\", \"Topic3\", \"Topic3\", \"Topic3\", \"Topic3\", \"Topic3\", \"Topic3\", \"Topic3\", \"Topic3\", \"Topic3\", \"Topic3\", \"Topic3\", \"Topic3\", \"Topic3\", \"Topic3\", \"Topic3\", \"Topic3\", \"Topic3\", \"Topic3\", \"Topic3\", \"Topic3\"], \"logprob\": [30.0, 29.0, 28.0, 27.0, 26.0, 25.0, 24.0, 23.0, 22.0, 21.0, 20.0, 19.0, 18.0, 17.0, 16.0, 15.0, 14.0, 13.0, 12.0, 11.0, 10.0, 9.0, 8.0, 7.0, 6.0, 5.0, 4.0, 3.0, 2.0, 1.0, -3.0814, -3.151, -3.5255, -3.5926, -3.9141, -3.6347, -4.4016, -4.5166, -4.6091, -4.6842, -4.6915, -4.7058, -4.7261, -4.7481, -4.7808, -4.4525, -4.9367, -3.9279, -4.9257, -4.9113, -5.065, -5.0878, -5.1023, -5.1458, -5.1498, -5.2467, -5.0826, -5.2608, -5.3054, -5.2648, -3.5767, -4.7737, -3.0054, -3.2486, -2.993, -3.9941, -4.3832, -3.7902, -3.4782, -4.0152, -4.299, -4.3587, -4.4295, -4.4905, -4.4792, -4.5358, -4.547, -4.5897, -4.6006, -4.7416, -4.7778, -4.8235, -4.9228, -4.992, -5.028, -5.0363, -5.0462, -5.0561, -5.0561, -5.0561, -5.0066, -5.0083, -5.0792, -5.1569, -5.1569, -5.1569, -5.1569, -5.1939, -4.6633, -4.7153, -5.0374, -4.7443, -5.021, -3.9861, -3.0569, -4.1482, -3.6946, -4.2016, -4.7418, -4.5524, -3.8173, -3.962, -4.0251, -4.2491, -4.2767, -4.3009, -4.3523, -4.3683, -4.4469, -4.4748, -4.4751, -4.4788, -4.4838, -4.4882, -4.4882, -4.4882, -4.4905, -4.5277, -4.5414, -4.5175, -4.5187, -4.5926, -4.5926, -4.5926, -4.6399, -4.5931, -4.6913, -4.7819, -4.8023, -4.905, -4.6923, -4.6597, -3.3044, -3.6687, -4.5065, -4.2806], \"loglift\": [30.0, 29.0, 28.0, 27.0, 26.0, 25.0, 24.0, 23.0, 22.0, 21.0, 20.0, 19.0, 18.0, 17.0, 16.0, 15.0, 14.0, 13.0, 12.0, 11.0, 10.0, 9.0, 8.0, 7.0, 6.0, 5.0, 4.0, 3.0, 2.0, 1.0, 0.9402, 0.94, 0.9399, 0.9397, 0.9395, 0.9394, 0.9387, 0.9383, 0.9383, 0.9381, 0.9381, 0.938, 0.938, 0.9379, 0.9378, 0.9374, 0.9373, 0.9372, 0.9372, 0.9371, 0.9368, 0.9367, 0.9367, 0.9365, 0.9365, 0.9361, 0.936, 0.936, 0.9357, 0.9355, 0.9322, 0.9232, 0.5318, 0.3888, 0.2822, 0.5557, 0.6002, -0.009, 0.9493, 0.9487, 0.9483, 0.9481, 0.9479, 0.9478, 0.9478, 0.9477, 0.9477, 0.9476, 0.9476, 0.9472, 0.9469, 0.9468, 0.9466, 0.9463, 0.9462, 0.9462, 0.9461, 0.9461, 0.9461, 0.9461, 0.9461, 0.9461, 0.9458, 0.9457, 0.9457, 0.9457, 0.9457, 0.9454, 0.9433, 0.9431, 0.9453, 0.9387, 0.9438, 0.9003, 0.2183, 0.5405, -0.0573, -0.4205, -0.1921, -1.0152, 1.4988, 1.4984, 1.4979, 1.4977, 1.4976, 1.4975, 1.4975, 1.4973, 1.4971, 1.497, 1.497, 1.497, 1.497, 1.497, 1.497, 1.497, 1.497, 1.4969, 1.4968, 1.4967, 1.4967, 1.4966, 1.4966, 1.4966, 1.4963, 1.4959, 1.4959, 1.4953, 1.4952, 1.4951, 1.4929, 1.4789, 0.4768, -0.1314, 1.1557, 0.4081]}, \"token.table\": {\"Topic\": [2, 1, 2, 1, 2, 3, 2, 2, 1, 2, 3, 1, 1, 3, 1, 2, 3, 1, 2, 3, 2, 3, 2, 3, 2, 2, 1, 2, 2, 2, 3, 2, 3, 2, 1, 3, 3, 3, 2, 1, 2, 1, 3, 3, 2, 1, 2, 3, 1, 2, 1, 2, 1, 1, 1, 1, 2, 3, 1, 2, 3, 3, 2, 3, 3, 2, 1, 3, 3, 3, 3, 3, 1, 2, 3, 2, 3, 3, 2, 3, 1, 2, 1, 2, 3, 2, 3, 2, 3, 1, 2, 1, 3, 2, 2, 1, 2, 1, 2, 1, 2, 3, 1, 3, 2, 1, 1, 1, 1, 3, 2, 3, 1, 1, 2, 2, 2, 1, 1, 3, 3, 1, 2, 1, 2, 1, 3, 1, 2, 3, 1, 3, 3], \"Freq\": [0.9966231017758662, 0.9992651506954797, 0.997240970399752, 0.5757653209027136, 0.36494494049569703, 0.05889759974817433, 0.9986911261838128, 0.997572069768136, 0.999456531143697, 0.0070344288398192555, 0.991854466414515, 0.9991267390113455, 0.9989661962752215, 0.9971545093557151, 0.5177225628320641, 0.48093398693874195, 0.0015328573288884205, 0.38706015583309167, 0.25422670333864805, 0.35909521846584036, 0.994885267434168, 0.9949412281584895, 0.9519830062262371, 0.04798301442672566, 0.9938484419809513, 0.9972722421969058, 0.6798779743771157, 0.31937816135054026, 0.9973604696748262, 0.6646707678704596, 0.3354854823611562, 0.9959103883524162, 0.9963376026349063, 0.9940271504000608, 0.9983827594577049, 0.9941803542844936, 0.9982672523670171, 0.9969604840210052, 0.9973604696914768, 0.9944179510490295, 0.9973604696829678, 0.020141319038836068, 0.980210859890022, 0.9969146482340505, 0.9965612191314801, 0.008514261908129941, 0.9876543813430733, 0.9986450399793173, 0.9988427181193903, 0.9959103883519375, 0.995399516660579, 0.9947043403383361, 0.9963079378655069, 0.9992046842294253, 0.9963860045066504, 0.9946005147325534, 0.9968559771034285, 0.9969146482074147, 0.9990014344433368, 0.9980108097644403, 0.9976785761386481, 0.9966813308224689, 0.9976947489244826, 0.9963376026121052, 0.9984311994587012, 0.9967444338165625, 0.9926528550590324, 0.9983737049567141, 0.9963376026167358, 0.9969146482262928, 0.9960401487570232, 0.9937638554737185, 0.6643077617769317, 0.1399328943473147, 0.1957068593540736, 0.9977081212939861, 0.995913481192884, 0.9948031875627333, 0.9939112956532855, 0.003944092443068593, 0.9940172986146476, 0.993628983027687, 0.9964837882300315, 0.9959103883758279, 0.9915702352171624, 0.9943506675956626, 0.9948881883020778, 0.9927443167957418, 0.004153741911279254, 0.710602123334457, 0.2876246689687088, 0.9964700481691201, 0.9980576107205865, 0.9979385401373194, 0.9970578605759053, 0.9967173327643102, 0.9951206949783676, 0.0056432315906160295, 0.9932087599484212, 0.9986374894905448, 0.0014045534310696832, 0.9986416482676039, 0.9972858173500312, 0.9964804458905381, 0.9973584105454004, 0.9987966453822273, 0.9975792175859105, 0.9967627318515148, 0.9945294161833036, 0.9981603869093819, 0.9973604696786122, 0.9958359460367143, 0.9945330544658506, 0.9970980356690556, 0.0031754714511753363, 0.9995005573387921, 0.9988002749144693, 0.9967751708626802, 0.9969542538405569, 0.9976357219754262, 0.9944124506852953, 0.984236526232223, 0.017267307477758297, 0.9961959305269377, 0.9986068140352522, 0.9908584540511319, 0.007895286486463203, 0.9958052825311446, 0.0018788778915681975, 0.0018788778915681975, 0.29186006946366333, 0.7088030258403253, 0.9945075891316675], \"Term\": [\"actual\", \"ail\", \"america\", \"american\", \"american\", \"american\", \"articl\", \"asian\", \"athlet\", \"befor\", \"befor\", \"beij\", \"born\", \"chen\", \"china\", \"china\", \"china\", \"chines\", \"chines\", \"chines\", \"citiz\", \"citizen\", \"citizenship\", \"citizenship\", \"comment\", \"commun\", \"compet\", \"compet\", \"conscious\", \"countri\", \"countri\", \"crisi\", \"daje\", \"decid\", \"descent\", \"disqualifi\", \"doubl\", \"dragon\", \"driven\", \"drone\", \"emphas\", \"endors\", \"endors\", \"energis\", \"entir\", \"everi\", \"everi\", \"everyon\", \"face\", \"fantasi\", \"final\", \"foreign\", \"form\", \"freeski\", \"freestyl\", \"freestyleski\", \"frustrat\", \"fuel\", \"gold\", \"heard\", \"helmet\", \"host\", \"involv\", \"jiay\", \"king\", \"life\", \"look\", \"media\", \"monkey\", \"mood\", \"nathan\", \"new\", \"olymp\", \"olymp\", \"olymp\", \"orientalist\", \"pad\", \"pattern\", \"peopl\", \"peopl\", \"pick\", \"polici\", \"portrait\", \"psychosexu\", \"question\", \"real\", \"remind\", \"renounc\", \"renounc\", \"repres\", \"repres\", \"rip\", \"rule\", \"say\", \"shout\", \"silver\", \"singl\", \"ski\", \"ski\", \"skier\", \"skier\", \"slope\", \"slopestyl\", \"social\", \"someon\", \"span\", \"spotlight\", \"stage\", \"star\", \"stay\", \"subconsci\", \"suit\", \"switch\", \"team\", \"team\", \"thi\", \"thing\", \"thrust\", \"today\", \"traitor\", \"wang\", \"watch\", \"watch\", \"week\", \"white\", \"winter\", \"winter\", \"women\", \"women\", \"women\", \"year\", \"year\", \"zhou\"]}, \"R\": 30, \"lambda.step\": 0.01, \"plot.opts\": {\"xlab\": \"PC1\", \"ylab\": \"PC2\"}, \"topic.order\": [3, 1, 2]};\n",
              "\n",
              "function LDAvis_load_lib(url, callback){\n",
              "  var s = document.createElement('script');\n",
              "  s.src = url;\n",
              "  s.async = true;\n",
              "  s.onreadystatechange = s.onload = callback;\n",
              "  s.onerror = function(){console.warn(\"failed to load library \" + url);};\n",
              "  document.getElementsByTagName(\"head\")[0].appendChild(s);\n",
              "}\n",
              "\n",
              "if(typeof(LDAvis) !== \"undefined\"){\n",
              "   // already loaded: just create the visualization\n",
              "   !function(LDAvis){\n",
              "       new LDAvis(\"#\" + \"ldavis_el701402122778235687548370188\", ldavis_el701402122778235687548370188_data);\n",
              "   }(LDAvis);\n",
              "}else if(typeof define === \"function\" && define.amd){\n",
              "   // require.js is available: use it to load d3/LDAvis\n",
              "   require.config({paths: {d3: \"https://d3js.org/d3.v5\"}});\n",
              "   require([\"d3\"], function(d3){\n",
              "      window.d3 = d3;\n",
              "      LDAvis_load_lib(\"https://cdn.jsdelivr.net/gh/bmabey/pyLDAvis@3.3.1/pyLDAvis/js/ldavis.v3.0.0.js\", function(){\n",
              "        new LDAvis(\"#\" + \"ldavis_el701402122778235687548370188\", ldavis_el701402122778235687548370188_data);\n",
              "      });\n",
              "    });\n",
              "}else{\n",
              "    // require.js not available: dynamically load d3 & LDAvis\n",
              "    LDAvis_load_lib(\"https://d3js.org/d3.v5.js\", function(){\n",
              "         LDAvis_load_lib(\"https://cdn.jsdelivr.net/gh/bmabey/pyLDAvis@3.3.1/pyLDAvis/js/ldavis.v3.0.0.js\", function(){\n",
              "                 new LDAvis(\"#\" + \"ldavis_el701402122778235687548370188\", ldavis_el701402122778235687548370188_data);\n",
              "            })\n",
              "         });\n",
              "}\n",
              "</script>"
            ],
            "text/plain": [
              "PreparedData(topic_coordinates=                 x            y  topics  cluster       Freq\n",
              "topic                                                      \n",
              "2     -1015.700562  1338.981201       1        1  39.033666\n",
              "0      -387.996002  -373.316162       2        1  38.667948\n",
              "1     -2184.745605   -60.565800       3        1  22.298385, topic_info=         Term         Freq        Total Category  logprob  loglift\n",
              "125      beij  1237.000000  1237.000000  Default  30.0000  30.0000\n",
              "164      born  1154.000000  1154.000000  Default  29.0000  29.0000\n",
              "1445      thi   824.000000   824.000000  Default  28.0000  28.0000\n",
              "623      gold   793.000000   793.000000  Default  27.0000  27.0000\n",
              "88     athlet   742.000000   742.000000  Default  26.0000  26.0000\n",
              "...       ...          ...          ...      ...      ...      ...\n",
              "482    endors   145.738249   148.947544   Topic3  -4.6597   1.4789\n",
              "250    chines   565.179850  1573.398839   Topic3  -3.3044   0.4768\n",
              "1000    olymp   392.621104  2008.105394   Topic3  -3.6687  -0.1314\n",
              "1613     year   169.866238   239.840963   Topic3  -4.5065   1.1557\n",
              "346   countri   212.919381   634.900797   Topic3  -4.2806   0.4081\n",
              "\n",
              "[146 rows x 6 columns], token_table=      Topic      Freq      Term\n",
              "term                           \n",
              "14        2  0.996623    actual\n",
              "28        1  0.999265       ail\n",
              "44        2  0.997241   america\n",
              "45        1  0.575765  american\n",
              "45        2  0.364945  american\n",
              "...     ...       ...       ...\n",
              "1595      2  0.001879     women\n",
              "1595      3  0.001879     women\n",
              "1613      1  0.291860      year\n",
              "1613      3  0.708803      year\n",
              "1631      3  0.994508      zhou\n",
              "\n",
              "[133 rows x 3 columns], R=30, lambda_step=0.01, plot_opts={'xlab': 'PC1', 'ylab': 'PC2'}, topic_order=[3, 1, 2])"
            ]
          },
          "metadata": {},
          "execution_count": 15
        }
      ],
      "source": [
        "!pip install pyLDAvis\n",
        "import pyLDAvis\n",
        "import pyLDAvis.sklearn\n",
        "pyLDAvis.enable_notebook()\n",
        "pyLDAvis.sklearn.prepare(lda_model, data_matrix, vectorizer, mds='tsne')"
      ]
    }
  ],
  "metadata": {
    "kernelspec": {
      "display_name": "Python 3 (ipykernel)",
      "language": "python",
      "name": "python3"
    },
    "language_info": {
      "codemirror_mode": {
        "name": "ipython",
        "version": 3
      },
      "file_extension": ".py",
      "mimetype": "text/x-python",
      "name": "python",
      "nbconvert_exporter": "python",
      "pygments_lexer": "ipython3",
      "version": "3.8.10"
    },
    "colab": {
      "name": "Gu Topic Model New.ipynb",
      "provenance": []
    }
  },
  "nbformat": 4,
  "nbformat_minor": 5
}