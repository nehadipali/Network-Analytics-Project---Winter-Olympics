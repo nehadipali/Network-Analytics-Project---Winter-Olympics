{
 "cells": [
  {
   "cell_type": "code",
   "execution_count": 1,
   "id": "66f8b848",
   "metadata": {
    "scrolled": true
   },
   "outputs": [],
   "source": [
    "import pandas as pd"
   ]
  },
  {
   "cell_type": "code",
   "execution_count": 2,
   "id": "e576f226",
   "metadata": {},
   "outputs": [],
   "source": [
    "docs = pd.read_csv('Nathan Chen - English Tweets.csv')"
   ]
  },
  {
   "cell_type": "code",
   "execution_count": 4,
   "id": "24a13216",
   "metadata": {},
   "outputs": [],
   "source": [
    "docs['Tidy_Content'] = docs['Tidy_Content'].str.replace('nathan', '')\n",
    "docs['Tidy_Content'] = docs['Tidy_Content'].str.replace('chen', '')"
   ]
  },
  {
   "cell_type": "code",
   "execution_count": 5,
   "id": "f5e5fb81",
   "metadata": {},
   "outputs": [],
   "source": [
    "docs_positive = docs.loc[docs['Polarity'] == 'Positive']\n",
    "docs_positive = docs_positive['Tidy_Content']\n",
    "docs_positive.lower = [docs_positive]"
   ]
  },
  {
   "cell_type": "code",
   "execution_count": 6,
   "id": "8e67312f",
   "metadata": {},
   "outputs": [],
   "source": [
    "docs_negative = docs.loc[docs['Polarity'] == 'Negative']\n",
    "docs_negative = docs_negative['Tidy_Content']\n",
    "docs_negative.lower = [docs_negative]"
   ]
  },
  {
   "cell_type": "code",
   "execution_count": 7,
   "id": "2b014f69",
   "metadata": {},
   "outputs": [],
   "source": [
    "docs_neutral = docs.loc[docs['Polarity'] == 'Neutral']\n",
    "docs_neutral = docs_neutral['Tidy_Content'].dropna()\n",
    "docs_neutral.lower = [docs_neutral]"
   ]
  },
  {
   "cell_type": "code",
   "execution_count": 8,
   "id": "903446bb",
   "metadata": {},
   "outputs": [
    {
     "data": {
      "text/plain": [
       "<10929x1366 sparse matrix of type '<class 'numpy.int64'>'\n",
       "\twith 80953 stored elements in Compressed Sparse Row format>"
      ]
     },
     "execution_count": 8,
     "metadata": {},
     "output_type": "execute_result"
    }
   ],
   "source": [
    "from sklearn.decomposition import LatentDirichletAllocation\n",
    "from sklearn.feature_extraction.text import CountVectorizer\n",
    "\n",
    "from sklearn.decomposition import LatentDirichletAllocation\n",
    "vectorizer = CountVectorizer(\n",
    "analyzer='word',       \n",
    "min_df=3,# minimum required occurences of a word \n",
    "stop_words='english',# remove stop words\n",
    "token_pattern='[a-zA-Z0-9]{3,}',# num chars > 3\n",
    "max_features=5000,# max number of unique words\n",
    "                            )\n",
    "\n",
    "data_matrix = vectorizer.fit_transform(docs_positive)\n",
    "data_matrix                                     "
   ]
  },
  {
   "cell_type": "code",
   "execution_count": 9,
   "id": "c78d1c45",
   "metadata": {},
   "outputs": [],
   "source": [
    "lda_model = LatentDirichletAllocation(\n",
    "n_components=3, # Number of topics\n",
    "learning_method='online',\n",
    "random_state=20,       \n",
    "n_jobs = -1  # Use all available CPUs\n",
    "                                     )\n",
    "lda_output = lda_model.fit_transform(data_matrix)"
   ]
  },
  {
   "cell_type": "markdown",
   "id": "eec42b30",
   "metadata": {},
   "source": [
    "## Positive Output"
   ]
  },
  {
   "cell_type": "code",
   "execution_count": 10,
   "id": "f87e241a",
   "metadata": {},
   "outputs": [
    {
     "name": "stdout",
     "output_type": "stream",
     "text": [
      "Requirement already satisfied: pyLDAvis in /Users/troyrichard/opt/anaconda3/lib/python3.8/site-packages (3.3.1)\n",
      "Requirement already satisfied: setuptools in /Users/troyrichard/opt/anaconda3/lib/python3.8/site-packages (from pyLDAvis) (58.0.4)\n",
      "Requirement already satisfied: funcy in /Users/troyrichard/opt/anaconda3/lib/python3.8/site-packages (from pyLDAvis) (1.17)\n",
      "Requirement already satisfied: jinja2 in /Users/troyrichard/opt/anaconda3/lib/python3.8/site-packages (from pyLDAvis) (3.0.2)\n",
      "Requirement already satisfied: scikit-learn in /Users/troyrichard/opt/anaconda3/lib/python3.8/site-packages (from pyLDAvis) (1.0.1)\n",
      "Requirement already satisfied: gensim in /Users/troyrichard/opt/anaconda3/lib/python3.8/site-packages (from pyLDAvis) (4.1.2)\n",
      "Requirement already satisfied: pandas>=1.2.0 in /Users/troyrichard/opt/anaconda3/lib/python3.8/site-packages (from pyLDAvis) (1.3.4)\n",
      "Requirement already satisfied: joblib in /Users/troyrichard/opt/anaconda3/lib/python3.8/site-packages (from pyLDAvis) (1.1.0)\n",
      "Requirement already satisfied: future in /Users/troyrichard/opt/anaconda3/lib/python3.8/site-packages (from pyLDAvis) (0.18.2)\n",
      "Requirement already satisfied: numpy>=1.20.0 in /Users/troyrichard/opt/anaconda3/lib/python3.8/site-packages (from pyLDAvis) (1.21.2)\n",
      "Requirement already satisfied: numexpr in /Users/troyrichard/opt/anaconda3/lib/python3.8/site-packages (from pyLDAvis) (2.7.3)\n",
      "Requirement already satisfied: scipy in /Users/troyrichard/opt/anaconda3/lib/python3.8/site-packages (from pyLDAvis) (1.7.1)\n",
      "Requirement already satisfied: sklearn in /Users/troyrichard/opt/anaconda3/lib/python3.8/site-packages (from pyLDAvis) (0.0)\n",
      "Requirement already satisfied: python-dateutil>=2.7.3 in /Users/troyrichard/opt/anaconda3/lib/python3.8/site-packages (from pandas>=1.2.0->pyLDAvis) (2.8.2)\n",
      "Requirement already satisfied: pytz>=2017.3 in /Users/troyrichard/opt/anaconda3/lib/python3.8/site-packages (from pandas>=1.2.0->pyLDAvis) (2021.3)\n",
      "Requirement already satisfied: six>=1.5 in /Users/troyrichard/opt/anaconda3/lib/python3.8/site-packages (from python-dateutil>=2.7.3->pandas>=1.2.0->pyLDAvis) (1.16.0)\n",
      "Requirement already satisfied: smart-open>=1.8.1 in /Users/troyrichard/opt/anaconda3/lib/python3.8/site-packages (from gensim->pyLDAvis) (5.2.1)\n",
      "Requirement already satisfied: MarkupSafe>=2.0 in /Users/troyrichard/opt/anaconda3/lib/python3.8/site-packages (from jinja2->pyLDAvis) (2.0.1)\n",
      "Requirement already satisfied: threadpoolctl>=2.0.0 in /Users/troyrichard/opt/anaconda3/lib/python3.8/site-packages (from scikit-learn->pyLDAvis) (2.2.0)\n"
     ]
    },
    {
     "name": "stderr",
     "output_type": "stream",
     "text": [
      "/Users/troyrichard/opt/anaconda3/lib/python3.8/site-packages/sklearn/utils/deprecation.py:87: FutureWarning: Function get_feature_names is deprecated; get_feature_names is deprecated in 1.0 and will be removed in 1.2. Please use get_feature_names_out instead.\n",
      "  warnings.warn(msg, category=FutureWarning)\n",
      "/Users/troyrichard/opt/anaconda3/lib/python3.8/site-packages/pyLDAvis/_prepare.py:246: FutureWarning: In a future version of pandas all arguments of DataFrame.drop except for the argument 'labels' will be keyword-only\n",
      "  default_term_info = default_term_info.sort_values(\n",
      "/Users/troyrichard/opt/anaconda3/lib/python3.8/site-packages/sklearn/manifold/_t_sne.py:780: FutureWarning: The default initialization in TSNE will change from 'random' to 'pca' in 1.2.\n",
      "  warnings.warn(\n",
      "/Users/troyrichard/opt/anaconda3/lib/python3.8/site-packages/sklearn/manifold/_t_sne.py:790: FutureWarning: The default learning rate in TSNE will change from 200.0 to 'auto' in 1.2.\n",
      "  warnings.warn(\n",
      "/Users/troyrichard/opt/anaconda3/lib/python3.8/site-packages/sklearn/manifold/_t_sne.py:819: FutureWarning: 'square_distances' has been introduced in 0.24 to help phase out legacy squaring behavior. The 'legacy' setting will be removed in 1.1 (renaming of 0.26), and the default setting will be changed to True. In 1.3, 'square_distances' will be removed altogether, and distances will be squared by default. Set 'square_distances'=True to silence this warning.\n",
      "  warnings.warn(\n"
     ]
    },
    {
     "data": {
      "text/html": [
       "\n",
       "<link rel=\"stylesheet\" type=\"text/css\" href=\"https://cdn.jsdelivr.net/gh/bmabey/pyLDAvis@3.3.1/pyLDAvis/js/ldavis.v1.0.0.css\">\n",
       "\n",
       "\n",
       "<div id=\"ldavis_el186151405128643826402858894174\"></div>\n",
       "<script type=\"text/javascript\">\n",
       "\n",
       "var ldavis_el186151405128643826402858894174_data = {\"mdsDat\": {\"x\": [-1015.7005615234375, -387.9960021972656, -2184.74560546875], \"y\": [1338.981201171875, -373.316162109375, -60.565799713134766], \"topics\": [1, 2, 3], \"cluster\": [1, 1, 1], \"Freq\": [49.228853339108525, 26.492809239549587, 24.278337421341895]}, \"tinfo\": {\"Term\": [\"champion\", \"olymp\", \"chines\", \"support\", \"state\", \"winterolymp\", \"fan\", \"medal\", \"gold\", \"media\", \"china\", \"yuzu\", \"ignor\", \"mostli\", \"free\", \"appar\", \"meda\", \"piss\", \"meanwhil\", \"yuzuru\", \"skate\", \"hanyu\", \"winter\", \"thi\", \"beij\", \"quad\", \"athlet\", \"shoma\", \"asian\", \"traitor\", \"medal\", \"free\", \"yuzuru\", \"hanyu\", \"winter\", \"shoma\", \"athlet\", \"yuma\", \"look\", \"kagiyama\", \"judg\", \"rescor\", \"america\", \"hair\", \"admir\", \"unit\", \"thank\", \"mother\", \"tear\", \"game\", \"award\", \"immedi\", \"drive\", \"endlessli\", \"addit\", \"perform\", \"congratul\", \"actual\", \"career\", \"elton\", \"music\", \"skate\", \"gold\", \"like\", \"figur\", \"win\", \"beij\", \"peopl\", \"olymp\", \"said\", \"excel\", \"skater\", \"team\", \"champion\", \"quad\", \"asian\", \"king\", \"chloe\", \"figuresk\", \"dure\", \"press\", \"confer\", \"noth\", \"thread\", \"say\", \"suni\", \"display\", \"happier\", \"cheer\", \"leav\", \"proud\", \"baker\", \"hawayek\", \"kaitlin\", \"jean\", \"sport\", \"compet\", \"championship\", \"kamila\", \"podium\", \"crown\", \"told\", \"guillaum\", \"year\", \"clear\", \"olymp\", \"world\", \"thi\", \"make\", \"american\", \"beij\", \"watch\", \"just\", \"skate\", \"win\", \"figur\", \"like\", \"excel\", \"said\", \"chines\", \"support\", \"state\", \"fan\", \"media\", \"china\", \"yuzu\", \"ignor\", \"mostli\", \"appar\", \"piss\", \"meanwhil\", \"meda\", \"traitor\", \"human\", \"right\", \"good\", \"abus\", \"record\", \"social\", \"fame\", \"better\", \"teammat\", \"evan\", \"born\", \"bate\", \"olympian\", \"threw\", \"differ\", \"wildli\", \"winterolymp\", \"know\", \"gold\", \"love\", \"win\", \"skater\"], \"Freq\": [2122.0, 3761.0, 1419.0, 1113.0, 977.0, 1001.0, 820.0, 1647.0, 3283.0, 652.0, 587.0, 540.0, 520.0, 513.0, 1030.0, 509.0, 502.0, 502.0, 502.0, 914.0, 1966.0, 790.0, 740.0, 794.0, 1302.0, 320.0, 603.0, 582.0, 295.0, 266.0, 1647.160928224969, 1029.7956398952626, 913.2903662225342, 789.8643277573142, 739.8492956998447, 581.8033027183099, 603.0924439064075, 502.0597029864365, 500.6901544001301, 498.44508513552927, 474.5529233943771, 457.51602540351826, 370.6484328776613, 358.79276075810697, 355.07020476708317, 351.45045904293534, 334.66816767599425, 280.26077288902945, 291.7539821081182, 280.2061403268409, 272.2202028334466, 270.3471273866961, 269.6887667460604, 268.9566836893902, 268.95668368796765, 419.06701912208223, 204.21895989072127, 170.92154705693176, 162.80441482079135, 157.40732350874322, 167.68982973739367, 1665.2313481251701, 2482.873995218574, 894.4863558316805, 759.5492023005031, 808.4850804841693, 830.3234019831871, 352.60699352344807, 1170.3675483687077, 353.7776906993341, 358.58503814337803, 353.3542502414596, 315.8562019438657, 2122.0776726822796, 319.73594329786386, 295.1044958642955, 277.0658844634392, 255.8858043732252, 227.4853116536343, 194.6659587775294, 184.63032174045253, 182.41580731309998, 172.89601414353461, 164.73293023424972, 171.84768524826313, 158.75738146015905, 157.53563931005382, 157.53563903779244, 136.90756407116902, 115.32920167634103, 118.72695872260432, 111.18554320356499, 111.18554319596649, 109.64143915847148, 109.64143914971018, 120.69288654445953, 98.03400339642364, 92.92471531019544, 87.19732949878755, 83.04582675932481, 86.0847465648282, 81.66363311509569, 80.53019673216582, 216.13969430174694, 106.98212061559458, 2590.9693289331176, 335.5518441454741, 572.1889401365576, 242.27826829613156, 282.73897339749266, 471.63230298120783, 180.31955251963723, 191.89381011300748, 301.00217441176295, 252.46322014798665, 230.96376099668348, 209.17308393007258, 166.35173345467075, 144.1612640653612, 1419.158444805437, 1112.5911522582246, 977.0345464076106, 819.3664042436304, 652.2530253573432, 586.5731416992489, 539.64611351184, 520.1932521891908, 513.2973982794779, 509.25307743769054, 501.92408264723014, 501.92408264543195, 502.0320516307227, 265.4140479817363, 201.22893983005827, 204.0681141180306, 214.8888071793843, 173.96002612459736, 172.99101769350375, 179.0946423994291, 161.56653254721095, 167.5639616179855, 161.10973429223276, 158.76963665261673, 144.43655555147774, 136.92192290272968, 136.87371552799956, 133.58964802408232, 130.16097726707298, 125.1586005619519, 970.5271337325397, 137.8078908300544, 800.0431686190132, 185.7433465771728, 174.20467107083047, 159.18224490718845], \"Total\": [2122.0, 3761.0, 1419.0, 1113.0, 977.0, 1001.0, 820.0, 1647.0, 3283.0, 652.0, 587.0, 540.0, 520.0, 513.0, 1030.0, 509.0, 502.0, 502.0, 502.0, 914.0, 1966.0, 790.0, 740.0, 794.0, 1302.0, 320.0, 603.0, 582.0, 295.0, 266.0, 1647.946194459613, 1030.5593461808503, 914.0469514042952, 790.6243317245605, 740.596045009712, 582.5475744982186, 603.8869438960003, 502.812891481804, 501.44240371858217, 499.19607363293295, 475.2903690286252, 458.25079148254713, 371.43035187366837, 359.55740353434805, 355.83074431793585, 352.21044506092835, 335.4140556042517, 280.9966226477566, 292.52418891230354, 280.95297963072284, 272.95571758553695, 271.08231227450693, 270.42411000225235, 269.6914884672885, 269.69148846737016, 420.64774924086333, 205.03207730093786, 171.6663490125475, 163.5533739165058, 158.15758928565896, 168.51471329458315, 1966.6539128357456, 3283.375400833611, 1104.095238577728, 991.9873765674787, 1235.1529717029864, 1302.3618208333783, 430.023772731029, 3761.7534663781385, 498.35232013214085, 525.3638191774181, 569.7180453465379, 501.64338815214063, 2122.7958855320658, 320.49284404110443, 295.8741859658961, 277.8037229138436, 256.61092100969154, 228.21485268599173, 195.3883623712424, 185.34206615576318, 183.12458319989952, 173.60757642374423, 165.4424089609693, 172.6051488021839, 159.4654824050379, 158.2435537991163, 158.24355377755762, 137.64771237750222, 116.04094454575099, 119.47802242648373, 111.89387947584986, 111.89387947680456, 110.34924441478672, 110.34924441642181, 121.4909305384489, 98.74876473848103, 93.65313601730382, 87.91717433613981, 83.76157526458236, 86.83858920258639, 82.37894570620048, 81.23832221608696, 218.5357184711038, 109.36439242536353, 3761.7534663781385, 413.7912165270253, 794.0357249192875, 411.6719518431165, 548.4170406919218, 1302.3618208333783, 334.0628590561364, 411.52323266691366, 1966.6539128357456, 1235.1529717029864, 991.9873765674787, 1104.095238577728, 525.3638191774181, 498.35232013214085, 1419.8064096048251, 1113.2491227277771, 977.8023895615505, 820.0546316533386, 652.8959192448892, 587.2240125388759, 540.2892097318272, 520.8336000115478, 513.9398344560445, 509.89290002381364, 502.5631398892395, 502.56313988770887, 502.6713010785614, 266.05920740949915, 201.88031866086132, 204.73642993748203, 215.60584295434202, 174.5991732883159, 173.65520055764708, 179.78326285898055, 162.20621930811987, 168.23690742163961, 161.79010095776323, 159.4548400591603, 145.08376468338264, 137.56147376944392, 137.5282043520213, 134.22870311092416, 130.80646155376, 125.79882643765023, 1001.572686907323, 141.14302556236143, 3283.375400833611, 389.09785313991387, 1235.1529717029864, 569.7180453465379], \"Category\": [\"Default\", \"Default\", \"Default\", \"Default\", \"Default\", \"Default\", \"Default\", \"Default\", \"Default\", \"Default\", \"Default\", \"Default\", \"Default\", \"Default\", \"Default\", \"Default\", \"Default\", \"Default\", \"Default\", \"Default\", \"Default\", \"Default\", \"Default\", \"Default\", \"Default\", \"Default\", \"Default\", \"Default\", \"Default\", \"Default\", \"Topic1\", \"Topic1\", \"Topic1\", \"Topic1\", \"Topic1\", \"Topic1\", \"Topic1\", \"Topic1\", \"Topic1\", \"Topic1\", \"Topic1\", \"Topic1\", \"Topic1\", \"Topic1\", \"Topic1\", \"Topic1\", \"Topic1\", \"Topic1\", \"Topic1\", \"Topic1\", \"Topic1\", \"Topic1\", \"Topic1\", \"Topic1\", \"Topic1\", \"Topic1\", \"Topic1\", \"Topic1\", \"Topic1\", \"Topic1\", \"Topic1\", \"Topic1\", \"Topic1\", \"Topic1\", \"Topic1\", \"Topic1\", \"Topic1\", \"Topic1\", \"Topic1\", \"Topic1\", \"Topic1\", \"Topic1\", \"Topic1\", \"Topic2\", \"Topic2\", \"Topic2\", \"Topic2\", \"Topic2\", \"Topic2\", \"Topic2\", \"Topic2\", \"Topic2\", \"Topic2\", \"Topic2\", \"Topic2\", \"Topic2\", \"Topic2\", \"Topic2\", \"Topic2\", \"Topic2\", \"Topic2\", \"Topic2\", \"Topic2\", \"Topic2\", \"Topic2\", \"Topic2\", \"Topic2\", \"Topic2\", \"Topic2\", \"Topic2\", \"Topic2\", \"Topic2\", \"Topic2\", \"Topic2\", \"Topic2\", \"Topic2\", \"Topic2\", \"Topic2\", \"Topic2\", \"Topic2\", \"Topic2\", \"Topic2\", \"Topic2\", \"Topic2\", \"Topic2\", \"Topic2\", \"Topic2\", \"Topic2\", \"Topic2\", \"Topic3\", \"Topic3\", \"Topic3\", \"Topic3\", \"Topic3\", \"Topic3\", \"Topic3\", \"Topic3\", \"Topic3\", \"Topic3\", \"Topic3\", \"Topic3\", \"Topic3\", \"Topic3\", \"Topic3\", \"Topic3\", \"Topic3\", \"Topic3\", \"Topic3\", \"Topic3\", \"Topic3\", \"Topic3\", \"Topic3\", \"Topic3\", \"Topic3\", \"Topic3\", \"Topic3\", \"Topic3\", \"Topic3\", \"Topic3\", \"Topic3\", \"Topic3\", \"Topic3\", \"Topic3\", \"Topic3\", \"Topic3\"], \"logprob\": [30.0, 29.0, 28.0, 27.0, 26.0, 25.0, 24.0, 23.0, 22.0, 21.0, 20.0, 19.0, 18.0, 17.0, 16.0, 15.0, 14.0, 13.0, 12.0, 11.0, 10.0, 9.0, 8.0, 7.0, 6.0, 5.0, 4.0, 3.0, 2.0, 1.0, -3.2064, -3.676, -3.7961, -3.9413, -4.0067, -4.247, -4.2111, -4.3944, -4.3972, -4.4017, -4.4508, -4.4873, -4.6979, -4.7304, -4.7408, -4.7511, -4.8, -4.9774, -4.9372, -4.9776, -5.0065, -5.0135, -5.0159, -5.0186, -5.0186, -4.5751, -5.294, -5.472, -5.5206, -5.5543, -5.491, -3.1954, -2.796, -3.8169, -3.9804, -3.918, -3.8913, -4.7478, -3.5481, -4.7445, -4.731, -4.7457, -4.8579, -2.3334, -4.2261, -4.3062, -4.3693, -4.4488, -4.5665, -4.7223, -4.7752, -4.7873, -4.8409, -4.8892, -4.8469, -4.9262, -4.9339, -4.9339, -5.0742, -5.2458, -5.2167, -5.2824, -5.2824, -5.2963, -5.2963, -5.2003, -5.4082, -5.4618, -5.5254, -5.5742, -5.5382, -5.5909, -5.6049, -4.6176, -5.3209, -2.1338, -4.1778, -3.6441, -4.5035, -4.349, -3.8374, -4.7988, -4.7366, -4.2864, -4.4623, -4.5513, -4.6504, -4.8794, -5.0226, -2.6484, -2.8918, -3.0217, -3.1977, -3.4258, -3.532, -3.6154, -3.6521, -3.6654, -3.6733, -3.6878, -3.6878, -3.6876, -4.325, -4.6018, -4.5878, -4.5361, -4.7474, -4.753, -4.7183, -4.8213, -4.7849, -4.8242, -4.8388, -4.9334, -4.9869, -4.9872, -5.0115, -5.0375, -5.0767, -3.0284, -4.9804, -3.2216, -4.6819, -4.746, -4.8362], \"loglift\": [30.0, 29.0, 28.0, 27.0, 26.0, 25.0, 24.0, 23.0, 22.0, 21.0, 20.0, 19.0, 18.0, 17.0, 16.0, 15.0, 14.0, 13.0, 12.0, 11.0, 10.0, 9.0, 8.0, 7.0, 6.0, 5.0, 4.0, 3.0, 2.0, 1.0, 0.7082, 0.7079, 0.7079, 0.7077, 0.7077, 0.7074, 0.7074, 0.7072, 0.7072, 0.7072, 0.7071, 0.7071, 0.7066, 0.7066, 0.7066, 0.7065, 0.7065, 0.7061, 0.7061, 0.706, 0.706, 0.706, 0.706, 0.706, 0.706, 0.7049, 0.7047, 0.7043, 0.7041, 0.7039, 0.7038, 0.5423, 0.4292, 0.4982, 0.4417, 0.2849, 0.2586, 0.5102, -0.4589, 0.3661, 0.3268, 0.231, 0.2461, 1.328, 1.3259, 1.3257, 1.3256, 1.3255, 1.3251, 1.3246, 1.3244, 1.3244, 1.3242, 1.324, 1.3239, 1.3238, 1.3238, 1.3238, 1.3229, 1.3221, 1.322, 1.3219, 1.3219, 1.3219, 1.3219, 1.3217, 1.321, 1.3205, 1.3201, 1.3197, 1.3196, 1.3196, 1.3195, 1.3173, 1.3063, 0.9554, 1.1187, 1.0006, 0.7982, 0.6658, 0.3126, 0.7117, 0.5654, -0.5487, -0.2594, -0.1292, -0.3353, 0.1783, 0.0879, 1.4151, 1.415, 1.4148, 1.4147, 1.4146, 1.4145, 1.4144, 1.4144, 1.4143, 1.4143, 1.4143, 1.4143, 1.4143, 1.4132, 1.4124, 1.4123, 1.4123, 1.4119, 1.4118, 1.4117, 1.4116, 1.4116, 1.4114, 1.4113, 1.4111, 1.4109, 1.4108, 1.4108, 1.4106, 1.4105, 1.3841, 1.3917, 0.0036, 0.6761, -0.5431, 0.1405]}, \"token.table\": {\"Topic\": [3, 1, 1, 1, 1, 1, 2, 3, 2, 1, 1, 2, 3, 1, 2, 3, 3, 1, 2, 2, 2, 3, 3, 2, 1, 2, 2, 2, 1, 2, 3, 2, 1, 2, 1, 1, 3, 1, 2, 3, 3, 1, 2, 3, 2, 1, 1, 1, 3, 3, 2, 1, 1, 2, 2, 3, 3, 1, 2, 1, 1, 2, 1, 2, 2, 2, 1, 3, 2, 1, 2, 1, 1, 3, 1, 2, 3, 3, 1, 3, 3, 1, 1, 2, 1, 2, 3, 1, 3, 1, 3, 3, 2, 2, 2, 2, 3, 1, 3, 1, 2, 2, 1, 1, 2, 1, 2, 3, 3, 2, 3, 2, 3, 1, 2, 3, 3, 1, 1, 1, 2, 3, 2, 3, 2, 3, 1, 1, 2, 3, 3, 1, 2, 3, 1, 2, 3, 2, 3, 1, 2, 1, 3, 1], \"Freq\": [0.9965682925237768, 0.996118348084057, 0.9974360018875649, 0.9976653385599712, 0.9988413658940432, 0.48320890916456066, 0.5160306463908327, 0.9982488478977214, 0.9970454131946581, 0.9985312749265978, 0.996498635038713, 0.9920113639813267, 0.9959183792230595, 0.6373036945054831, 0.36241848651396147, 0.9985918225360273, 0.9925300760857168, 0.9966165545640882, 0.9996250767502, 0.9930260101788461, 0.9952944195997544, 0.9996185228565376, 0.9994320284798196, 0.9976192712013668, 0.01828748787101719, 0.9783806010994197, 0.9924174774189429, 0.9938589173542477, 0.9949662642327766, 0.9903431272860728, 0.9938346963584169, 0.9984608927613854, 0.9984316856871644, 0.9980123566903922, 0.992680785722093, 0.997436001887867, 0.9971475305547857, 0.6833359795543207, 0.3159715114373739, 0.9987286596716236, 0.9987139495191775, 0.76613878155364, 0.23286586649854057, 0.0010080773441495264, 0.9946767150704986, 0.9994572402036591, 0.9966080458303899, 0.756233965622571, 0.24365170056305144, 0.9971900438965825, 0.9970663818554372, 0.998449750919133, 0.999210330748108, 0.9984608928974131, 0.9920113639728627, 0.9956394032528739, 0.9983994887973254, 0.9960074404507405, 0.9968350991593211, 0.9993890702451669, 0.5321692254912332, 0.4665593209786154, 0.9976040003194968, 0.9968350991740916, 0.9895677455165572, 0.9971068677359198, 0.02125503536605502, 0.977731626838531, 0.9910295064399396, 0.8097127573447666, 0.18929526430095772, 0.9991177377196236, 0.5217196609075203, 0.47802885186600386, 0.41052104532106665, 0.5878467039508765, 0.998879464403548, 0.998664532713284, 0.999425834130511, 0.9986277763139868, 0.9981713142414048, 0.996453257557455, 0.9969455884028158, 0.9965002885458106, 0.31102516697525373, 0.6887745364383611, 0.9961593016173664, 0.8208848495936392, 0.17905986804167198, 0.9960828288185614, 0.002377285987633798, 0.9988794644005058, 0.9909078206543187, 0.9981544062669739, 0.9959990765098421, 0.9984622307478378, 0.9962270029602162, 0.9994527200231651, 0.9964030341951996, 0.7103408285650902, 0.28895220145020617, 0.9964940280960134, 0.999060034712718, 0.8466156597930408, 0.1530518399986218, 0.6196047376124157, 0.10004949020937025, 0.279085420057717, 0.9956432937831653, 0.995959117801855, 0.9991793949676168, 0.9970809833073744, 0.999776220144538, 0.6299295624408033, 0.13356101482130955, 0.23722030990650506, 0.9951165061824796, 0.9982080493437051, 0.9987655388993589, 0.1750550959330314, 0.7203706106021148, 0.1045293018880691, 0.9973259035349656, 0.9982961683632213, 0.9953999689732378, 0.9960189033869108, 0.9965632902774392, 0.45799763682885103, 0.5388207492104129, 0.0029934486067245162, 0.9936499690794321, 0.6541699842133379, 0.20402331190812023, 0.14087323917465444, 0.9991951820243595, 0.03095132325914602, 0.9694753188590576, 0.8120037027853523, 0.18850085957517107, 0.009151822017893396, 0.9883967779324867, 0.9983833121712365, 0.9994647131080578, 0.9988545977833122], \"Term\": [\"abus\", \"actual\", \"addit\", \"admir\", \"america\", \"american\", \"american\", \"appar\", \"asian\", \"athlet\", \"award\", \"baker\", \"bate\", \"beij\", \"beij\", \"better\", \"born\", \"career\", \"champion\", \"championship\", \"cheer\", \"china\", \"chines\", \"chloe\", \"clear\", \"clear\", \"compet\", \"confer\", \"congratul\", \"crown\", \"differ\", \"display\", \"drive\", \"dure\", \"elton\", \"endlessli\", \"evan\", \"excel\", \"excel\", \"fame\", \"fan\", \"figur\", \"figur\", \"figur\", \"figuresk\", \"free\", \"game\", \"gold\", \"gold\", \"good\", \"guillaum\", \"hair\", \"hanyu\", \"happier\", \"hawayek\", \"human\", \"ignor\", \"immedi\", \"jean\", \"judg\", \"just\", \"just\", \"kagiyama\", \"kaitlin\", \"kamila\", \"king\", \"know\", \"know\", \"leav\", \"like\", \"like\", \"look\", \"love\", \"love\", \"make\", \"make\", \"meanwhil\", \"meda\", \"medal\", \"media\", \"mostli\", \"mother\", \"music\", \"noth\", \"olymp\", \"olymp\", \"olympian\", \"peopl\", \"peopl\", \"perform\", \"perform\", \"piss\", \"podium\", \"press\", \"proud\", \"quad\", \"record\", \"rescor\", \"right\", \"said\", \"said\", \"say\", \"shoma\", \"skate\", \"skate\", \"skater\", \"skater\", \"skater\", \"social\", \"sport\", \"state\", \"suni\", \"support\", \"team\", \"team\", \"team\", \"teammat\", \"tear\", \"thank\", \"thi\", \"thi\", \"thi\", \"thread\", \"threw\", \"told\", \"traitor\", \"unit\", \"watch\", \"watch\", \"watch\", \"wildli\", \"win\", \"win\", \"win\", \"winter\", \"winterolymp\", \"winterolymp\", \"world\", \"world\", \"year\", \"year\", \"yuma\", \"yuzu\", \"yuzuru\"]}, \"R\": 30, \"lambda.step\": 0.01, \"plot.opts\": {\"xlab\": \"PC1\", \"ylab\": \"PC2\"}, \"topic.order\": [2, 1, 3]};\n",
       "\n",
       "function LDAvis_load_lib(url, callback){\n",
       "  var s = document.createElement('script');\n",
       "  s.src = url;\n",
       "  s.async = true;\n",
       "  s.onreadystatechange = s.onload = callback;\n",
       "  s.onerror = function(){console.warn(\"failed to load library \" + url);};\n",
       "  document.getElementsByTagName(\"head\")[0].appendChild(s);\n",
       "}\n",
       "\n",
       "if(typeof(LDAvis) !== \"undefined\"){\n",
       "   // already loaded: just create the visualization\n",
       "   !function(LDAvis){\n",
       "       new LDAvis(\"#\" + \"ldavis_el186151405128643826402858894174\", ldavis_el186151405128643826402858894174_data);\n",
       "   }(LDAvis);\n",
       "}else if(typeof define === \"function\" && define.amd){\n",
       "   // require.js is available: use it to load d3/LDAvis\n",
       "   require.config({paths: {d3: \"https://d3js.org/d3.v5\"}});\n",
       "   require([\"d3\"], function(d3){\n",
       "      window.d3 = d3;\n",
       "      LDAvis_load_lib(\"https://cdn.jsdelivr.net/gh/bmabey/pyLDAvis@3.3.1/pyLDAvis/js/ldavis.v3.0.0.js\", function(){\n",
       "        new LDAvis(\"#\" + \"ldavis_el186151405128643826402858894174\", ldavis_el186151405128643826402858894174_data);\n",
       "      });\n",
       "    });\n",
       "}else{\n",
       "    // require.js not available: dynamically load d3 & LDAvis\n",
       "    LDAvis_load_lib(\"https://d3js.org/d3.v5.js\", function(){\n",
       "         LDAvis_load_lib(\"https://cdn.jsdelivr.net/gh/bmabey/pyLDAvis@3.3.1/pyLDAvis/js/ldavis.v3.0.0.js\", function(){\n",
       "                 new LDAvis(\"#\" + \"ldavis_el186151405128643826402858894174\", ldavis_el186151405128643826402858894174_data);\n",
       "            })\n",
       "         });\n",
       "}\n",
       "</script>"
      ],
      "text/plain": [
       "PreparedData(topic_coordinates=                 x            y  topics  cluster       Freq\n",
       "topic                                                      \n",
       "1     -1015.700562  1338.981201       1        1  49.228853\n",
       "0      -387.996002  -373.316162       2        1  26.492809\n",
       "2     -2184.745605   -60.565800       3        1  24.278337, topic_info=          Term         Freq        Total Category  logprob  loglift\n",
       "184   champion  2122.000000  2122.000000  Default  30.0000  30.0000\n",
       "818      olymp  3761.000000  3761.000000  Default  29.0000  29.0000\n",
       "201     chines  1419.000000  1419.000000  Default  28.0000  28.0000\n",
       "1169   support  1113.000000  1113.000000  Default  27.0000  27.0000\n",
       "1130     state   977.000000   977.000000  Default  26.0000  26.0000\n",
       "...        ...          ...          ...      ...      ...      ...\n",
       "658       know   137.807891   141.143026   Topic3  -4.9804   1.3917\n",
       "503       gold   800.043169  3283.375401   Topic3  -3.2216   0.0036\n",
       "703       love   185.743347   389.097853   Topic3  -4.6819   0.6761\n",
       "1316       win   174.204671  1235.152972   Topic3  -4.7460  -0.5431\n",
       "1081    skater   159.182245   569.718045   Topic3  -4.8362   0.1405\n",
       "\n",
       "[155 rows x 6 columns], token_table=      Topic      Freq     Term\n",
       "term                          \n",
       "3         3  0.996568     abus\n",
       "9         1  0.996118   actual\n",
       "11        1  0.997436    addit\n",
       "12        1  0.997665    admir\n",
       "34        1  0.998841  america\n",
       "...     ...       ...      ...\n",
       "1348      1  0.009152     year\n",
       "1348      2  0.988397     year\n",
       "1356      1  0.998383     yuma\n",
       "1359      3  0.999465     yuzu\n",
       "1360      1  0.998855   yuzuru\n",
       "\n",
       "[144 rows x 3 columns], R=30, lambda_step=0.01, plot_opts={'xlab': 'PC1', 'ylab': 'PC2'}, topic_order=[2, 1, 3])"
      ]
     },
     "execution_count": 10,
     "metadata": {},
     "output_type": "execute_result"
    }
   ],
   "source": [
    "!pip install pyLDAvis\n",
    "import pyLDAvis\n",
    "import pyLDAvis.sklearn\n",
    "pyLDAvis.enable_notebook()\n",
    "pyLDAvis.sklearn.prepare(lda_model, data_matrix, vectorizer, mds='tsne')"
   ]
  },
  {
   "cell_type": "code",
   "execution_count": 11,
   "id": "293b8bf6",
   "metadata": {},
   "outputs": [
    {
     "data": {
      "text/plain": [
       "<3652x514 sparse matrix of type '<class 'numpy.int64'>'\n",
       "\twith 18040 stored elements in Compressed Sparse Row format>"
      ]
     },
     "execution_count": 11,
     "metadata": {},
     "output_type": "execute_result"
    }
   ],
   "source": [
    "from sklearn.decomposition import LatentDirichletAllocation\n",
    "from sklearn.feature_extraction.text import CountVectorizer\n",
    "\n",
    "from sklearn.decomposition import LatentDirichletAllocation\n",
    "vectorizer = CountVectorizer(\n",
    "analyzer='word',       \n",
    "min_df=3,# minimum required occurences of a word \n",
    "stop_words='english',# remove stop words\n",
    "token_pattern='[a-zA-Z0-9]{3,}',# num chars > 3\n",
    "max_features=5000,# max number of unique words\n",
    "                            )\n",
    "\n",
    "data_matrix = vectorizer.fit_transform(docs_negative)\n",
    "data_matrix  "
   ]
  },
  {
   "cell_type": "code",
   "execution_count": 16,
   "id": "17c94541",
   "metadata": {},
   "outputs": [],
   "source": [
    "lda_model = LatentDirichletAllocation(\n",
    "n_components=4, # Number of topics\n",
    "learning_method='online',\n",
    "random_state=20,       \n",
    "n_jobs = -1  # Use all available CPUs\n",
    "                                     )\n",
    "lda_output = lda_model.fit_transform(data_matrix)"
   ]
  },
  {
   "cell_type": "markdown",
   "id": "5199bfe3",
   "metadata": {},
   "source": [
    "## Negative Output"
   ]
  },
  {
   "cell_type": "code",
   "execution_count": 17,
   "id": "ac447118",
   "metadata": {
    "scrolled": false
   },
   "outputs": [
    {
     "name": "stdout",
     "output_type": "stream",
     "text": [
      "Requirement already satisfied: pyLDAvis in /Users/troyrichard/opt/anaconda3/lib/python3.8/site-packages (3.3.1)\n",
      "Requirement already satisfied: joblib in /Users/troyrichard/opt/anaconda3/lib/python3.8/site-packages (from pyLDAvis) (1.1.0)\n",
      "Requirement already satisfied: numexpr in /Users/troyrichard/opt/anaconda3/lib/python3.8/site-packages (from pyLDAvis) (2.7.3)\n",
      "Requirement already satisfied: sklearn in /Users/troyrichard/opt/anaconda3/lib/python3.8/site-packages (from pyLDAvis) (0.0)\n",
      "Requirement already satisfied: pandas>=1.2.0 in /Users/troyrichard/opt/anaconda3/lib/python3.8/site-packages (from pyLDAvis) (1.3.4)\n",
      "Requirement already satisfied: scikit-learn in /Users/troyrichard/opt/anaconda3/lib/python3.8/site-packages (from pyLDAvis) (1.0.1)\n",
      "Requirement already satisfied: jinja2 in /Users/troyrichard/opt/anaconda3/lib/python3.8/site-packages (from pyLDAvis) (3.0.2)\n",
      "Requirement already satisfied: setuptools in /Users/troyrichard/opt/anaconda3/lib/python3.8/site-packages (from pyLDAvis) (58.0.4)\n",
      "Requirement already satisfied: scipy in /Users/troyrichard/opt/anaconda3/lib/python3.8/site-packages (from pyLDAvis) (1.7.1)\n",
      "Requirement already satisfied: future in /Users/troyrichard/opt/anaconda3/lib/python3.8/site-packages (from pyLDAvis) (0.18.2)\n",
      "Requirement already satisfied: gensim in /Users/troyrichard/opt/anaconda3/lib/python3.8/site-packages (from pyLDAvis) (4.1.2)\n",
      "Requirement already satisfied: funcy in /Users/troyrichard/opt/anaconda3/lib/python3.8/site-packages (from pyLDAvis) (1.17)\n",
      "Requirement already satisfied: numpy>=1.20.0 in /Users/troyrichard/opt/anaconda3/lib/python3.8/site-packages (from pyLDAvis) (1.21.2)\n",
      "Requirement already satisfied: python-dateutil>=2.7.3 in /Users/troyrichard/opt/anaconda3/lib/python3.8/site-packages (from pandas>=1.2.0->pyLDAvis) (2.8.2)\n",
      "Requirement already satisfied: pytz>=2017.3 in /Users/troyrichard/opt/anaconda3/lib/python3.8/site-packages (from pandas>=1.2.0->pyLDAvis) (2021.3)\n",
      "Requirement already satisfied: six>=1.5 in /Users/troyrichard/opt/anaconda3/lib/python3.8/site-packages (from python-dateutil>=2.7.3->pandas>=1.2.0->pyLDAvis) (1.16.0)\n",
      "Requirement already satisfied: smart-open>=1.8.1 in /Users/troyrichard/opt/anaconda3/lib/python3.8/site-packages (from gensim->pyLDAvis) (5.2.1)\n",
      "Requirement already satisfied: MarkupSafe>=2.0 in /Users/troyrichard/opt/anaconda3/lib/python3.8/site-packages (from jinja2->pyLDAvis) (2.0.1)\n",
      "Requirement already satisfied: threadpoolctl>=2.0.0 in /Users/troyrichard/opt/anaconda3/lib/python3.8/site-packages (from scikit-learn->pyLDAvis) (2.2.0)\n"
     ]
    },
    {
     "name": "stderr",
     "output_type": "stream",
     "text": [
      "/Users/troyrichard/opt/anaconda3/lib/python3.8/site-packages/sklearn/utils/deprecation.py:87: FutureWarning: Function get_feature_names is deprecated; get_feature_names is deprecated in 1.0 and will be removed in 1.2. Please use get_feature_names_out instead.\n",
      "  warnings.warn(msg, category=FutureWarning)\n",
      "/Users/troyrichard/opt/anaconda3/lib/python3.8/site-packages/pyLDAvis/_prepare.py:246: FutureWarning: In a future version of pandas all arguments of DataFrame.drop except for the argument 'labels' will be keyword-only\n",
      "  default_term_info = default_term_info.sort_values(\n",
      "/Users/troyrichard/opt/anaconda3/lib/python3.8/site-packages/sklearn/manifold/_t_sne.py:780: FutureWarning: The default initialization in TSNE will change from 'random' to 'pca' in 1.2.\n",
      "  warnings.warn(\n",
      "/Users/troyrichard/opt/anaconda3/lib/python3.8/site-packages/sklearn/manifold/_t_sne.py:790: FutureWarning: The default learning rate in TSNE will change from 200.0 to 'auto' in 1.2.\n",
      "  warnings.warn(\n",
      "/Users/troyrichard/opt/anaconda3/lib/python3.8/site-packages/sklearn/manifold/_t_sne.py:819: FutureWarning: 'square_distances' has been introduced in 0.24 to help phase out legacy squaring behavior. The 'legacy' setting will be removed in 1.1 (renaming of 0.26), and the default setting will be changed to True. In 1.3, 'square_distances' will be removed altogether, and distances will be squared by default. Set 'square_distances'=True to silence this warning.\n",
      "  warnings.warn(\n"
     ]
    },
    {
     "data": {
      "text/html": [
       "\n",
       "<link rel=\"stylesheet\" type=\"text/css\" href=\"https://cdn.jsdelivr.net/gh/bmabey/pyLDAvis@3.3.1/pyLDAvis/js/ldavis.v1.0.0.css\">\n",
       "\n",
       "\n",
       "<div id=\"ldavis_el186151405128635296643751020019\"></div>\n",
       "<script type=\"text/javascript\">\n",
       "\n",
       "var ldavis_el186151405128635296643751020019_data = {\"mdsDat\": {\"x\": [269.5624084472656, 1.782994270324707, 220.81143188476562, 50.533992767333984], \"y\": [-124.80339813232422, -295.0796813964844, -343.8321228027344, -76.05093383789062], \"topics\": [1, 2, 3, 4], \"cluster\": [1, 1, 1, 1], \"Freq\": [29.52416854686995, 24.89503619520974, 23.311832605495898, 22.268962652424413]}, \"tinfo\": {\"Term\": [\"scare\", \"way\", \"american\", \"hate\", \"trusova\", \"alexandra\", \"messag\", \"leak\", \"thi\", \"asian\", \"team\", \"stori\", \"contempt\", \"make\", \"racist\", \"feel\", \"wonder\", \"chloe\", \"great\", \"america\", \"perpetu\", \"olympi\", \"skate\", \"yuzuru\", \"fuck\", \"hanyu\", \"figur\", \"gold\", \"word\", \"just\", \"american\", \"team\", \"stori\", \"contempt\", \"yuzuru\", \"hanyu\", \"fan\", \"score\", \"record\", \"inflat\", \"broke\", \"shock\", \"compon\", \"bitch\", \"improp\", \"report\", \"tweet\", \"boyang\", \"stan\", \"honey\", \"fight\", \"kpop\", \"anyon\", \"outfit\", \"ugliest\", \"money\", \"design\", \"fact\", \"hater\", \"twitter\", \"thi\", \"media\", \"like\", \"weird\", \"chloe\", \"asian\", \"china\", \"hate\", \"make\", \"feel\", \"racist\", \"wonder\", \"great\", \"america\", \"perpetu\", \"olympi\", \"victim\", \"crime\", \"real\", \"destroy\", \"blame\", \"sport\", \"domin\", \"embarrass\", \"straight\", \"depress\", \"poor\", \"male\", \"hear\", \"win\", \"becom\", \"homosexu\", \"girl\", \"befor\", \"shame\", \"aapi\", \"rise\", \"respect\", \"okay\", \"asian\", \"chloe\", \"everyon\", \"racism\", \"vera\", \"scare\", \"way\", \"word\", \"gold\", \"year\", \"skater\", \"hard\", \"work\", \"figur\", \"captur\", \"jump\", \"come\", \"miss\", \"cheat\", \"takeoff\", \"backxel\", \"rotat\", \"homophob\", \"look\", \"stop\", \"beij\", \"think\", \"pay\", \"tribut\", \"michel\", \"olympian\", \"ugli\", \"kwan\", \"hetti\", \"mother\", \"know\", \"olymp\", \"wang\", \"trusova\", \"alexandra\", \"messag\", \"leak\", \"fuck\", \"just\", \"watch\", \"skate\", \"chines\", \"elton\", \"john\", \"program\", \"perform\", \"damn\", \"white\", \"eileen\", \"veri\", \"world\", \"liter\", \"time\", \"attack\", \"couldn\", \"welcom\", \"mad\", \"yurio\", \"theme\", \"quad\", \"yuzu\", \"thing\", \"half\", \"shit\", \"peopl\", \"china\", \"costum\", \"thi\", \"becaus\", \"olymp\", \"like\"], \"Freq\": [1181.0, 1165.0, 859.0, 513.0, 380.0, 370.0, 367.0, 367.0, 634.0, 828.0, 418.0, 417.0, 413.0, 355.0, 349.0, 345.0, 338.0, 760.0, 334.0, 332.0, 332.0, 332.0, 121.0, 143.0, 102.0, 126.0, 106.0, 100.0, 96.0, 83.0, 858.5332282512104, 417.5998871211111, 417.1236077411846, 412.31064553476597, 142.4823762944491, 126.00738152280202, 99.4555309280028, 76.80943695835384, 64.21798047251214, 59.98173742438904, 59.77110687188345, 59.398687541621186, 58.657531928543186, 59.27251873195649, 57.728069697739976, 57.87062254443421, 57.23234613154496, 54.78548196454085, 53.45063047763109, 52.270081604010294, 48.10589834474512, 47.536960808432084, 15.609011058702153, 47.394441155446934, 12.59550564759558, 11.8771869760499, 11.16600601007406, 10.52178004722617, 8.57566406671839, 9.568585783511352, 563.1257464373398, 56.417283255485835, 123.00299664951163, 58.88620690688421, 420.0040622863819, 423.497307044452, 57.07382301105309, 513.1058568435152, 354.29004473797113, 344.982135383596, 348.8943538064057, 337.78297922228006, 333.60358659339687, 332.24409974154565, 332.2440797157528, 331.32493158643007, 64.63831509658026, 61.23012206349281, 69.9600311615438, 31.803995149536814, 14.206119397396634, 15.431528718558301, 12.541235089961495, 10.077665248324918, 9.350048781955987, 9.06759633681508, 8.896488304721164, 8.414825189818151, 7.759650332138454, 7.291859691782017, 7.176268143855155, 6.948779270610868, 6.066644024284483, 6.539958824769889, 5.959929358021274, 5.526352906495595, 5.520869732792638, 5.617687698789936, 6.135246978171455, 404.8405658766642, 339.9078290800576, 17.597926924863888, 9.36105580570812, 9.044071372211269, 1181.1715401949862, 1164.9642350505317, 96.21424520959563, 99.49958234412225, 80.32728682311196, 73.00950360463467, 71.60217076730875, 61.19678755386434, 105.11290423415292, 55.02721804359868, 57.95737098297283, 52.34731393208713, 49.271672991215915, 43.35331903700106, 40.050576581786814, 40.05056805142161, 40.05055329773965, 34.55164809858004, 30.350633152437638, 25.656800561367195, 21.075483399045112, 19.234084356215554, 16.276745949099194, 16.276744066707483, 15.049627896583425, 15.032107446492589, 16.152404064024417, 14.383609222980729, 13.592875781906601, 13.592867444589835, 74.63560196150286, 101.25091325893928, 18.38105394404383, 379.71065629239564, 370.1234738621787, 367.1541273191267, 367.15412511863747, 101.70232228793778, 82.68170550610583, 48.889369548197514, 119.35791395205678, 39.084736215237186, 33.03568273152998, 30.73658831013515, 28.963562406655754, 27.094890168812103, 25.274734080984576, 24.97982309857016, 24.93631198909831, 24.212610298716196, 23.50402400347606, 23.209392769580152, 22.92723432599103, 22.452944531014914, 20.567115880209638, 19.79993613444637, 19.07590377462278, 19.075902208268023, 19.075902727722255, 18.70709372282247, 18.332460516741683, 18.662107659153786, 17.671647271384817, 46.77482505411206, 41.49615722874984, 41.55459769213342, 24.15838988749954, 71.11261748271505, 23.60164170339189, 34.11671254888056, 23.838077270265657], \"Total\": [1181.0, 1165.0, 859.0, 513.0, 380.0, 370.0, 367.0, 367.0, 634.0, 828.0, 418.0, 417.0, 413.0, 355.0, 349.0, 345.0, 338.0, 760.0, 334.0, 332.0, 332.0, 332.0, 121.0, 143.0, 102.0, 126.0, 106.0, 100.0, 96.0, 83.0, 859.2434417370092, 418.30686720333546, 417.8304868606731, 413.01738679513267, 143.20146890193072, 126.72085862809138, 100.293599754322, 77.56404200148944, 64.93952020670153, 60.688766667984446, 60.478796907262605, 60.107620051273365, 59.36431713491743, 59.993973554781014, 58.43469615921588, 58.58217670387482, 57.94869345066073, 55.49461726361042, 54.16094520477064, 52.978826572374125, 48.81590544062351, 48.246570507050535, 16.358973926204126, 49.84338690173742, 13.305744700897904, 12.591865510552417, 11.877432493135634, 11.286312892234992, 9.30554941691114, 10.38968108851931, 634.8188898585731, 62.80013763500372, 147.33411681236447, 71.58589543121141, 760.3788400647333, 828.8047479261269, 99.09483158068444, 513.866220122602, 355.04887774215604, 345.7351238496417, 349.6587386295017, 338.5339224355713, 334.353526701139, 332.99364270147015, 332.9936443648136, 332.0744991673549, 65.38828596546234, 61.98026602896137, 71.04034546804145, 32.55365067126672, 14.982468031161885, 16.281113379772954, 13.312586564681608, 10.896486284953218, 10.119505420212617, 9.852993181621336, 9.682373963142402, 9.185484575778318, 8.555174617085951, 8.07234653445434, 7.955488480856927, 7.703807382943688, 6.8591550469529645, 7.394320677082618, 6.754952891625677, 6.299763086659778, 6.2993897498456075, 6.412680316144298, 7.0845199861240165, 828.8047479261269, 760.3788400647333, 25.728487672754774, 12.453657084862709, 23.228281355009848, 1181.9390094545342, 1165.730876784225, 96.98159742026354, 100.3062675203562, 81.11366844924464, 73.78698740697259, 72.37584805528748, 61.966521704304576, 106.48685493798061, 55.79334316763918, 58.768208452030166, 53.12276540230073, 50.0422467172357, 44.122467007600065, 40.81805461271517, 40.81805618416472, 40.81805971387839, 35.35732379777187, 31.145397314477076, 26.463974578876964, 21.879569390054463, 20.047841675605568, 17.04288269956446, 17.042886618815665, 15.817593863826483, 15.803053689928486, 16.987803974392968, 15.150752703300968, 14.359038475478032, 14.35904126856352, 95.51368851126577, 136.10729088334108, 37.04919725227535, 380.4583009975571, 370.8704622126546, 367.90098252156025, 367.90098117961037, 102.50338523813801, 83.44014830942798, 49.65688127921014, 121.44886803401177, 39.876532089343414, 33.78304706019676, 31.4836385183777, 29.712653878587467, 27.85187925730342, 26.028733515404088, 25.730426400311462, 25.687328504990063, 24.96973873861154, 24.25359584833624, 23.96587264395541, 23.682305218980026, 23.202210743760336, 21.314247086438225, 20.547231643197456, 19.822677551724098, 19.822677238082136, 19.822678256202344, 19.460621515672294, 19.08784023371156, 19.43321536304365, 18.420859111711902, 49.04047559315955, 52.83536960363308, 99.09483158068444, 37.11378871568569, 634.8188898585731, 36.62317571759738, 136.10729088334108, 147.33411681236447], \"Category\": [\"Default\", \"Default\", \"Default\", \"Default\", \"Default\", \"Default\", \"Default\", \"Default\", \"Default\", \"Default\", \"Default\", \"Default\", \"Default\", \"Default\", \"Default\", \"Default\", \"Default\", \"Default\", \"Default\", \"Default\", \"Default\", \"Default\", \"Default\", \"Default\", \"Default\", \"Default\", \"Default\", \"Default\", \"Default\", \"Default\", \"Topic1\", \"Topic1\", \"Topic1\", \"Topic1\", \"Topic1\", \"Topic1\", \"Topic1\", \"Topic1\", \"Topic1\", \"Topic1\", \"Topic1\", \"Topic1\", \"Topic1\", \"Topic1\", \"Topic1\", \"Topic1\", \"Topic1\", \"Topic1\", \"Topic1\", \"Topic1\", \"Topic1\", \"Topic1\", \"Topic1\", \"Topic1\", \"Topic1\", \"Topic1\", \"Topic1\", \"Topic1\", \"Topic1\", \"Topic1\", \"Topic1\", \"Topic1\", \"Topic1\", \"Topic1\", \"Topic1\", \"Topic1\", \"Topic1\", \"Topic2\", \"Topic2\", \"Topic2\", \"Topic2\", \"Topic2\", \"Topic2\", \"Topic2\", \"Topic2\", \"Topic2\", \"Topic2\", \"Topic2\", \"Topic2\", \"Topic2\", \"Topic2\", \"Topic2\", \"Topic2\", \"Topic2\", \"Topic2\", \"Topic2\", \"Topic2\", \"Topic2\", \"Topic2\", \"Topic2\", \"Topic2\", \"Topic2\", \"Topic2\", \"Topic2\", \"Topic2\", \"Topic2\", \"Topic2\", \"Topic2\", \"Topic2\", \"Topic2\", \"Topic2\", \"Topic2\", \"Topic2\", \"Topic2\", \"Topic3\", \"Topic3\", \"Topic3\", \"Topic3\", \"Topic3\", \"Topic3\", \"Topic3\", \"Topic3\", \"Topic3\", \"Topic3\", \"Topic3\", \"Topic3\", \"Topic3\", \"Topic3\", \"Topic3\", \"Topic3\", \"Topic3\", \"Topic3\", \"Topic3\", \"Topic3\", \"Topic3\", \"Topic3\", \"Topic3\", \"Topic3\", \"Topic3\", \"Topic3\", \"Topic3\", \"Topic3\", \"Topic3\", \"Topic3\", \"Topic3\", \"Topic3\", \"Topic3\", \"Topic4\", \"Topic4\", \"Topic4\", \"Topic4\", \"Topic4\", \"Topic4\", \"Topic4\", \"Topic4\", \"Topic4\", \"Topic4\", \"Topic4\", \"Topic4\", \"Topic4\", \"Topic4\", \"Topic4\", \"Topic4\", \"Topic4\", \"Topic4\", \"Topic4\", \"Topic4\", \"Topic4\", \"Topic4\", \"Topic4\", \"Topic4\", \"Topic4\", \"Topic4\", \"Topic4\", \"Topic4\", \"Topic4\", \"Topic4\", \"Topic4\", \"Topic4\", \"Topic4\", \"Topic4\", \"Topic4\", \"Topic4\", \"Topic4\", \"Topic4\"], \"logprob\": [30.0, 29.0, 28.0, 27.0, 26.0, 25.0, 24.0, 23.0, 22.0, 21.0, 20.0, 19.0, 18.0, 17.0, 16.0, 15.0, 14.0, 13.0, 12.0, 11.0, 10.0, 9.0, 8.0, 7.0, 6.0, 5.0, 4.0, 3.0, 2.0, 1.0, -1.8568, -2.5775, -2.5786, -2.5902, -3.6528, -3.7756, -4.0123, -4.2706, -4.4497, -4.5179, -4.5215, -4.5277, -4.5403, -4.5298, -4.5562, -4.5538, -4.5649, -4.6086, -4.6332, -4.6556, -4.7386, -4.7505, -5.8641, -4.7535, -6.0786, -6.1374, -6.1991, -6.2585, -6.463, -6.3535, -2.2785, -4.5792, -3.7998, -4.5364, -2.5717, -2.5634, -4.5676, -2.201, -2.5713, -2.5979, -2.5867, -2.619, -2.6315, -2.6356, -2.6356, -2.6383, -4.2726, -4.3268, -4.1935, -4.9818, -5.7878, -5.705, -5.9124, -6.1311, -6.2061, -6.2367, -6.2558, -6.3114, -6.3925, -6.4547, -6.4707, -6.5029, -6.6386, -6.5635, -6.6564, -6.7319, -6.7329, -6.7155, -6.6274, -2.4379, -2.6128, -5.5737, -6.2049, -6.2393, -1.3015, -1.3153, -3.8092, -3.7756, -3.9896, -4.0851, -4.1046, -4.2616, -3.7207, -4.3679, -4.316, -4.4178, -4.4784, -4.6063, -4.6856, -4.6856, -4.6856, -4.8333, -4.9629, -5.1309, -5.3276, -5.419, -5.586, -5.586, -5.6644, -5.6655, -5.5937, -5.7096, -5.7662, -5.7662, -4.0631, -3.7581, -5.4644, -2.3906, -2.4161, -2.4242, -2.4242, -3.7079, -3.915, -4.4404, -3.5478, -4.6642, -4.8324, -4.9045, -4.9639, -5.0306, -5.1002, -5.1119, -5.1136, -5.1431, -5.1728, -5.1854, -5.1976, -5.2185, -5.3063, -5.3443, -5.3815, -5.3815, -5.3815, -5.4011, -5.4213, -5.4035, -5.458, -4.4846, -4.6044, -4.603, -5.1453, -4.0657, -5.1686, -4.8002, -5.1587], \"loglift\": [30.0, 29.0, 28.0, 27.0, 26.0, 25.0, 24.0, 23.0, 22.0, 21.0, 20.0, 19.0, 18.0, 17.0, 16.0, 15.0, 14.0, 13.0, 12.0, 11.0, 10.0, 9.0, 8.0, 7.0, 6.0, 5.0, 4.0, 3.0, 2.0, 1.0, 1.2191, 1.2183, 1.2183, 1.2182, 1.2149, 1.2143, 1.2116, 1.2102, 1.2088, 1.2082, 1.2082, 1.2081, 1.208, 1.2079, 1.2078, 1.2077, 1.2075, 1.2071, 1.2068, 1.2065, 1.2053, 1.2051, 1.173, 1.1696, 1.1651, 1.1615, 1.1582, 1.1498, 1.1383, 1.1376, 1.1001, 1.1128, 1.0395, 1.0247, 0.6264, 0.5485, 0.6682, 1.389, 1.3884, 1.3883, 1.3883, 1.3883, 1.3883, 1.3882, 1.3882, 1.3882, 1.379, 1.3783, 1.3752, 1.3672, 1.3373, 1.3369, 1.3308, 1.3124, 1.3114, 1.3074, 1.3059, 1.3029, 1.2929, 1.2888, 1.2874, 1.2874, 1.2677, 1.2677, 1.2653, 1.2595, 1.2586, 1.2581, 1.2466, 0.674, 0.5854, 1.0107, 1.105, 0.4472, 1.4556, 1.4556, 1.4483, 1.4481, 1.4465, 1.4456, 1.4455, 1.4437, 1.4432, 1.4424, 1.4423, 1.4415, 1.4407, 1.4386, 1.4372, 1.4372, 1.4372, 1.4332, 1.4304, 1.4252, 1.4188, 1.4148, 1.4102, 1.4102, 1.4064, 1.4062, 1.4058, 1.4042, 1.4014, 1.4014, 1.2096, 1.1604, 0.7553, 1.5, 1.5, 1.4999, 1.4999, 1.4941, 1.4928, 1.4864, 1.4846, 1.4819, 1.4796, 1.478, 1.4764, 1.4744, 1.4726, 1.4724, 1.4723, 1.4712, 1.4706, 1.4699, 1.4696, 1.4692, 1.4663, 1.4649, 1.4636, 1.4636, 1.4636, 1.4625, 1.4616, 1.4615, 1.4605, 1.4547, 1.2604, 0.6329, 1.0726, -0.6871, 1.0626, 0.1183, -0.3194]}, \"token.table\": {\"Topic\": [2, 4, 2, 1, 1, 1, 2, 4, 3, 1, 3, 4, 2, 2, 3, 1, 2, 1, 1, 3, 3, 1, 4, 4, 1, 2, 3, 1, 1, 1, 4, 4, 2, 4, 2, 1, 2, 2, 4, 4, 2, 2, 4, 1, 1, 2, 1, 3, 4, 4, 2, 3, 2, 4, 1, 3, 2, 1, 2, 3, 3, 2, 1, 1, 1, 4, 3, 4, 3, 4, 1, 3, 4, 1, 4, 4, 3, 4, 2, 2, 1, 4, 4, 3, 3, 1, 3, 2, 3, 4, 2, 3, 1, 4, 3, 3, 4, 4, 2, 2, 4, 4, 2, 4, 2, 2, 3, 1, 1, 2, 2, 3, 3, 1, 2, 1, 4, 1, 3, 4, 3, 2, 1, 3, 1, 2, 3, 1, 4, 1, 4, 4, 3, 4, 3, 4, 1, 1, 3, 1, 1, 2, 4, 2, 1, 2, 3, 4, 3, 1, 4, 4, 4, 2, 2, 3, 3, 4, 3, 4, 4, 1], \"Freq\": [0.9524167682917238, 0.9976529211642757, 0.9970160310166614, 0.9997166789699121, 0.9780564522063873, 0.5103735241122229, 0.4886555018095752, 0.9481855088277034, 0.979958472777984, 0.05461022865472049, 0.3003562576009627, 0.6553227438566459, 0.8798956867128785, 0.9466724944314703, 0.9597995109330497, 0.9834321099956247, 0.934425487902363, 0.9910871128048169, 0.9920832269861983, 0.9857806841713094, 0.9745601938484827, 0.5752065883838733, 0.42383643354601186, 0.9780188485954711, 0.5523562438484535, 0.44714553073446234, 0.9788647034129722, 0.9938630282887034, 0.9975366974184132, 0.32332996482593934, 0.6466599296518787, 0.985256477267819, 0.9841842235962117, 0.9604770045843655, 0.9134280146247931, 0.9261260803929863, 0.9829926702581656, 0.9765194717673497, 0.9732425072986262, 0.9768213015598778, 0.9177270303922502, 0.6996136045361551, 0.3109393797938467, 0.9746318487739272, 0.9871018713308647, 0.997873736861166, 0.9832860738060892, 0.986037197371952, 0.009390830451161446, 0.9950890866972976, 0.8747433115198896, 0.9869772093743683, 0.998942655982645, 0.9771531224922989, 0.9943114445727755, 0.9948069961819257, 0.9983143081045581, 0.9671648171191419, 0.9351065709427853, 0.9749956463943468, 0.9898939241042223, 0.90864161732523, 0.9815241930465003, 0.9925609922223011, 0.9886508376129549, 0.9846384172497918, 0.9869281628236597, 0.9947249816983097, 0.7852277633603669, 0.20939407022943118, 0.9948893671724397, 0.9240464994818213, 0.9975510226237464, 0.8348371895196895, 0.16289506136969553, 0.9596979981365703, 0.9632241867743113, 0.9584981620380267, 0.9970458215532856, 0.8709393537163642, 0.8917177908983842, 0.09554119188196974, 0.9975510189850949, 0.9483111103455342, 0.979172663387299, 0.9529962013923662, 0.9749954567405852, 0.846916941691435, 0.7420616437554995, 0.24980292958105926, 0.9967642828038615, 0.9491836384482903, 0.9429535776261965, 0.040125684154306236, 0.9388083155914047, 0.20819386866262432, 0.7759953286515998, 0.969413939740528, 0.997016026036446, 0.9295241057885211, 0.9760151388193216, 0.9763305855724422, 0.7226792851827764, 0.24089309506092543, 0.9981160527201932, 0.9853555685689976, 0.014076508122414252, 0.9855323814572228, 0.9900622213678121, 0.9356462047382353, 0.9524732137977421, 0.9799583880367482, 0.999205534763619, 0.9927280478565234, 0.8882371344792626, 0.020391319372512078, 0.9583920105080677, 0.9815727182289278, 0.016467835661011676, 0.9798362218301947, 0.9893343334017426, 0.921312913319272, 0.9785649013254595, 0.982467691030534, 0.998012383282721, 0.8893715281799716, 0.9799585105052914, 0.9992664064891235, 0.9584981279739565, 0.8868671191013658, 0.11184292265754346, 0.977707478924589, 0.947732943398062, 0.9711892397014967, 0.9388080996992435, 0.9987953975603754, 0.9836287344171362, 0.9624934504534589, 0.9418521678327604, 0.9770216017388886, 0.6027135536215854, 0.3874587130424477, 0.9611634407246721, 0.9940618421215777, 0.3778759335774866, 0.13495569056338808, 0.4858404860281971, 0.9867715961556942, 0.999373031289828, 0.8241847034894535, 0.1676307871503973, 0.9733671351596103, 0.97161234761727, 0.8671580153456796, 0.9984228391892606, 0.989878518746089, 0.9844025180416504, 0.9895439896862289, 0.9862702739188587, 0.9584981772037504, 0.9430087311926314, 0.9916099400994725], \"Term\": [\"aapi\", \"alexandra\", \"america\", \"american\", \"anyon\", \"asian\", \"asian\", \"attack\", \"backxel\", \"becaus\", \"becaus\", \"becaus\", \"becom\", \"befor\", \"beij\", \"bitch\", \"blame\", \"boyang\", \"broke\", \"captur\", \"cheat\", \"china\", \"china\", \"chines\", \"chloe\", \"chloe\", \"come\", \"compon\", \"contempt\", \"costum\", \"costum\", \"couldn\", \"crime\", \"damn\", \"depress\", \"design\", \"destroy\", \"domin\", \"eileen\", \"elton\", \"embarrass\", \"everyon\", \"everyon\", \"fact\", \"fan\", \"feel\", \"fight\", \"figur\", \"figur\", \"fuck\", \"girl\", \"gold\", \"great\", \"half\", \"hanyu\", \"hard\", \"hate\", \"hater\", \"hear\", \"hetti\", \"homophob\", \"homosexu\", \"honey\", \"improp\", \"inflat\", \"john\", \"jump\", \"just\", \"know\", \"know\", \"kpop\", \"kwan\", \"leak\", \"like\", \"like\", \"liter\", \"look\", \"mad\", \"make\", \"male\", \"media\", \"media\", \"messag\", \"michel\", \"miss\", \"money\", \"mother\", \"okay\", \"olymp\", \"olymp\", \"olympi\", \"olympian\", \"outfit\", \"outfit\", \"pay\", \"peopl\", \"peopl\", \"perform\", \"perpetu\", \"poor\", \"program\", \"quad\", \"racism\", \"racism\", \"racist\", \"real\", \"real\", \"record\", \"report\", \"respect\", \"rise\", \"rotat\", \"scare\", \"score\", \"shame\", \"shit\", \"shit\", \"shock\", \"skate\", \"skate\", \"skater\", \"sport\", \"stan\", \"stop\", \"stori\", \"straight\", \"takeoff\", \"team\", \"theme\", \"thi\", \"thi\", \"thing\", \"think\", \"time\", \"tribut\", \"trusova\", \"tweet\", \"twitter\", \"ugli\", \"ugliest\", \"vera\", \"vera\", \"veri\", \"victim\", \"wang\", \"wang\", \"wang\", \"watch\", \"way\", \"weird\", \"weird\", \"welcom\", \"white\", \"win\", \"wonder\", \"word\", \"work\", \"world\", \"year\", \"yurio\", \"yuzu\", \"yuzuru\"]}, \"R\": 30, \"lambda.step\": 0.01, \"plot.opts\": {\"xlab\": \"PC1\", \"ylab\": \"PC2\"}, \"topic.order\": [4, 3, 1, 2]};\n",
       "\n",
       "function LDAvis_load_lib(url, callback){\n",
       "  var s = document.createElement('script');\n",
       "  s.src = url;\n",
       "  s.async = true;\n",
       "  s.onreadystatechange = s.onload = callback;\n",
       "  s.onerror = function(){console.warn(\"failed to load library \" + url);};\n",
       "  document.getElementsByTagName(\"head\")[0].appendChild(s);\n",
       "}\n",
       "\n",
       "if(typeof(LDAvis) !== \"undefined\"){\n",
       "   // already loaded: just create the visualization\n",
       "   !function(LDAvis){\n",
       "       new LDAvis(\"#\" + \"ldavis_el186151405128635296643751020019\", ldavis_el186151405128635296643751020019_data);\n",
       "   }(LDAvis);\n",
       "}else if(typeof define === \"function\" && define.amd){\n",
       "   // require.js is available: use it to load d3/LDAvis\n",
       "   require.config({paths: {d3: \"https://d3js.org/d3.v5\"}});\n",
       "   require([\"d3\"], function(d3){\n",
       "      window.d3 = d3;\n",
       "      LDAvis_load_lib(\"https://cdn.jsdelivr.net/gh/bmabey/pyLDAvis@3.3.1/pyLDAvis/js/ldavis.v3.0.0.js\", function(){\n",
       "        new LDAvis(\"#\" + \"ldavis_el186151405128635296643751020019\", ldavis_el186151405128635296643751020019_data);\n",
       "      });\n",
       "    });\n",
       "}else{\n",
       "    // require.js not available: dynamically load d3 & LDAvis\n",
       "    LDAvis_load_lib(\"https://d3js.org/d3.v5.js\", function(){\n",
       "         LDAvis_load_lib(\"https://cdn.jsdelivr.net/gh/bmabey/pyLDAvis@3.3.1/pyLDAvis/js/ldavis.v3.0.0.js\", function(){\n",
       "                 new LDAvis(\"#\" + \"ldavis_el186151405128635296643751020019\", ldavis_el186151405128635296643751020019_data);\n",
       "            })\n",
       "         });\n",
       "}\n",
       "</script>"
      ],
      "text/plain": [
       "PreparedData(topic_coordinates=                x           y  topics  cluster       Freq\n",
       "topic                                                    \n",
       "3      269.562408 -124.803398       1        1  29.524169\n",
       "2        1.782994 -295.079681       2        1  24.895036\n",
       "0      220.811432 -343.832123       3        1  23.311833\n",
       "1       50.533993  -76.050934       4        1  22.268963, topic_info=         Term         Freq        Total Category  logprob  loglift\n",
       "383     scare  1181.000000  1181.000000  Default  30.0000  30.0000\n",
       "482       way  1165.000000  1165.000000  Default  29.0000  29.0000\n",
       "15   american   859.000000   859.000000  Default  28.0000  28.0000\n",
       "210      hate   513.000000   513.000000  Default  27.0000  27.0000\n",
       "455   trusova   380.000000   380.000000  Default  26.0000  26.0000\n",
       "..        ...          ...          ...      ...      ...      ...\n",
       "103    costum    24.158390    37.113789   Topic4  -5.1453   1.0726\n",
       "438       thi    71.112617   634.818890   Topic4  -4.0657  -0.6871\n",
       "39     becaus    23.601642    36.623176   Topic4  -5.1686   1.0626\n",
       "311     olymp    34.116713   136.107291   Topic4  -4.8002   0.1183\n",
       "265      like    23.838077   147.334117   Topic4  -5.1587  -0.3194\n",
       "\n",
       "[175 rows x 6 columns], token_table=      Topic      Freq       Term\n",
       "term                            \n",
       "0         2  0.952417       aapi\n",
       "8         4  0.997653  alexandra\n",
       "14        2  0.997016    america\n",
       "15        1  0.999717   american\n",
       "21        1  0.978056      anyon\n",
       "...     ...       ...        ...\n",
       "501       4  0.989544      world\n",
       "507       3  0.986270       year\n",
       "510       4  0.958498      yurio\n",
       "511       4  0.943009       yuzu\n",
       "512       1  0.991610     yuzuru\n",
       "\n",
       "[162 rows x 3 columns], R=30, lambda_step=0.01, plot_opts={'xlab': 'PC1', 'ylab': 'PC2'}, topic_order=[4, 3, 1, 2])"
      ]
     },
     "execution_count": 17,
     "metadata": {},
     "output_type": "execute_result"
    }
   ],
   "source": [
    "!pip install pyLDAvis\n",
    "import pyLDAvis\n",
    "import pyLDAvis.sklearn\n",
    "pyLDAvis.enable_notebook()\n",
    "pyLDAvis.sklearn.prepare(lda_model, data_matrix, vectorizer, mds='tsne')"
   ]
  },
  {
   "cell_type": "code",
   "execution_count": 18,
   "id": "6f9a3975",
   "metadata": {},
   "outputs": [
    {
     "data": {
      "text/plain": [
       "<9104x1099 sparse matrix of type '<class 'numpy.int64'>'\n",
       "\twith 39146 stored elements in Compressed Sparse Row format>"
      ]
     },
     "execution_count": 18,
     "metadata": {},
     "output_type": "execute_result"
    }
   ],
   "source": [
    "from sklearn.decomposition import LatentDirichletAllocation\n",
    "from sklearn.feature_extraction.text import CountVectorizer\n",
    "\n",
    "from sklearn.decomposition import LatentDirichletAllocation\n",
    "vectorizer = CountVectorizer(\n",
    "analyzer='word',       \n",
    "min_df=3,# minimum required occurences of a word \n",
    "stop_words='english',# remove stop words\n",
    "token_pattern='[a-zA-Z0-9]{3,}',# num chars > 3\n",
    "max_features=5000,# max number of unique words\n",
    "                            )\n",
    "\n",
    "data_matrix = vectorizer.fit_transform(docs_neutral)\n",
    "data_matrix                                     "
   ]
  },
  {
   "cell_type": "code",
   "execution_count": 23,
   "id": "e6fcf5da",
   "metadata": {},
   "outputs": [],
   "source": [
    "lda_model = LatentDirichletAllocation(\n",
    "n_components=3, # Number of topics\n",
    "learning_method='online',\n",
    "random_state=20,       \n",
    "n_jobs = -1  # Use all available CPUs\n",
    "                                     )\n",
    "lda_output = lda_model.fit_transform(data_matrix)"
   ]
  },
  {
   "cell_type": "markdown",
   "id": "bf2092a1",
   "metadata": {},
   "source": [
    "## Neutral Output"
   ]
  },
  {
   "cell_type": "code",
   "execution_count": 24,
   "id": "a6f7bdf5",
   "metadata": {},
   "outputs": [
    {
     "name": "stdout",
     "output_type": "stream",
     "text": [
      "Requirement already satisfied: pyLDAvis in /Users/troyrichard/opt/anaconda3/lib/python3.8/site-packages (3.3.1)\n",
      "Requirement already satisfied: scikit-learn in /Users/troyrichard/opt/anaconda3/lib/python3.8/site-packages (from pyLDAvis) (1.0.1)\n",
      "Requirement already satisfied: funcy in /Users/troyrichard/opt/anaconda3/lib/python3.8/site-packages (from pyLDAvis) (1.17)\n",
      "Requirement already satisfied: gensim in /Users/troyrichard/opt/anaconda3/lib/python3.8/site-packages (from pyLDAvis) (4.1.2)\n",
      "Requirement already satisfied: scipy in /Users/troyrichard/opt/anaconda3/lib/python3.8/site-packages (from pyLDAvis) (1.7.1)\n",
      "Requirement already satisfied: numpy>=1.20.0 in /Users/troyrichard/opt/anaconda3/lib/python3.8/site-packages (from pyLDAvis) (1.21.2)\n",
      "Requirement already satisfied: joblib in /Users/troyrichard/opt/anaconda3/lib/python3.8/site-packages (from pyLDAvis) (1.1.0)\n",
      "Requirement already satisfied: sklearn in /Users/troyrichard/opt/anaconda3/lib/python3.8/site-packages (from pyLDAvis) (0.0)\n",
      "Requirement already satisfied: setuptools in /Users/troyrichard/opt/anaconda3/lib/python3.8/site-packages (from pyLDAvis) (58.0.4)\n",
      "Requirement already satisfied: pandas>=1.2.0 in /Users/troyrichard/opt/anaconda3/lib/python3.8/site-packages (from pyLDAvis) (1.3.4)\n",
      "Requirement already satisfied: jinja2 in /Users/troyrichard/opt/anaconda3/lib/python3.8/site-packages (from pyLDAvis) (3.0.2)\n",
      "Requirement already satisfied: future in /Users/troyrichard/opt/anaconda3/lib/python3.8/site-packages (from pyLDAvis) (0.18.2)\n",
      "Requirement already satisfied: numexpr in /Users/troyrichard/opt/anaconda3/lib/python3.8/site-packages (from pyLDAvis) (2.7.3)\n",
      "Requirement already satisfied: python-dateutil>=2.7.3 in /Users/troyrichard/opt/anaconda3/lib/python3.8/site-packages (from pandas>=1.2.0->pyLDAvis) (2.8.2)\n",
      "Requirement already satisfied: pytz>=2017.3 in /Users/troyrichard/opt/anaconda3/lib/python3.8/site-packages (from pandas>=1.2.0->pyLDAvis) (2021.3)\n",
      "Requirement already satisfied: six>=1.5 in /Users/troyrichard/opt/anaconda3/lib/python3.8/site-packages (from python-dateutil>=2.7.3->pandas>=1.2.0->pyLDAvis) (1.16.0)\n",
      "Requirement already satisfied: smart-open>=1.8.1 in /Users/troyrichard/opt/anaconda3/lib/python3.8/site-packages (from gensim->pyLDAvis) (5.2.1)\n",
      "Requirement already satisfied: MarkupSafe>=2.0 in /Users/troyrichard/opt/anaconda3/lib/python3.8/site-packages (from jinja2->pyLDAvis) (2.0.1)\n",
      "Requirement already satisfied: threadpoolctl>=2.0.0 in /Users/troyrichard/opt/anaconda3/lib/python3.8/site-packages (from scikit-learn->pyLDAvis) (2.2.0)\n"
     ]
    },
    {
     "name": "stderr",
     "output_type": "stream",
     "text": [
      "/Users/troyrichard/opt/anaconda3/lib/python3.8/site-packages/sklearn/utils/deprecation.py:87: FutureWarning: Function get_feature_names is deprecated; get_feature_names is deprecated in 1.0 and will be removed in 1.2. Please use get_feature_names_out instead.\n",
      "  warnings.warn(msg, category=FutureWarning)\n",
      "/Users/troyrichard/opt/anaconda3/lib/python3.8/site-packages/pyLDAvis/_prepare.py:246: FutureWarning: In a future version of pandas all arguments of DataFrame.drop except for the argument 'labels' will be keyword-only\n",
      "  default_term_info = default_term_info.sort_values(\n",
      "/Users/troyrichard/opt/anaconda3/lib/python3.8/site-packages/sklearn/manifold/_t_sne.py:780: FutureWarning: The default initialization in TSNE will change from 'random' to 'pca' in 1.2.\n",
      "  warnings.warn(\n",
      "/Users/troyrichard/opt/anaconda3/lib/python3.8/site-packages/sklearn/manifold/_t_sne.py:790: FutureWarning: The default learning rate in TSNE will change from 200.0 to 'auto' in 1.2.\n",
      "  warnings.warn(\n",
      "/Users/troyrichard/opt/anaconda3/lib/python3.8/site-packages/sklearn/manifold/_t_sne.py:819: FutureWarning: 'square_distances' has been introduced in 0.24 to help phase out legacy squaring behavior. The 'legacy' setting will be removed in 1.1 (renaming of 0.26), and the default setting will be changed to True. In 1.3, 'square_distances' will be removed altogether, and distances will be squared by default. Set 'square_distances'=True to silence this warning.\n",
      "  warnings.warn(\n"
     ]
    },
    {
     "data": {
      "text/html": [
       "\n",
       "<link rel=\"stylesheet\" type=\"text/css\" href=\"https://cdn.jsdelivr.net/gh/bmabey/pyLDAvis@3.3.1/pyLDAvis/js/ldavis.v1.0.0.css\">\n",
       "\n",
       "\n",
       "<div id=\"ldavis_el186151405128566140489221208750\"></div>\n",
       "<script type=\"text/javascript\">\n",
       "\n",
       "var ldavis_el186151405128566140489221208750_data = {\"mdsDat\": {\"x\": [-1015.7005615234375, -387.9960021972656, -2184.74560546875], \"y\": [1338.981201171875, -373.316162109375, -60.565799713134766], \"topics\": [1, 2, 3], \"cluster\": [1, 1, 1], \"Freq\": [40.63375892791383, 36.57860853620332, 22.787632535882857]}, \"tinfo\": {\"Term\": [\"thi\", \"american\", \"yuzuru\", \"chines\", \"medalist\", \"hanyu\", \"practic\", \"olymp\", \"winter\", \"asian\", \"figur\", \"athlet\", \"born\", \"gold\", \"costum\", \"week\", \"media\", \"traitor\", \"caught\", \"social\", \"togeth\", \"today\", \"span\", \"beij\", \"thrust\", \"spotlight\", \"descent\", \"look\", \"rocketman\", \"perform\", \"medalist\", \"practic\", \"togeth\", \"rocketman\", \"current\", \"titl\", \"chloe\", \"retir\", \"reason\", \"choreo\", \"look\", \"relearn\", \"figuresk\", \"winterolymp\", \"yuma\", \"shoma\", \"kagiyama\", \"watch\", \"night\", \"rocket\", \"king\", \"think\", \"start\", \"edit\", \"stori\", \"nation\", \"singl\", \"wang\", \"young\", \"girl\", \"vera\", \"score\", \"olymp\", \"beij\", \"gold\", \"just\", \"skate\", \"year\", \"figur\", \"american\", \"chines\", \"winter\", \"asian\", \"athlet\", \"born\", \"costum\", \"week\", \"media\", \"traitor\", \"social\", \"span\", \"thrust\", \"spotlight\", \"descent\", \"perform\", \"blast\", \"thread\", \"chip\", \"bag\", \"eileen\", \"histori\", \"plainli\", \"consecut\", \"data\", \"becom\", \"olympian\", \"statist\", \"scienc\", \"hair\", \"onli\", \"second\", \"said\", \"sport\", \"china\", \"figur\", \"skater\", \"gold\", \"beij\", \"olymp\", \"skate\", \"game\", \"thi\", \"yuzuru\", \"hanyu\", \"caught\", \"agre\", \"lucki\", \"hole\", \"blade\", \"logic\", \"injur\", \"ankl\", \"victori\", \"mark\", \"break\", \"gwendal\", \"marina\", \"anniversari\", \"anissina\", \"peizerat\", \"need\", \"befor\", \"homophob\", \"doe\", \"twitter\", \"happen\", \"today\", \"yuri\", \"underscor\", \"exist\", \"rememb\", \"golden\", \"know\", \"make\"], \"Freq\": [2847.0, 675.0, 397.0, 542.0, 540.0, 321.0, 491.0, 1555.0, 402.0, 324.0, 617.0, 300.0, 283.0, 1011.0, 261.0, 253.0, 245.0, 229.0, 151.0, 221.0, 247.0, 149.0, 217.0, 822.0, 216.0, 216.0, 216.0, 241.0, 224.0, 184.0, 540.0658573515983, 491.1205669468011, 246.67017250205902, 223.95936965844763, 185.8156995624372, 184.9208608657478, 192.26592486369768, 183.73812206550386, 182.61470054956865, 181.75761546457568, 240.6228193419367, 178.29407817914995, 164.49720979139215, 166.0274066886154, 157.53069962836219, 170.27975598957985, 152.89229794332277, 166.7148583502175, 141.2015076091174, 137.32349411885946, 135.04493675761688, 138.5128397650497, 122.5674507326516, 109.50567913099493, 99.99660339487794, 91.92677850830582, 142.6893261659146, 92.52562114173355, 84.25339865481988, 85.27410308366184, 88.3584779258761, 94.90781693698555, 948.9812510490766, 414.878063601599, 476.59432957192234, 150.8383821930549, 302.99428090470093, 132.52826643400354, 132.46739513971664, 674.7929150554335, 541.860168171599, 401.7290962782553, 323.6557289086756, 300.1503494925733, 283.19588670863436, 260.4837022010645, 252.95163484126692, 245.08454011667558, 228.9505248248746, 220.4318334378141, 216.61296411399212, 215.67146673167122, 215.67146672979473, 215.6714667052411, 183.9252198781467, 163.23286130155722, 154.95306801220838, 148.8094317226857, 148.80943171022855, 119.85583845382973, 116.74531666969607, 111.14852764653213, 99.64334479888551, 86.45464195081243, 83.9949840454788, 75.83333165711264, 67.12590626974804, 63.6506410707876, 62.524779801414326, 71.89743744074376, 172.2304091635995, 87.67254487545323, 171.45125490837245, 129.75231184064955, 484.909834097774, 254.51793950252576, 534.0293742352793, 407.32795667455366, 606.2578838533022, 336.07973255195435, 131.23068640618774, 2846.934897029826, 396.581543204419, 320.767538980163, 150.52535400437537, 91.29522236901103, 90.62888789789055, 89.77250834881033, 88.9777669897129, 88.93456614297429, 88.11312503011351, 88.11312503127321, 68.73274325422008, 65.86529423068095, 74.64752220014586, 61.411523357223665, 61.41152296632653, 61.411522858035035, 61.41152264099838, 60.66266718764769, 64.90345338818155, 52.95930316597162, 58.069651852561606, 52.353758956455216, 51.16862973976037, 49.65312428568763, 147.7914712220065, 45.45715957428504, 40.40648273341009, 39.820486852106235, 40.5230271336767, 43.12446161877974, 90.00240923329689, 67.06982334770757], \"Total\": [2847.0, 675.0, 397.0, 542.0, 540.0, 321.0, 491.0, 1555.0, 402.0, 324.0, 617.0, 300.0, 283.0, 1011.0, 261.0, 253.0, 245.0, 229.0, 151.0, 221.0, 247.0, 149.0, 217.0, 822.0, 216.0, 216.0, 216.0, 241.0, 224.0, 184.0, 540.7782972498702, 491.80815770740554, 247.36137553933136, 224.64872388249884, 186.5037891976248, 185.609831068194, 192.9831016058146, 184.42682428404524, 183.30335121460635, 182.4449774922929, 241.53554589276388, 178.98117559548865, 165.19162490300675, 166.73837191845067, 158.2224856811374, 171.04613785401975, 153.58319964903328, 167.48043036595902, 141.90396692895246, 138.0311138428878, 135.74246599731003, 139.25595446709275, 123.25756938581765, 110.19808104102584, 100.71986327264901, 92.63578874927627, 143.81799058094597, 93.27728231148862, 84.9450002797776, 85.9873368444475, 89.11191971540667, 95.87308827673407, 1555.6075915792471, 822.5504891356046, 1011.0061573235805, 190.03028546316213, 639.4338841661839, 168.25987535461158, 617.7747473077633, 675.4821395381936, 542.5502957450408, 402.4135101745313, 324.34720988058467, 300.85265106269935, 283.88195810679605, 261.19102999476155, 253.650459054115, 245.77068365676217, 229.6332670648407, 221.1157431834257, 217.2956191444281, 216.35318362951924, 216.35318362854304, 216.35318363390465, 184.67487421483256, 163.92764024254723, 155.6400542422079, 149.49204710068435, 149.49204709176402, 120.54482891404491, 117.44065994303882, 111.83033450239189, 100.32515886595014, 87.1408133319201, 84.69313401305496, 76.58576081735107, 67.81457539864299, 64.33888752621736, 63.215953776685446, 72.71936487826646, 176.58585952934854, 88.94020149255408, 180.16030914627078, 138.55322910239892, 617.7747473077633, 337.8485113455171, 1011.0061573235805, 822.5504891356046, 1555.6075915792471, 639.4338841661839, 224.88305349719036, 2847.643432508004, 397.2952473155045, 321.48059691762217, 151.2773398962323, 91.99820493981805, 91.33189927165319, 90.47505712156259, 89.67953714402934, 89.6363220847808, 88.81432206398347, 88.81432206587823, 69.43629378468813, 66.57190928804499, 75.47681196475699, 62.112835197035, 62.112835214919464, 62.112835224573956, 62.11283522785621, 61.36397889169717, 65.66271117125643, 53.69050808136262, 58.87144964478682, 53.101545745130764, 51.90071157695945, 50.378523991049065, 149.96386097792183, 46.17432071088808, 41.11550348247343, 40.524596128717306, 41.24339721294542, 43.92618394498094, 94.29558822994314, 97.47134346004357], \"Category\": [\"Default\", \"Default\", \"Default\", \"Default\", \"Default\", \"Default\", \"Default\", \"Default\", \"Default\", \"Default\", \"Default\", \"Default\", \"Default\", \"Default\", \"Default\", \"Default\", \"Default\", \"Default\", \"Default\", \"Default\", \"Default\", \"Default\", \"Default\", \"Default\", \"Default\", \"Default\", \"Default\", \"Default\", \"Default\", \"Default\", \"Topic1\", \"Topic1\", \"Topic1\", \"Topic1\", \"Topic1\", \"Topic1\", \"Topic1\", \"Topic1\", \"Topic1\", \"Topic1\", \"Topic1\", \"Topic1\", \"Topic1\", \"Topic1\", \"Topic1\", \"Topic1\", \"Topic1\", \"Topic1\", \"Topic1\", \"Topic1\", \"Topic1\", \"Topic1\", \"Topic1\", \"Topic1\", \"Topic1\", \"Topic1\", \"Topic1\", \"Topic1\", \"Topic1\", \"Topic1\", \"Topic1\", \"Topic1\", \"Topic1\", \"Topic1\", \"Topic1\", \"Topic1\", \"Topic1\", \"Topic1\", \"Topic1\", \"Topic2\", \"Topic2\", \"Topic2\", \"Topic2\", \"Topic2\", \"Topic2\", \"Topic2\", \"Topic2\", \"Topic2\", \"Topic2\", \"Topic2\", \"Topic2\", \"Topic2\", \"Topic2\", \"Topic2\", \"Topic2\", \"Topic2\", \"Topic2\", \"Topic2\", \"Topic2\", \"Topic2\", \"Topic2\", \"Topic2\", \"Topic2\", \"Topic2\", \"Topic2\", \"Topic2\", \"Topic2\", \"Topic2\", \"Topic2\", \"Topic2\", \"Topic2\", \"Topic2\", \"Topic2\", \"Topic2\", \"Topic2\", \"Topic2\", \"Topic2\", \"Topic2\", \"Topic2\", \"Topic2\", \"Topic2\", \"Topic3\", \"Topic3\", \"Topic3\", \"Topic3\", \"Topic3\", \"Topic3\", \"Topic3\", \"Topic3\", \"Topic3\", \"Topic3\", \"Topic3\", \"Topic3\", \"Topic3\", \"Topic3\", \"Topic3\", \"Topic3\", \"Topic3\", \"Topic3\", \"Topic3\", \"Topic3\", \"Topic3\", \"Topic3\", \"Topic3\", \"Topic3\", \"Topic3\", \"Topic3\", \"Topic3\", \"Topic3\", \"Topic3\", \"Topic3\", \"Topic3\", \"Topic3\", \"Topic3\"], \"logprob\": [30.0, 29.0, 28.0, 27.0, 26.0, 25.0, 24.0, 23.0, 22.0, 21.0, 20.0, 19.0, 18.0, 17.0, 16.0, 15.0, 14.0, 13.0, 12.0, 11.0, 10.0, 9.0, 8.0, 7.0, 6.0, 5.0, 4.0, 3.0, 2.0, 1.0, -3.4076, -3.5026, -4.1912, -4.2878, -4.4745, -4.4793, -4.4404, -4.4857, -4.4919, -4.4966, -4.216, -4.5158, -4.5964, -4.5871, -4.6396, -4.5618, -4.6695, -4.583, -4.7491, -4.7769, -4.7937, -4.7683, -4.8906, -5.0033, -5.0941, -5.1783, -4.7386, -5.1718, -5.2654, -5.2534, -5.2179, -5.1464, -2.8439, -3.6713, -3.5326, -4.683, -3.9855, -4.8125, -4.8129, -3.0797, -3.2991, -3.5983, -3.8144, -3.8898, -3.948, -4.0316, -4.0609, -4.0925, -4.1606, -4.1985, -4.216, -4.2204, -4.2204, -4.2204, -4.3796, -4.4989, -4.551, -4.5915, -4.5915, -4.8078, -4.8341, -4.8833, -4.9925, -5.1345, -5.1634, -5.2656, -5.3876, -5.4407, -5.4586, -5.3189, -4.4453, -5.1205, -4.4498, -4.7285, -3.4102, -4.0548, -3.3137, -3.5845, -3.1868, -3.7768, -4.7172, -1.1669, -3.138, -3.3502, -4.1067, -4.6068, -4.6141, -4.6236, -4.6325, -4.633, -4.6423, -4.6423, -4.8907, -4.9333, -4.8081, -5.0033, -5.0033, -5.0033, -5.0033, -5.0155, -4.948, -5.1514, -5.0592, -5.1629, -5.1858, -5.2158, -4.1251, -5.3041, -5.4219, -5.4365, -5.419, -5.3568, -4.621, -4.9151], \"loglift\": [30.0, 29.0, 28.0, 27.0, 26.0, 25.0, 24.0, 23.0, 22.0, 21.0, 20.0, 19.0, 18.0, 17.0, 16.0, 15.0, 14.0, 13.0, 12.0, 11.0, 10.0, 9.0, 8.0, 7.0, 6.0, 5.0, 4.0, 3.0, 2.0, 1.0, 0.8993, 0.8992, 0.8978, 0.8975, 0.8969, 0.8969, 0.8968, 0.8968, 0.8968, 0.8968, 0.8968, 0.8967, 0.8964, 0.8963, 0.8962, 0.8961, 0.8961, 0.896, 0.8956, 0.8954, 0.8954, 0.8952, 0.895, 0.8943, 0.8934, 0.8929, 0.8927, 0.8925, 0.8924, 0.8922, 0.8921, 0.8905, 0.4063, 0.2161, 0.1485, 0.6696, 0.1537, 0.6619, -0.6392, 1.0047, 1.0044, 1.004, 1.0036, 1.0034, 1.0033, 1.003, 1.0029, 1.0029, 1.0027, 1.0026, 1.0026, 1.0026, 1.0026, 1.0026, 1.0016, 1.0015, 1.0013, 1.0011, 1.0011, 1.0, 0.9998, 0.9996, 0.9989, 0.9978, 0.9974, 0.9958, 0.9955, 0.995, 0.9947, 0.9943, 0.9807, 0.9914, 0.9562, 0.9401, 0.7635, 0.7225, 0.3675, 0.3029, 0.0634, 0.3625, 0.4671, 1.4787, 1.4772, 1.4767, 1.474, 1.4713, 1.4712, 1.4712, 1.4711, 1.4711, 1.471, 1.471, 1.4688, 1.4683, 1.4679, 1.4676, 1.4676, 1.4676, 1.4676, 1.4675, 1.4673, 1.4652, 1.4652, 1.4648, 1.4647, 1.4644, 1.4644, 1.4633, 1.4616, 1.4614, 1.4613, 1.4605, 1.4324, 1.1051]}, \"token.table\": {\"Topic\": [3, 2, 3, 3, 3, 2, 2, 2, 2, 3, 1, 2, 3, 2, 2, 3, 3, 1, 2, 2, 2, 1, 1, 2, 2, 1, 2, 2, 3, 1, 2, 3, 1, 2, 1, 1, 2, 1, 1, 2, 3, 3, 2, 3, 3, 2, 3, 3, 3, 1, 3, 1, 1, 1, 3, 3, 1, 2, 3, 2, 3, 3, 3, 1, 2, 1, 3, 1, 1, 2, 2, 2, 3, 2, 2, 1, 1, 1, 3, 1, 1, 1, 2, 3, 2, 1, 2, 1, 2, 1, 1, 2, 1, 2, 1, 2, 2, 2, 2, 3, 2, 1, 2, 1, 3, 1, 2, 2, 1, 1, 2, 3, 1, 2, 3, 3, 1, 3, 1, 1, 2, 2, 1, 1, 2, 3, 1, 1, 3, 3], \"Freq\": [0.9891497346011149, 0.9992862290355697, 0.982083651087994, 0.9908311852532725, 0.9820836511398906, 0.9989295117392485, 0.9971658848287108, 0.9967085400104129, 0.9918159361897256, 0.9871391032411869, 0.5045283000635158, 0.4948024533153034, 0.9924226064755668, 0.9943411602755051, 0.9968932224059682, 0.9936826695200158, 0.9981666791839245, 0.057739542065003285, 0.9382675585563034, 0.9989857239976524, 0.9967085399509383, 0.9949057632630308, 0.9975610318332183, 0.9967589499022413, 0.9954400042191899, 0.997298772320969, 0.9869083924248592, 0.9983675598021138, 0.9792558629005301, 0.9982025000875279, 0.9954802796689569, 0.9870548708973917, 0.2136701128934948, 0.7850757935859468, 0.9927864084894956, 0.4135482801115644, 0.5825249967162897, 0.9885176482877519, 0.47180721555915545, 0.5281866941479854, 0.9789149918840886, 0.982083651575317, 0.9965838722065585, 0.9985050515576052, 0.9924864017231565, 0.9962478076736578, 0.9947493028832876, 0.9851974148752087, 0.9908311852744108, 0.7946101834871565, 0.20523044474171592, 0.9962027119478823, 0.9945303336589985, 0.04241980006790835, 0.954445501527938, 0.9929010687857212, 0.9977827450167452, 0.004140177365214711, 0.9963660093100002, 0.30778276912021735, 0.6873815177018188, 0.9820836512925406, 0.9914091499829089, 0.9985607831271553, 0.9968642164911805, 0.9931366833719409, 0.9899073437658095, 0.993629727564945, 0.6100510213096727, 0.3895583971692958, 0.9923515701731024, 0.9901076573004909, 0.9940685252444342, 0.9963456089102437, 0.9925750512498545, 0.9983567622969639, 0.9983450863686, 0.9945179955812438, 0.994098516868319, 0.9976856713457916, 0.9925298447996191, 0.9971122743486487, 0.9894288355909246, 0.011243509495351417, 0.9947327729892863, 0.9908932914081798, 0.010430455699033472, 0.022651870374338783, 0.9740304260965676, 0.9938838849731142, 0.9943123208880771, 0.0069532330132033365, 0.4738566527407432, 0.5254648030392399, 0.24567223833381358, 0.754776153917138, 0.9949540310094512, 0.9986395531323087, 0.9491546768004623, 0.044404897160255544, 0.9983675598268551, 0.9979103158767361, 0.9879881958435253, 0.992852817217391, 0.999774047375223, 0.9981619854743573, 0.9958875994658043, 0.9983675598223504, 0.9967144462947657, 0.0066682732324904815, 0.0066682732324904815, 0.9869044384085913, 0.9985390785503863, 0.9972422677561701, 0.9826454869385778, 0.9728690302199767, 0.9875222111816493, 0.9937166320247303, 0.9970273328658669, 0.9971314238630195, 0.9974356086066605, 0.9989724247221422, 0.9955716736948121, 0.7904439470176678, 0.005943187571561413, 0.20801156500464946, 0.9888751512547517, 0.9985938428398491, 0.9745676667721682, 0.9992568566639055], \"Term\": [\"agre\", \"american\", \"anissina\", \"ankl\", \"anniversari\", \"asian\", \"athlet\", \"bag\", \"becom\", \"befor\", \"beij\", \"beij\", \"blade\", \"blast\", \"born\", \"break\", \"caught\", \"china\", \"china\", \"chines\", \"chip\", \"chloe\", \"choreo\", \"consecut\", \"costum\", \"current\", \"data\", \"descent\", \"doe\", \"edit\", \"eileen\", \"exist\", \"figur\", \"figur\", \"figuresk\", \"game\", \"game\", \"girl\", \"gold\", \"gold\", \"golden\", \"gwendal\", \"hair\", \"hanyu\", \"happen\", \"histori\", \"hole\", \"homophob\", \"injur\", \"just\", \"just\", \"kagiyama\", \"king\", \"know\", \"know\", \"logic\", \"look\", \"look\", \"lucki\", \"make\", \"make\", \"marina\", \"mark\", \"medalist\", \"media\", \"nation\", \"need\", \"night\", \"olymp\", \"olymp\", \"olympian\", \"onli\", \"peizerat\", \"perform\", \"plainli\", \"practic\", \"reason\", \"relearn\", \"rememb\", \"retir\", \"rocket\", \"rocketman\", \"said\", \"said\", \"scienc\", \"score\", \"score\", \"second\", \"second\", \"shoma\", \"singl\", \"singl\", \"skate\", \"skate\", \"skater\", \"skater\", \"social\", \"span\", \"sport\", \"sport\", \"spotlight\", \"start\", \"statist\", \"stori\", \"thi\", \"think\", \"thread\", \"thrust\", \"titl\", \"today\", \"today\", \"today\", \"togeth\", \"traitor\", \"twitter\", \"underscor\", \"vera\", \"victori\", \"wang\", \"watch\", \"week\", \"winter\", \"winterolymp\", \"year\", \"year\", \"year\", \"young\", \"yuma\", \"yuri\", \"yuzuru\"]}, \"R\": 30, \"lambda.step\": 0.01, \"plot.opts\": {\"xlab\": \"PC1\", \"ylab\": \"PC2\"}, \"topic.order\": [2, 1, 3]};\n",
       "\n",
       "function LDAvis_load_lib(url, callback){\n",
       "  var s = document.createElement('script');\n",
       "  s.src = url;\n",
       "  s.async = true;\n",
       "  s.onreadystatechange = s.onload = callback;\n",
       "  s.onerror = function(){console.warn(\"failed to load library \" + url);};\n",
       "  document.getElementsByTagName(\"head\")[0].appendChild(s);\n",
       "}\n",
       "\n",
       "if(typeof(LDAvis) !== \"undefined\"){\n",
       "   // already loaded: just create the visualization\n",
       "   !function(LDAvis){\n",
       "       new LDAvis(\"#\" + \"ldavis_el186151405128566140489221208750\", ldavis_el186151405128566140489221208750_data);\n",
       "   }(LDAvis);\n",
       "}else if(typeof define === \"function\" && define.amd){\n",
       "   // require.js is available: use it to load d3/LDAvis\n",
       "   require.config({paths: {d3: \"https://d3js.org/d3.v5\"}});\n",
       "   require([\"d3\"], function(d3){\n",
       "      window.d3 = d3;\n",
       "      LDAvis_load_lib(\"https://cdn.jsdelivr.net/gh/bmabey/pyLDAvis@3.3.1/pyLDAvis/js/ldavis.v3.0.0.js\", function(){\n",
       "        new LDAvis(\"#\" + \"ldavis_el186151405128566140489221208750\", ldavis_el186151405128566140489221208750_data);\n",
       "      });\n",
       "    });\n",
       "}else{\n",
       "    // require.js not available: dynamically load d3 & LDAvis\n",
       "    LDAvis_load_lib(\"https://d3js.org/d3.v5.js\", function(){\n",
       "         LDAvis_load_lib(\"https://cdn.jsdelivr.net/gh/bmabey/pyLDAvis@3.3.1/pyLDAvis/js/ldavis.v3.0.0.js\", function(){\n",
       "                 new LDAvis(\"#\" + \"ldavis_el186151405128566140489221208750\", ldavis_el186151405128566140489221208750_data);\n",
       "            })\n",
       "         });\n",
       "}\n",
       "</script>"
      ],
      "text/plain": [
       "PreparedData(topic_coordinates=                 x            y  topics  cluster       Freq\n",
       "topic                                                      \n",
       "1     -1015.700562  1338.981201       1        1  40.633759\n",
       "0      -387.996002  -373.316162       2        1  36.578609\n",
       "2     -2184.745605   -60.565800       3        1  22.787633, topic_info=          Term         Freq        Total Category  logprob  loglift\n",
       "963        thi  2847.000000  2847.000000  Default  30.0000  30.0000\n",
       "25    american   675.000000   675.000000  Default  29.0000  29.0000\n",
       "1096    yuzuru   397.000000   397.000000  Default  28.0000  28.0000\n",
       "162     chines   542.000000   542.000000  Default  27.0000  27.0000\n",
       "606   medalist   540.000000   540.000000  Default  26.0000  26.0000\n",
       "...        ...          ...          ...      ...      ...      ...\n",
       "327      exist    39.820487    40.524596   Topic3  -5.4365   1.4614\n",
       "784     rememb    40.523027    41.243397   Topic3  -5.4190   1.4613\n",
       "403     golden    43.124462    43.926184   Topic3  -5.3568   1.4605\n",
       "535       know    90.002409    94.295588   Topic3  -4.6210   1.4324\n",
       "583       make    67.069823    97.471343   Topic3  -4.9151   1.1051\n",
       "\n",
       "[144 rows x 6 columns], token_table=      Topic      Freq         Term\n",
       "term                              \n",
       "14        3  0.989150         agre\n",
       "25        2  0.999286     american\n",
       "27        3  0.982084     anissina\n",
       "28        3  0.990831         ankl\n",
       "29        3  0.982084  anniversari\n",
       "...     ...       ...          ...\n",
       "1082      3  0.208012         year\n",
       "1090      1  0.988875        young\n",
       "1092      1  0.998594         yuma\n",
       "1094      3  0.974568         yuri\n",
       "1096      3  0.999257       yuzuru\n",
       "\n",
       "[130 rows x 3 columns], R=30, lambda_step=0.01, plot_opts={'xlab': 'PC1', 'ylab': 'PC2'}, topic_order=[2, 1, 3])"
      ]
     },
     "execution_count": 24,
     "metadata": {},
     "output_type": "execute_result"
    }
   ],
   "source": [
    "!pip install pyLDAvis\n",
    "import pyLDAvis\n",
    "import pyLDAvis.sklearn\n",
    "pyLDAvis.enable_notebook()\n",
    "pyLDAvis.sklearn.prepare(lda_model, data_matrix, vectorizer, mds='tsne')"
   ]
  }
 ],
 "metadata": {
  "kernelspec": {
   "display_name": "Python 3 (ipykernel)",
   "language": "python",
   "name": "python3"
  },
  "language_info": {
   "codemirror_mode": {
    "name": "ipython",
    "version": 3
   },
   "file_extension": ".py",
   "mimetype": "text/x-python",
   "name": "python",
   "nbconvert_exporter": "python",
   "pygments_lexer": "ipython3",
   "version": "3.8.10"
  }
 },
 "nbformat": 4,
 "nbformat_minor": 5
}
